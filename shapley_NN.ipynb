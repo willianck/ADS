{
  "nbformat": 4,
  "nbformat_minor": 0,
  "metadata": {
    "kernelspec": {
      "display_name": "Python 3",
      "language": "python",
      "name": "python3"
    },
    "language_info": {
      "codemirror_mode": {
        "name": "ipython",
        "version": 3
      },
      "file_extension": ".py",
      "mimetype": "text/x-python",
      "name": "python",
      "nbconvert_exporter": "python",
      "pygments_lexer": "ipython3",
      "version": "3.7.4"
    },
    "colab": {
      "name": "shapley_NN.ipynb",
      "provenance": [],
      "collapsed_sections": []
    },
    "widgets": {
      "application/vnd.jupyter.widget-state+json": {
        "c9a3be906d8147d48db4422e5a650105": {
          "model_module": "@jupyter-widgets/controls",
          "model_name": "HBoxModel",
          "state": {
            "_view_name": "HBoxView",
            "_dom_classes": [],
            "_model_name": "HBoxModel",
            "_view_module": "@jupyter-widgets/controls",
            "_model_module_version": "1.5.0",
            "_view_count": null,
            "_view_module_version": "1.5.0",
            "box_style": "",
            "layout": "IPY_MODEL_d1e28a9b4acd4119963c7bda29bab992",
            "_model_module": "@jupyter-widgets/controls",
            "children": [
              "IPY_MODEL_78e8b3bc89334f4b96c502aceb0b8c7e",
              "IPY_MODEL_78e006add0054241ab99625e3f633056"
            ]
          }
        },
        "d1e28a9b4acd4119963c7bda29bab992": {
          "model_module": "@jupyter-widgets/base",
          "model_name": "LayoutModel",
          "state": {
            "_view_name": "LayoutView",
            "grid_template_rows": null,
            "right": null,
            "justify_content": null,
            "_view_module": "@jupyter-widgets/base",
            "overflow": null,
            "_model_module_version": "1.2.0",
            "_view_count": null,
            "flex_flow": null,
            "width": null,
            "min_width": null,
            "border": null,
            "align_items": null,
            "bottom": null,
            "_model_module": "@jupyter-widgets/base",
            "top": null,
            "grid_column": null,
            "overflow_y": null,
            "overflow_x": null,
            "grid_auto_flow": null,
            "grid_area": null,
            "grid_template_columns": null,
            "flex": null,
            "_model_name": "LayoutModel",
            "justify_items": null,
            "grid_row": null,
            "max_height": null,
            "align_content": null,
            "visibility": null,
            "align_self": null,
            "height": null,
            "min_height": null,
            "padding": null,
            "grid_auto_rows": null,
            "grid_gap": null,
            "max_width": null,
            "order": null,
            "_view_module_version": "1.2.0",
            "grid_template_areas": null,
            "object_position": null,
            "object_fit": null,
            "grid_auto_columns": null,
            "margin": null,
            "display": null,
            "left": null
          }
        },
        "78e8b3bc89334f4b96c502aceb0b8c7e": {
          "model_module": "@jupyter-widgets/controls",
          "model_name": "FloatProgressModel",
          "state": {
            "_view_name": "ProgressView",
            "style": "IPY_MODEL_4a97604bc644441ca519de11f0e8fb1e",
            "_dom_classes": [],
            "description": "100%",
            "_model_name": "FloatProgressModel",
            "bar_style": "success",
            "max": 300,
            "_view_module": "@jupyter-widgets/controls",
            "_model_module_version": "1.5.0",
            "value": 300,
            "_view_count": null,
            "_view_module_version": "1.5.0",
            "orientation": "horizontal",
            "min": 0,
            "description_tooltip": null,
            "_model_module": "@jupyter-widgets/controls",
            "layout": "IPY_MODEL_4664a14c70b94cf4b746f39cc0545a06"
          }
        },
        "78e006add0054241ab99625e3f633056": {
          "model_module": "@jupyter-widgets/controls",
          "model_name": "HTMLModel",
          "state": {
            "_view_name": "HTMLView",
            "style": "IPY_MODEL_a1c1585ee415403bb5da810c5c794ad6",
            "_dom_classes": [],
            "description": "",
            "_model_name": "HTMLModel",
            "placeholder": "​",
            "_view_module": "@jupyter-widgets/controls",
            "_model_module_version": "1.5.0",
            "value": " 300/300 [1:08:50&lt;00:00, 13.77s/it]",
            "_view_count": null,
            "_view_module_version": "1.5.0",
            "description_tooltip": null,
            "_model_module": "@jupyter-widgets/controls",
            "layout": "IPY_MODEL_f390c891e63a455583dedd1b7c415f82"
          }
        },
        "4a97604bc644441ca519de11f0e8fb1e": {
          "model_module": "@jupyter-widgets/controls",
          "model_name": "ProgressStyleModel",
          "state": {
            "_view_name": "StyleView",
            "_model_name": "ProgressStyleModel",
            "description_width": "initial",
            "_view_module": "@jupyter-widgets/base",
            "_model_module_version": "1.5.0",
            "_view_count": null,
            "_view_module_version": "1.2.0",
            "bar_color": null,
            "_model_module": "@jupyter-widgets/controls"
          }
        },
        "4664a14c70b94cf4b746f39cc0545a06": {
          "model_module": "@jupyter-widgets/base",
          "model_name": "LayoutModel",
          "state": {
            "_view_name": "LayoutView",
            "grid_template_rows": null,
            "right": null,
            "justify_content": null,
            "_view_module": "@jupyter-widgets/base",
            "overflow": null,
            "_model_module_version": "1.2.0",
            "_view_count": null,
            "flex_flow": null,
            "width": null,
            "min_width": null,
            "border": null,
            "align_items": null,
            "bottom": null,
            "_model_module": "@jupyter-widgets/base",
            "top": null,
            "grid_column": null,
            "overflow_y": null,
            "overflow_x": null,
            "grid_auto_flow": null,
            "grid_area": null,
            "grid_template_columns": null,
            "flex": null,
            "_model_name": "LayoutModel",
            "justify_items": null,
            "grid_row": null,
            "max_height": null,
            "align_content": null,
            "visibility": null,
            "align_self": null,
            "height": null,
            "min_height": null,
            "padding": null,
            "grid_auto_rows": null,
            "grid_gap": null,
            "max_width": null,
            "order": null,
            "_view_module_version": "1.2.0",
            "grid_template_areas": null,
            "object_position": null,
            "object_fit": null,
            "grid_auto_columns": null,
            "margin": null,
            "display": null,
            "left": null
          }
        },
        "a1c1585ee415403bb5da810c5c794ad6": {
          "model_module": "@jupyter-widgets/controls",
          "model_name": "DescriptionStyleModel",
          "state": {
            "_view_name": "StyleView",
            "_model_name": "DescriptionStyleModel",
            "description_width": "",
            "_view_module": "@jupyter-widgets/base",
            "_model_module_version": "1.5.0",
            "_view_count": null,
            "_view_module_version": "1.2.0",
            "_model_module": "@jupyter-widgets/controls"
          }
        },
        "f390c891e63a455583dedd1b7c415f82": {
          "model_module": "@jupyter-widgets/base",
          "model_name": "LayoutModel",
          "state": {
            "_view_name": "LayoutView",
            "grid_template_rows": null,
            "right": null,
            "justify_content": null,
            "_view_module": "@jupyter-widgets/base",
            "overflow": null,
            "_model_module_version": "1.2.0",
            "_view_count": null,
            "flex_flow": null,
            "width": null,
            "min_width": null,
            "border": null,
            "align_items": null,
            "bottom": null,
            "_model_module": "@jupyter-widgets/base",
            "top": null,
            "grid_column": null,
            "overflow_y": null,
            "overflow_x": null,
            "grid_auto_flow": null,
            "grid_area": null,
            "grid_template_columns": null,
            "flex": null,
            "_model_name": "LayoutModel",
            "justify_items": null,
            "grid_row": null,
            "max_height": null,
            "align_content": null,
            "visibility": null,
            "align_self": null,
            "height": null,
            "min_height": null,
            "padding": null,
            "grid_auto_rows": null,
            "grid_gap": null,
            "max_width": null,
            "order": null,
            "_view_module_version": "1.2.0",
            "grid_template_areas": null,
            "object_position": null,
            "object_fit": null,
            "grid_auto_columns": null,
            "margin": null,
            "display": null,
            "left": null
          }
        }
      }
    }
  },
  "cells": [
    {
      "cell_type": "code",
      "metadata": {
        "id": "w1yeRNCF86Ai"
      },
      "source": [
        "import pandas as pd\n",
        "import numpy as np\n",
        "import tensorflow as tf\n",
        "from tensorflow import keras\n",
        "from tensorflow.keras import layers\n",
        "from sklearn.model_selection import train_test_split\n",
        "import seaborn as sns\n",
        "import matplotlib\n",
        "import matplotlib.pyplot as plt\n",
        "\n",
        "\n",
        "from sklearn.cluster import KMeans\n",
        "import pandas as pd\n",
        "import pickle\n",
        "import string\n",
        "import re\n",
        "import string\n",
        "from sklearn.model_selection import cross_validate as cross_validation, ShuffleSplit, cross_val_score, train_test_split, KFold\n",
        "from sklearn.model_selection import GridSearchCV, RandomizedSearchCV\n",
        "from sklearn.metrics import classification_report, accuracy_score, auc\n",
        "import numpy as np\n",
        "import matplotlib.pyplot as plt\n",
        "import seaborn as sns\n",
        "from pathlib import Path\n",
        "from sklearn.svm import *\n",
        "# from sklearn.tree import *\n",
        "from sklearn.neural_network import *\n",
        "from sklearn.linear_model import *\n",
        "from sklearn.ensemble import ExtraTreesClassifier\n",
        "from sklearn.preprocessing import OneHotEncoder\n",
        "from sklearn.experimental import enable_iterative_imputer\n",
        "from sklearn.linear_model import *\n",
        "from sklearn.tree import *\n",
        "from sklearn.ensemble import *\n",
        "from sklearn.ensemble import RandomForestClassifier\n",
        "from sklearn.neighbors import *\n",
        "from sklearn.impute import IterativeImputer\n",
        "from sklearn.naive_bayes import *\n",
        "import pickle\n",
        "from sklearn.svm import SVC\n",
        "from sklearn.preprocessing import StandardScaler\n",
        "from sklearn.datasets import make_classification\n",
        "from sklearn.model_selection import train_test_split\n",
        "from sklearn.pipeline import Pipeline"
      ],
      "execution_count": 26,
      "outputs": []
    },
    {
      "cell_type": "code",
      "metadata": {
        "colab": {
          "base_uri": "https://localhost:8080/"
        },
        "id": "ENNuWb3W86Ao",
        "outputId": "0fa57987-a3e4-4cd1-eed7-c94391c464b5"
      },
      "source": [
        "data = pd.read_pickle('imputed_data_forest_corr.pkl')\n",
        "print(list(data.columns))\n",
        "data.shape"
      ],
      "execution_count": 27,
      "outputs": [
        {
          "output_type": "stream",
          "text": [
            "['ITERATION', 'GPS_LAT', 'GPS_LON', 'GPS_ALT', 'HHsizemembers', 'LandCultivated', 'LivestockHoldings', 'NrofMonthsFoodInsecure', 'PPI_Threshold', 'PPI_Likelihood', 'score_HDDS_GoodSeason', 'score_HDDS_farmbasedGoodSeason', 'score_HDDS_purchasedGoodSeason', 'score_HDDS_BadSeason', 'score_HDDS_farmbasedBadSeason', 'score_HDDS_purchasedBadSeason', 'total_income_USD_PPP_pHH_Yr', 'offfarm_income_USD_PPP_pHH_Yr', 'value_farm_produce_USD_PPP_pHH_Yr', 'crop_sales_USD_PPP_pHH_Yr', 'value_crop_consumed_USD_PPP_pHH_Yr', 'value_livestock_production_USD_PPP_pHH_Yr', 'value_livestock_prod_consumed_USD_PPP_pHH_Yr', 'Market_Orientation', 'Livestock_Orientation', 'Food_Availability_kCal_MAE_day', 'Food_Self_Sufficiency_kCal_MAE_day', 'NrofMonthsWildFoodCons', 'GHGEmissions', 'Gender_MaleControl', 'Gender_FemaleControl', 'NFertInput', 'Food_InsecurityLevel', 'sinBestFoodSecMonth', 'cosBestFoodSecMonth', 'sinWorstFoodSecMonth', 'cosWorstFoodSecMonth', 'Head_EducationLevel_<Other>', 'Head_EducationLevel_<illiterate>', 'Head_EducationLevel_<literate>', 'Head_EducationLevel_<no_school>', 'Head_EducationLevel_<postsecondary>', 'Head_EducationLevel_<primary>', 'Head_EducationLevel_<secondary>', 'HouseholdType_<childhead>', 'HouseholdType_<couple>', 'HouseholdType_<couple_man_works_away>', 'HouseholdType_<couple_polygamous>', 'HouseholdType_<couple_woman_works_away>', 'HouseholdType_<man_single>', 'HouseholdType_<nonparenthead>', 'HouseholdType_<other>', 'HouseholdType_<polygamous>', 'HouseholdType_<single>', 'HouseholdType_<together>', 'HouseholdType_<woman_single>', 'HouseholdType_<workaway>', 'Country_<Bolivia>', 'Country_<Burkina_Faso>', 'Country_<Burundi>', 'Country_<Cambodia>', 'Country_<Comoros>', 'Country_<Costa_Rica>', \"Country_<Cote d'Ivoire>\", 'Country_<DRC>', 'Country_<Ecuador>', 'Country_<El_Salvador>', 'Country_<Ethiopia>', 'Country_<Ghana>', 'Country_<Guatemala>', 'Country_<Honduras>', 'Country_<India>', 'Country_<Kenya>', 'Country_<LaoPDR>', 'Country_<Malawi>', 'Country_<Mali>', 'Country_<Morocco>', 'Country_<Nicaragua>', 'Country_<Niger>', 'Country_<Nigeria>', 'Country_<Palestine>', 'Country_<Peru>', 'Country_<Rwanda>', 'Country_<Senegal>', 'Country_<Sierra Leone>', 'Country_<South Africa>', 'Country_<Tanzania>', 'Country_<Uganda>', 'Country_<Vietnam>', 'Country_<Zambia>']\n"
          ],
          "name": "stdout"
        },
        {
          "output_type": "execute_result",
          "data": {
            "text/plain": [
              "(35728, 90)"
            ]
          },
          "metadata": {
            "tags": []
          },
          "execution_count": 27
        }
      ]
    },
    {
      "cell_type": "code",
      "metadata": {
        "colab": {
          "base_uri": "https://localhost:8080/"
        },
        "id": "G6BUP3K-86Ap",
        "outputId": "08b656d8-9f93-4f6a-9241-e540544c2172"
      },
      "source": [
        "X = data.drop(['Food_InsecurityLevel'],axis=1)\n",
        "y = data['Food_InsecurityLevel']\n",
        "print(y)\n",
        "\n",
        "from sklearn.feature_selection import f_classif\n",
        "from sklearn.feature_selection import SelectKBest\n",
        "from sklearn.feature_selection import f_regression\n",
        "from sklearn.feature_selection import mutual_info_classif\n",
        "from sklearn.feature_selection import SelectFromModel\n",
        "from sklearn.svm import LinearSVC\n",
        "from sklearn.ensemble import ExtraTreesClassifier\n",
        "from sklearn.feature_selection import SelectFromModel\n",
        "from sklearn.ensemble import RandomForestClassifier\n",
        "from sklearn.ensemble import AdaBoostClassifier\n",
        "from sklearn.ensemble import GradientBoostingClassifier\n",
        "from sklearn.feature_selection import SelectFromModel\n",
        "\n",
        "# from sklearn.preprocessing import StandardScaler\n",
        "# scaler = StandardScaler()\n",
        "# X_new2 = scaler.fit_transform(X_new)\n",
        "# X_new2\n",
        "\n",
        "from sklearn.preprocessing import MinMaxScaler\n",
        "scaler = MinMaxScaler()\n",
        "X_new = scaler.fit_transform(X)\n",
        "\n",
        "fs_ = SelectKBest(score_func=mutual_info_classif, k=70)\n",
        "fs_.fit(X_new, y)\n",
        "mi_support = fs_.get_support()\n",
        "X_new1 = fs_.transform(X_new)\n",
        "\n",
        "# clf = ExtraTreesClassifier(n_estimators=60)\n",
        "# clf = clf.fit(X, y)\n",
        "# clf.feature_importances_  \n",
        "# model = SelectFromModel(clf, prefit=True)\n",
        "\n",
        "# lsvc = LinearSVC(C=0.01, penalty=\"l1\", dual=False).fit(X_new, y)\n",
        "# model = SelectFromModel(lsvc, prefit=True)\n",
        "# X_new1 = model.transform(X_new)\n",
        "\n",
        "# transformer = SelectFromModel(estimator=AdaBoostClassifier()).fit(X_new, y)\n",
        "# X_new1 = transformer.transform(X_new)\n",
        "\n",
        "# from keras.utils import to_categorical\n",
        "# y = to_categorical(y)\n",
        "# y = y[:,[1,2,3,4]]\n",
        "print(X_new1.shape)\n",
        "y.shape"
      ],
      "execution_count": 28,
      "outputs": [
        {
          "output_type": "stream",
          "text": [
            "0        3\n",
            "1        4\n",
            "2        4\n",
            "3        2\n",
            "4        4\n",
            "        ..\n",
            "35723    1\n",
            "35724    1\n",
            "35725    1\n",
            "35726    1\n",
            "35727    1\n",
            "Name: Food_InsecurityLevel, Length: 35728, dtype: int32\n",
            "(35728, 70)\n"
          ],
          "name": "stdout"
        },
        {
          "output_type": "execute_result",
          "data": {
            "text/plain": [
              "(35728,)"
            ]
          },
          "metadata": {
            "tags": []
          },
          "execution_count": 28
        }
      ]
    },
    {
      "cell_type": "code",
      "metadata": {
        "id": "8yR3ZGC586Aq"
      },
      "source": [
        "X_train, X_test_val, y_train, y_test_val = train_test_split(X_new1, y, test_size=0.25, random_state=0)\n",
        "# X_val, X_test, y_val, y_test = train_test_split(X_test_val, y_test_val, test_size=0.25, random_state=0)"
      ],
      "execution_count": 29,
      "outputs": []
    },
    {
      "cell_type": "code",
      "metadata": {
        "colab": {
          "base_uri": "https://localhost:8080/"
        },
        "id": "yARauoNN86Aq",
        "outputId": "06795ad8-6b26-4a8b-9b14-1921a4f21ef3"
      },
      "source": [
        "print(len(X_train))\n",
        "# print(len(X_val))\n",
        "# print(len(X_test))\n",
        "print(len(y_train))\n",
        "# print(len(y_val))\n",
        "# print(len(y_test))\n",
        "\n",
        "# X_train"
      ],
      "execution_count": 30,
      "outputs": [
        {
          "output_type": "stream",
          "text": [
            "26796\n",
            "26796\n"
          ],
          "name": "stdout"
        }
      ]
    },
    {
      "cell_type": "code",
      "metadata": {
        "id": "IVPN8S3186Aq"
      },
      "source": [
        "from keras.layers import Input\n",
        "from keras.layers import Dense\n",
        "from keras.layers import Dropout\n",
        "from keras.models import Model\n",
        "\n",
        "input_layer = Input(shape=(70,))\n",
        "hidden_layer1 = Dense(256, activation='relu')(input_layer)\n",
        "dropout_1 = Dropout(0.6)(hidden_layer1)\n",
        "hidden_layer2 = Dense(256, activation='relu')(dropout_1)\n",
        "dropout_2 = Dropout(0.6)(hidden_layer2)\n",
        "hidden_layer3 = Dense(128, activation='relu')(dropout_2)\n",
        "dropout_3 = Dropout(0.6)(hidden_layer3)\n",
        "hidden_layer4 = Dense(128, activation='relu')(dropout_3)\n",
        "dropout_4 = Dropout(0.6)(hidden_layer4)\n",
        "hidden_layer5 = Dense(128, activation='relu')(dropout_4)\n",
        "output = Dense(5, activation='softmax')(dropout_3)\n",
        "model = Model(inputs = input_layer, outputs = output)\n",
        "\n",
        "\n",
        "\n",
        "# model = Sequential()\n",
        "# model.add(Dense(300, input_dim=89, activation='relu'))\n",
        "# model.add(Dropout(0.5))\n",
        "# model.add(Dense(300, activation='relu'))\n",
        "# model.add(Dropout(0.5))\n",
        "# model.add(Dense(300, activation='relu'))\n",
        "# model.add(Dropout(0.5))\n",
        "# model.add(Dense(5, activation='softmax'))"
      ],
      "execution_count": 34,
      "outputs": []
    },
    {
      "cell_type": "code",
      "metadata": {
        "colab": {
          "base_uri": "https://localhost:8080/"
        },
        "id": "uNR6arRz86Ar",
        "outputId": "c0d6090c-721a-4151-9278-ff9d7b8fabff"
      },
      "source": [
        "model.summary()"
      ],
      "execution_count": 35,
      "outputs": [
        {
          "output_type": "stream",
          "text": [
            "Model: \"model_4\"\n",
            "_________________________________________________________________\n",
            "Layer (type)                 Output Shape              Param #   \n",
            "=================================================================\n",
            "input_5 (InputLayer)         [(None, 70)]              0         \n",
            "_________________________________________________________________\n",
            "dense_24 (Dense)             (None, 256)               18176     \n",
            "_________________________________________________________________\n",
            "dropout_16 (Dropout)         (None, 256)               0         \n",
            "_________________________________________________________________\n",
            "dense_25 (Dense)             (None, 256)               65792     \n",
            "_________________________________________________________________\n",
            "dropout_17 (Dropout)         (None, 256)               0         \n",
            "_________________________________________________________________\n",
            "dense_26 (Dense)             (None, 128)               32896     \n",
            "_________________________________________________________________\n",
            "dropout_18 (Dropout)         (None, 128)               0         \n",
            "_________________________________________________________________\n",
            "dense_29 (Dense)             (None, 5)                 645       \n",
            "=================================================================\n",
            "Total params: 117,509\n",
            "Trainable params: 117,509\n",
            "Non-trainable params: 0\n",
            "_________________________________________________________________\n"
          ],
          "name": "stdout"
        }
      ]
    },
    {
      "cell_type": "code",
      "metadata": {
        "scrolled": true,
        "colab": {
          "base_uri": "https://localhost:8080/"
        },
        "id": "_cRY9RWp86Ar",
        "outputId": "b478283c-ab2a-4ed5-9752-f05210d71804"
      },
      "source": [
        "model.compile(optimizer='Adam', loss='sparse_categorical_crossentropy', metrics=['accuracy'])\n",
        "history = model.fit(X_train, y_train, validation_data = (X_test_val, y_test_val), epochs=100)"
      ],
      "execution_count": 36,
      "outputs": [
        {
          "output_type": "stream",
          "text": [
            "Epoch 1/100\n",
            "838/838 [==============================] - 4s 4ms/step - loss: 1.3118 - accuracy: 0.4016 - val_loss: 1.0208 - val_accuracy: 0.5571\n",
            "Epoch 2/100\n",
            "838/838 [==============================] - 3s 4ms/step - loss: 1.0827 - accuracy: 0.5398 - val_loss: 0.9850 - val_accuracy: 0.5708\n",
            "Epoch 3/100\n",
            "838/838 [==============================] - 4s 4ms/step - loss: 1.0387 - accuracy: 0.5604 - val_loss: 0.9666 - val_accuracy: 0.5870\n",
            "Epoch 4/100\n",
            "838/838 [==============================] - 3s 4ms/step - loss: 1.0102 - accuracy: 0.5708 - val_loss: 0.9541 - val_accuracy: 0.5892\n",
            "Epoch 5/100\n",
            "838/838 [==============================] - 4s 4ms/step - loss: 0.9957 - accuracy: 0.5773 - val_loss: 0.9421 - val_accuracy: 0.6056\n",
            "Epoch 6/100\n",
            "838/838 [==============================] - 4s 4ms/step - loss: 0.9957 - accuracy: 0.5812 - val_loss: 0.9401 - val_accuracy: 0.5966\n",
            "Epoch 7/100\n",
            "838/838 [==============================] - 4s 5ms/step - loss: 0.9715 - accuracy: 0.5958 - val_loss: 0.9291 - val_accuracy: 0.6038\n",
            "Epoch 8/100\n",
            "838/838 [==============================] - 4s 4ms/step - loss: 0.9706 - accuracy: 0.5922 - val_loss: 0.9326 - val_accuracy: 0.6082\n",
            "Epoch 9/100\n",
            "838/838 [==============================] - 4s 4ms/step - loss: 0.9630 - accuracy: 0.5917 - val_loss: 0.9166 - val_accuracy: 0.6146\n",
            "Epoch 10/100\n",
            "838/838 [==============================] - 4s 4ms/step - loss: 0.9506 - accuracy: 0.6025 - val_loss: 0.9184 - val_accuracy: 0.6126\n",
            "Epoch 11/100\n",
            "838/838 [==============================] - 3s 4ms/step - loss: 0.9538 - accuracy: 0.6027 - val_loss: 0.9142 - val_accuracy: 0.6121\n",
            "Epoch 12/100\n",
            "838/838 [==============================] - 3s 4ms/step - loss: 0.9491 - accuracy: 0.6013 - val_loss: 0.9131 - val_accuracy: 0.6208\n",
            "Epoch 13/100\n",
            "838/838 [==============================] - 3s 4ms/step - loss: 0.9369 - accuracy: 0.6112 - val_loss: 0.9088 - val_accuracy: 0.6209\n",
            "Epoch 14/100\n",
            "838/838 [==============================] - 4s 4ms/step - loss: 0.9488 - accuracy: 0.6027 - val_loss: 0.8974 - val_accuracy: 0.6235\n",
            "Epoch 15/100\n",
            "838/838 [==============================] - 4s 4ms/step - loss: 0.9304 - accuracy: 0.6125 - val_loss: 0.8954 - val_accuracy: 0.6233\n",
            "Epoch 16/100\n",
            "838/838 [==============================] - 3s 4ms/step - loss: 0.9376 - accuracy: 0.6058 - val_loss: 0.8908 - val_accuracy: 0.6253\n",
            "Epoch 17/100\n",
            "838/838 [==============================] - 3s 4ms/step - loss: 0.9304 - accuracy: 0.6104 - val_loss: 0.8915 - val_accuracy: 0.6270\n",
            "Epoch 18/100\n",
            "838/838 [==============================] - 3s 4ms/step - loss: 0.9235 - accuracy: 0.6202 - val_loss: 0.8905 - val_accuracy: 0.6253\n",
            "Epoch 19/100\n",
            "838/838 [==============================] - 4s 4ms/step - loss: 0.9204 - accuracy: 0.6136 - val_loss: 0.8875 - val_accuracy: 0.6186\n",
            "Epoch 20/100\n",
            "838/838 [==============================] - 4s 4ms/step - loss: 0.9219 - accuracy: 0.6157 - val_loss: 0.8906 - val_accuracy: 0.6283\n",
            "Epoch 21/100\n",
            "838/838 [==============================] - 3s 4ms/step - loss: 0.9152 - accuracy: 0.6195 - val_loss: 0.8868 - val_accuracy: 0.6218\n",
            "Epoch 22/100\n",
            "838/838 [==============================] - 3s 4ms/step - loss: 0.9006 - accuracy: 0.6232 - val_loss: 0.8893 - val_accuracy: 0.6326\n",
            "Epoch 23/100\n",
            "838/838 [==============================] - 4s 4ms/step - loss: 0.9090 - accuracy: 0.6238 - val_loss: 0.8808 - val_accuracy: 0.6321\n",
            "Epoch 24/100\n",
            "838/838 [==============================] - 4s 4ms/step - loss: 0.9009 - accuracy: 0.6288 - val_loss: 0.8923 - val_accuracy: 0.6272\n",
            "Epoch 25/100\n",
            "838/838 [==============================] - 4s 4ms/step - loss: 0.9066 - accuracy: 0.6228 - val_loss: 0.8816 - val_accuracy: 0.6246\n",
            "Epoch 26/100\n",
            "838/838 [==============================] - 4s 4ms/step - loss: 0.8981 - accuracy: 0.6290 - val_loss: 0.8799 - val_accuracy: 0.6311\n",
            "Epoch 27/100\n",
            "838/838 [==============================] - 4s 4ms/step - loss: 0.8996 - accuracy: 0.6291 - val_loss: 0.8820 - val_accuracy: 0.6355\n",
            "Epoch 28/100\n",
            "838/838 [==============================] - 4s 5ms/step - loss: 0.9086 - accuracy: 0.6209 - val_loss: 0.8769 - val_accuracy: 0.6300\n",
            "Epoch 29/100\n",
            "838/838 [==============================] - 4s 4ms/step - loss: 0.9110 - accuracy: 0.6231 - val_loss: 0.8752 - val_accuracy: 0.6347\n",
            "Epoch 30/100\n",
            "838/838 [==============================] - 3s 4ms/step - loss: 0.9009 - accuracy: 0.6243 - val_loss: 0.8732 - val_accuracy: 0.6319\n",
            "Epoch 31/100\n",
            "838/838 [==============================] - 4s 4ms/step - loss: 0.8982 - accuracy: 0.6248 - val_loss: 0.8728 - val_accuracy: 0.6328\n",
            "Epoch 32/100\n",
            "838/838 [==============================] - 4s 4ms/step - loss: 0.8902 - accuracy: 0.6307 - val_loss: 0.8742 - val_accuracy: 0.6363\n",
            "Epoch 33/100\n",
            "838/838 [==============================] - 4s 4ms/step - loss: 0.8895 - accuracy: 0.6356 - val_loss: 0.8767 - val_accuracy: 0.6341\n",
            "Epoch 34/100\n",
            "838/838 [==============================] - 4s 4ms/step - loss: 0.8920 - accuracy: 0.6303 - val_loss: 0.8680 - val_accuracy: 0.6349\n",
            "Epoch 35/100\n",
            "838/838 [==============================] - 4s 4ms/step - loss: 0.8902 - accuracy: 0.6319 - val_loss: 0.8680 - val_accuracy: 0.6351\n",
            "Epoch 36/100\n",
            "838/838 [==============================] - 4s 4ms/step - loss: 0.8916 - accuracy: 0.6291 - val_loss: 0.8670 - val_accuracy: 0.6355\n",
            "Epoch 37/100\n",
            "838/838 [==============================] - 4s 4ms/step - loss: 0.8878 - accuracy: 0.6332 - val_loss: 0.8722 - val_accuracy: 0.6385\n",
            "Epoch 38/100\n",
            "838/838 [==============================] - 4s 4ms/step - loss: 0.8952 - accuracy: 0.6294 - val_loss: 0.8716 - val_accuracy: 0.6348\n",
            "Epoch 39/100\n",
            "838/838 [==============================] - 4s 4ms/step - loss: 0.8866 - accuracy: 0.6341 - val_loss: 0.8694 - val_accuracy: 0.6363\n",
            "Epoch 40/100\n",
            "838/838 [==============================] - 4s 4ms/step - loss: 0.8773 - accuracy: 0.6328 - val_loss: 0.8675 - val_accuracy: 0.6411\n",
            "Epoch 41/100\n",
            "838/838 [==============================] - 3s 4ms/step - loss: 0.8721 - accuracy: 0.6420 - val_loss: 0.8668 - val_accuracy: 0.6396\n",
            "Epoch 42/100\n",
            "838/838 [==============================] - 4s 4ms/step - loss: 0.8924 - accuracy: 0.6236 - val_loss: 0.8682 - val_accuracy: 0.6398\n",
            "Epoch 43/100\n",
            "838/838 [==============================] - 4s 4ms/step - loss: 0.8880 - accuracy: 0.6270 - val_loss: 0.8631 - val_accuracy: 0.6375\n",
            "Epoch 44/100\n",
            "838/838 [==============================] - 3s 4ms/step - loss: 0.8890 - accuracy: 0.6289 - val_loss: 0.8651 - val_accuracy: 0.6324\n",
            "Epoch 45/100\n",
            "838/838 [==============================] - 4s 4ms/step - loss: 0.8796 - accuracy: 0.6398 - val_loss: 0.8608 - val_accuracy: 0.6389\n",
            "Epoch 46/100\n",
            "838/838 [==============================] - 4s 4ms/step - loss: 0.8800 - accuracy: 0.6319 - val_loss: 0.8698 - val_accuracy: 0.6358\n",
            "Epoch 47/100\n",
            "838/838 [==============================] - 3s 4ms/step - loss: 0.8744 - accuracy: 0.6375 - val_loss: 0.8680 - val_accuracy: 0.6352\n",
            "Epoch 48/100\n",
            "838/838 [==============================] - 4s 4ms/step - loss: 0.8697 - accuracy: 0.6368 - val_loss: 0.8654 - val_accuracy: 0.6332\n",
            "Epoch 49/100\n",
            "838/838 [==============================] - 4s 4ms/step - loss: 0.8806 - accuracy: 0.6310 - val_loss: 0.8698 - val_accuracy: 0.6365\n",
            "Epoch 50/100\n",
            "838/838 [==============================] - 3s 4ms/step - loss: 0.8795 - accuracy: 0.6367 - val_loss: 0.8620 - val_accuracy: 0.6385\n",
            "Epoch 51/100\n",
            "838/838 [==============================] - 4s 4ms/step - loss: 0.8763 - accuracy: 0.6344 - val_loss: 0.8689 - val_accuracy: 0.6328\n",
            "Epoch 52/100\n",
            "838/838 [==============================] - 4s 4ms/step - loss: 0.8814 - accuracy: 0.6318 - val_loss: 0.8692 - val_accuracy: 0.6322\n",
            "Epoch 53/100\n",
            "838/838 [==============================] - 4s 4ms/step - loss: 0.8605 - accuracy: 0.6443 - val_loss: 0.8638 - val_accuracy: 0.6404\n",
            "Epoch 54/100\n",
            "838/838 [==============================] - 4s 4ms/step - loss: 0.8686 - accuracy: 0.6357 - val_loss: 0.8622 - val_accuracy: 0.6417\n",
            "Epoch 55/100\n",
            "838/838 [==============================] - 4s 4ms/step - loss: 0.8607 - accuracy: 0.6446 - val_loss: 0.8671 - val_accuracy: 0.6414\n",
            "Epoch 56/100\n",
            "838/838 [==============================] - 4s 4ms/step - loss: 0.8676 - accuracy: 0.6389 - val_loss: 0.8616 - val_accuracy: 0.6374\n",
            "Epoch 57/100\n",
            "838/838 [==============================] - 4s 4ms/step - loss: 0.8600 - accuracy: 0.6426 - val_loss: 0.8585 - val_accuracy: 0.6415\n",
            "Epoch 58/100\n",
            "838/838 [==============================] - 4s 4ms/step - loss: 0.8751 - accuracy: 0.6362 - val_loss: 0.8654 - val_accuracy: 0.6404\n",
            "Epoch 59/100\n",
            "838/838 [==============================] - 4s 4ms/step - loss: 0.8637 - accuracy: 0.6393 - val_loss: 0.8650 - val_accuracy: 0.6371\n",
            "Epoch 60/100\n",
            "838/838 [==============================] - 4s 4ms/step - loss: 0.8736 - accuracy: 0.6410 - val_loss: 0.8628 - val_accuracy: 0.6377\n",
            "Epoch 61/100\n",
            "838/838 [==============================] - 4s 4ms/step - loss: 0.8712 - accuracy: 0.6365 - val_loss: 0.8678 - val_accuracy: 0.6413\n",
            "Epoch 62/100\n",
            "838/838 [==============================] - 4s 4ms/step - loss: 0.8723 - accuracy: 0.6411 - val_loss: 0.8668 - val_accuracy: 0.6378\n",
            "Epoch 63/100\n",
            "838/838 [==============================] - 3s 4ms/step - loss: 0.8605 - accuracy: 0.6465 - val_loss: 0.8584 - val_accuracy: 0.6395\n",
            "Epoch 64/100\n",
            "838/838 [==============================] - 4s 4ms/step - loss: 0.8535 - accuracy: 0.6458 - val_loss: 0.8661 - val_accuracy: 0.6385\n",
            "Epoch 65/100\n",
            "838/838 [==============================] - 4s 4ms/step - loss: 0.8594 - accuracy: 0.6469 - val_loss: 0.8610 - val_accuracy: 0.6396\n",
            "Epoch 66/100\n",
            "838/838 [==============================] - 4s 4ms/step - loss: 0.8652 - accuracy: 0.6447 - val_loss: 0.8666 - val_accuracy: 0.6386\n",
            "Epoch 67/100\n",
            "838/838 [==============================] - 4s 4ms/step - loss: 0.8615 - accuracy: 0.6417 - val_loss: 0.8596 - val_accuracy: 0.6421\n",
            "Epoch 68/100\n",
            "838/838 [==============================] - 4s 4ms/step - loss: 0.8651 - accuracy: 0.6436 - val_loss: 0.8622 - val_accuracy: 0.6398\n",
            "Epoch 69/100\n",
            "838/838 [==============================] - 4s 4ms/step - loss: 0.8503 - accuracy: 0.6437 - val_loss: 0.8670 - val_accuracy: 0.6414\n",
            "Epoch 70/100\n",
            "838/838 [==============================] - 4s 4ms/step - loss: 0.8544 - accuracy: 0.6493 - val_loss: 0.8642 - val_accuracy: 0.6339\n",
            "Epoch 71/100\n",
            "838/838 [==============================] - 4s 4ms/step - loss: 0.8645 - accuracy: 0.6468 - val_loss: 0.8634 - val_accuracy: 0.6357\n",
            "Epoch 72/100\n",
            "838/838 [==============================] - 4s 4ms/step - loss: 0.8631 - accuracy: 0.6418 - val_loss: 0.8667 - val_accuracy: 0.6322\n",
            "Epoch 73/100\n",
            "838/838 [==============================] - 4s 4ms/step - loss: 0.8538 - accuracy: 0.6467 - val_loss: 0.8606 - val_accuracy: 0.6376\n",
            "Epoch 74/100\n",
            "838/838 [==============================] - 4s 4ms/step - loss: 0.8511 - accuracy: 0.6490 - val_loss: 0.8628 - val_accuracy: 0.6358\n",
            "Epoch 75/100\n",
            "838/838 [==============================] - 4s 4ms/step - loss: 0.8637 - accuracy: 0.6413 - val_loss: 0.8603 - val_accuracy: 0.6429\n",
            "Epoch 76/100\n",
            "838/838 [==============================] - 4s 4ms/step - loss: 0.8657 - accuracy: 0.6382 - val_loss: 0.8583 - val_accuracy: 0.6421\n",
            "Epoch 77/100\n",
            "838/838 [==============================] - 4s 5ms/step - loss: 0.8454 - accuracy: 0.6531 - val_loss: 0.8651 - val_accuracy: 0.6369\n",
            "Epoch 78/100\n",
            "838/838 [==============================] - 4s 5ms/step - loss: 0.8597 - accuracy: 0.6449 - val_loss: 0.8719 - val_accuracy: 0.6367\n",
            "Epoch 79/100\n",
            "838/838 [==============================] - 4s 4ms/step - loss: 0.8601 - accuracy: 0.6398 - val_loss: 0.8612 - val_accuracy: 0.6391\n",
            "Epoch 80/100\n",
            "838/838 [==============================] - 4s 4ms/step - loss: 0.8565 - accuracy: 0.6491 - val_loss: 0.8610 - val_accuracy: 0.6407\n",
            "Epoch 81/100\n",
            "838/838 [==============================] - 4s 5ms/step - loss: 0.8675 - accuracy: 0.6371 - val_loss: 0.8695 - val_accuracy: 0.6379\n",
            "Epoch 82/100\n",
            "838/838 [==============================] - 4s 4ms/step - loss: 0.8587 - accuracy: 0.6468 - val_loss: 0.8618 - val_accuracy: 0.6438\n",
            "Epoch 83/100\n",
            "838/838 [==============================] - 4s 4ms/step - loss: 0.8533 - accuracy: 0.6545 - val_loss: 0.8642 - val_accuracy: 0.6401\n",
            "Epoch 84/100\n",
            "838/838 [==============================] - 4s 4ms/step - loss: 0.8470 - accuracy: 0.6477 - val_loss: 0.8628 - val_accuracy: 0.6378\n",
            "Epoch 85/100\n",
            "838/838 [==============================] - 4s 4ms/step - loss: 0.8554 - accuracy: 0.6497 - val_loss: 0.8652 - val_accuracy: 0.6386\n",
            "Epoch 86/100\n",
            "838/838 [==============================] - 4s 4ms/step - loss: 0.8435 - accuracy: 0.6483 - val_loss: 0.8695 - val_accuracy: 0.6427\n",
            "Epoch 87/100\n",
            "838/838 [==============================] - 4s 4ms/step - loss: 0.8449 - accuracy: 0.6519 - val_loss: 0.8593 - val_accuracy: 0.6449\n",
            "Epoch 88/100\n",
            "838/838 [==============================] - 4s 4ms/step - loss: 0.8531 - accuracy: 0.6477 - val_loss: 0.8621 - val_accuracy: 0.6397\n",
            "Epoch 89/100\n",
            "838/838 [==============================] - 4s 4ms/step - loss: 0.8587 - accuracy: 0.6414 - val_loss: 0.8607 - val_accuracy: 0.6414\n",
            "Epoch 90/100\n",
            "838/838 [==============================] - 3s 4ms/step - loss: 0.8436 - accuracy: 0.6516 - val_loss: 0.8625 - val_accuracy: 0.6399\n",
            "Epoch 91/100\n",
            "838/838 [==============================] - 4s 4ms/step - loss: 0.8443 - accuracy: 0.6539 - val_loss: 0.8654 - val_accuracy: 0.6342\n",
            "Epoch 92/100\n",
            "838/838 [==============================] - 4s 4ms/step - loss: 0.8480 - accuracy: 0.6522 - val_loss: 0.8607 - val_accuracy: 0.6453\n",
            "Epoch 93/100\n",
            "838/838 [==============================] - 4s 4ms/step - loss: 0.8386 - accuracy: 0.6536 - val_loss: 0.8654 - val_accuracy: 0.6449\n",
            "Epoch 94/100\n",
            "838/838 [==============================] - 4s 4ms/step - loss: 0.8518 - accuracy: 0.6517 - val_loss: 0.8635 - val_accuracy: 0.6454\n",
            "Epoch 95/100\n",
            "838/838 [==============================] - 4s 5ms/step - loss: 0.8500 - accuracy: 0.6490 - val_loss: 0.8620 - val_accuracy: 0.6443\n",
            "Epoch 96/100\n",
            "838/838 [==============================] - 4s 4ms/step - loss: 0.8472 - accuracy: 0.6480 - val_loss: 0.8589 - val_accuracy: 0.6454\n",
            "Epoch 97/100\n",
            "838/838 [==============================] - 4s 4ms/step - loss: 0.8438 - accuracy: 0.6519 - val_loss: 0.8605 - val_accuracy: 0.6401\n",
            "Epoch 98/100\n",
            "838/838 [==============================] - 4s 4ms/step - loss: 0.8435 - accuracy: 0.6523 - val_loss: 0.8607 - val_accuracy: 0.6407\n",
            "Epoch 99/100\n",
            "838/838 [==============================] - 4s 4ms/step - loss: 0.8437 - accuracy: 0.6474 - val_loss: 0.8604 - val_accuracy: 0.6439\n",
            "Epoch 100/100\n",
            "838/838 [==============================] - 4s 4ms/step - loss: 0.8430 - accuracy: 0.6572 - val_loss: 0.8688 - val_accuracy: 0.6346\n"
          ],
          "name": "stdout"
        }
      ]
    },
    {
      "cell_type": "code",
      "metadata": {
        "id": "oaxUJLAV-Ojt"
      },
      "source": [
        "#!pip install shap\n",
        "import shap"
      ],
      "execution_count": 37,
      "outputs": []
    },
    {
      "cell_type": "code",
      "metadata": {
        "colab": {
          "base_uri": "https://localhost:8080/"
        },
        "id": "2914yGnPAZe5",
        "outputId": "c367ef2a-fa4d-4c0f-f422-b4e0654d9a3c"
      },
      "source": [
        "test = X_test_val[np.random.choice(X_test_val.shape[0], 300, replace=False), :]\n",
        "test.shape"
      ],
      "execution_count": 39,
      "outputs": [
        {
          "output_type": "execute_result",
          "data": {
            "text/plain": [
              "(300, 70)"
            ]
          },
          "metadata": {
            "tags": []
          },
          "execution_count": 39
        }
      ]
    },
    {
      "cell_type": "code",
      "metadata": {
        "colab": {
          "base_uri": "https://localhost:8080/",
          "height": 103,
          "referenced_widgets": [
            "c9a3be906d8147d48db4422e5a650105",
            "d1e28a9b4acd4119963c7bda29bab992",
            "78e8b3bc89334f4b96c502aceb0b8c7e",
            "78e006add0054241ab99625e3f633056",
            "4a97604bc644441ca519de11f0e8fb1e",
            "4664a14c70b94cf4b746f39cc0545a06",
            "a1c1585ee415403bb5da810c5c794ad6",
            "f390c891e63a455583dedd1b7c415f82"
          ]
        },
        "id": "6089nCoH-1nP",
        "outputId": "91cfc99a-2d5b-49c0-8899-1f96b1b435ef"
      },
      "source": [
        "explainer = shap.KernelExplainer(model, test)\n",
        "shap_values = explainer.shap_values(test)"
      ],
      "execution_count": 40,
      "outputs": [
        {
          "output_type": "stream",
          "text": [
            "Using 300 background data samples could cause slower run times. Consider using shap.sample(data, K) or shap.kmeans(data, K) to summarize the background as K samples.\n"
          ],
          "name": "stderr"
        },
        {
          "output_type": "display_data",
          "data": {
            "application/vnd.jupyter.widget-view+json": {
              "model_id": "c9a3be906d8147d48db4422e5a650105",
              "version_minor": 0,
              "version_major": 2
            },
            "text/plain": [
              "HBox(children=(FloatProgress(value=0.0, max=300.0), HTML(value='')))"
            ]
          },
          "metadata": {
            "tags": []
          }
        },
        {
          "output_type": "stream",
          "text": [
            "\n"
          ],
          "name": "stdout"
        }
      ]
    },
    {
      "cell_type": "code",
      "metadata": {
        "colab": {
          "base_uri": "https://localhost:8080/",
          "height": 581
        },
        "id": "LV5f0CEqBfgr",
        "outputId": "946df543-8d71-4292-dc2d-611bfc22d063"
      },
      "source": [
        "shap.summary_plot(shap_values, test, plot_type=\"bar\")"
      ],
      "execution_count": 76,
      "outputs": [
        {
          "output_type": "display_data",
          "data": {
            "image/png": "[encoded data removed]",
            "text/plain": [
              "<Figure size 576x684 with 1 Axes>"
            ]
          },
          "metadata": {
            "tags": [],
            "needs_background": "light"
          }
        }
      ]
    },
    {
      "cell_type": "code",
      "metadata": {
        "colab": {
          "base_uri": "https://localhost:8080/",
          "height": 581
        },
        "id": "ucuKb37kCRW9",
        "outputId": "6b37a8ca-0b4b-451d-8d02-c6764d721fa2"
      },
      "source": [
        "shap.summary_plot(shap_values, test)"
      ],
      "execution_count": 77,
      "outputs": [
        {
          "output_type": "display_data",
          "data": {
            "image/png": "[encoded data removed]",
            "text/plain": [
              "<Figure size 576x684 with 1 Axes>"
            ]
          },
          "metadata": {
            "tags": [],
            "needs_background": "light"
          }
        }
      ]
    },
    {
      "cell_type": "code",
      "metadata": {
        "colab": {
          "base_uri": "https://localhost:8080/",
          "height": 419
        },
        "id": "YdFI1EpCH1MX",
        "outputId": "28d6dfd2-adbe-4c9a-c65b-474fb9c8a6cd"
      },
      "source": [
        "X.iloc[:, [23]]"
      ],
      "execution_count": 72,
      "outputs": [
        {
          "output_type": "execute_result",
          "data": {
            "text/html": [
              "<div>\n",
              "<style scoped>\n",
              "    .dataframe tbody tr th:only-of-type {\n",
              "        vertical-align: middle;\n",
              "    }\n",
              "\n",
              "    .dataframe tbody tr th {\n",
              "        vertical-align: top;\n",
              "    }\n",
              "\n",
              "    .dataframe thead th {\n",
              "        text-align: right;\n",
              "    }\n",
              "</style>\n",
              "<table border=\"1\" class=\"dataframe\">\n",
              "  <thead>\n",
              "    <tr style=\"text-align: right;\">\n",
              "      <th></th>\n",
              "      <th>Market_Orientation</th>\n",
              "    </tr>\n",
              "  </thead>\n",
              "  <tbody>\n",
              "    <tr>\n",
              "      <th>0</th>\n",
              "      <td>0.717683</td>\n",
              "    </tr>\n",
              "    <tr>\n",
              "      <th>1</th>\n",
              "      <td>0.061435</td>\n",
              "    </tr>\n",
              "    <tr>\n",
              "      <th>2</th>\n",
              "      <td>0.000000</td>\n",
              "    </tr>\n",
              "    <tr>\n",
              "      <th>3</th>\n",
              "      <td>0.899135</td>\n",
              "    </tr>\n",
              "    <tr>\n",
              "      <th>4</th>\n",
              "      <td>0.169250</td>\n",
              "    </tr>\n",
              "    <tr>\n",
              "      <th>...</th>\n",
              "      <td>...</td>\n",
              "    </tr>\n",
              "    <tr>\n",
              "      <th>35723</th>\n",
              "      <td>0.323274</td>\n",
              "    </tr>\n",
              "    <tr>\n",
              "      <th>35724</th>\n",
              "      <td>0.513858</td>\n",
              "    </tr>\n",
              "    <tr>\n",
              "      <th>35725</th>\n",
              "      <td>0.616394</td>\n",
              "    </tr>\n",
              "    <tr>\n",
              "      <th>35726</th>\n",
              "      <td>0.000000</td>\n",
              "    </tr>\n",
              "    <tr>\n",
              "      <th>35727</th>\n",
              "      <td>0.085742</td>\n",
              "    </tr>\n",
              "  </tbody>\n",
              "</table>\n",
              "<p>35728 rows × 1 columns</p>\n",
              "</div>"
            ],
            "text/plain": [
              "       Market_Orientation\n",
              "0                0.717683\n",
              "1                0.061435\n",
              "2                0.000000\n",
              "3                0.899135\n",
              "4                0.169250\n",
              "...                   ...\n",
              "35723            0.323274\n",
              "35724            0.513858\n",
              "35725            0.616394\n",
              "35726            0.000000\n",
              "35727            0.085742\n",
              "\n",
              "[35728 rows x 1 columns]"
            ]
          },
          "metadata": {
            "tags": []
          },
          "execution_count": 72
        }
      ]
    },
    {
      "cell_type": "code",
      "metadata": {
        "colab": {
          "base_uri": "https://localhost:8080/"
        },
        "id": "WxgQuGRkIYWN",
        "outputId": "a6a92a33-931d-4c1a-ed81-5a87accc6f29"
      },
      "source": [
        "test.shape"
      ],
      "execution_count": 57,
      "outputs": [
        {
          "output_type": "execute_result",
          "data": {
            "text/plain": [
              "(300, 70)"
            ]
          },
          "metadata": {
            "tags": []
          },
          "execution_count": 57
        }
      ]
    },
    {
      "cell_type": "code",
      "metadata": {
        "id": "kCw3XWbp86As",
        "outputId": "afc063b9-3522-4d51-8305-a170af00b3bb"
      },
      "source": [
        "# model.predict(X_test_val)\n",
        "# model.evaluate(X_test_val, y_test_val)\n",
        "\n",
        "\n",
        "# evaluate the model\n",
        "_, train_acc = model.evaluate(X_train, y_train, verbose=0)\n",
        "_, test_acc = model.evaluate(X_test_val, y_test_val, verbose=0)\n",
        "print('Train: %.3f, Validation: %.3f' % (train_acc, test_acc))\n",
        "# plot loss during training\n",
        "plt.subplot(211)\n",
        "plt.title('Loss')\n",
        "plt.plot(history.history['loss'], label='train')\n",
        "plt.plot(history.history['val_loss'], label='test')\n",
        "plt.legend()\n"
      ],
      "execution_count": null,
      "outputs": [
        {
          "output_type": "stream",
          "text": [
            "Train: 0.701, Validation: 0.644\n"
          ],
          "name": "stdout"
        },
        {
          "output_type": "execute_result",
          "data": {
            "text/plain": [
              "<matplotlib.legend.Legend at 0x1ba13c1b948>"
            ]
          },
          "metadata": {
            "tags": []
          },
          "execution_count": 117
        },
        {
          "output_type": "display_data",
          "data": {
            "image/png": "[encoded data removed]",
            "text/plain": [
              "<Figure size 432x288 with 1 Axes>"
            ]
          },
          "metadata": {
            "tags": [],
            "needs_background": "light"
          }
        }
      ]
    },
    {
      "cell_type": "code",
      "metadata": {
        "id": "4H3Jn_xY86As",
        "outputId": "20386539-2963-4c51-da04-82b23d78af55"
      },
      "source": [
        "# plot accuracy during training\n",
        "plt.subplot(212)\n",
        "plt.title('Accuracy')\n",
        "plt.plot(history.history['accuracy'], label='train')\n",
        "plt.plot(history.history['val_accuracy'], label='test')\n",
        "plt.legend()\n",
        "plt.show()\n",
        "\n"
      ],
      "execution_count": null,
      "outputs": [
        {
          "output_type": "display_data",
          "data": {
            "image/png": "[encoded data removed]",
            "text/plain": [
              "<Figure size 432x288 with 1 Axes>"
            ]
          },
          "metadata": {
            "tags": [],
            "needs_background": "light"
          }
        }
      ]
    },
    {
      "cell_type": "code",
      "metadata": {
        "id": "2avTH4uZ86At",
        "outputId": "78ce5e00-b536-4c03-9435-e0378c1bdfa4"
      },
      "source": [
        "from sklearn.metrics import classification_report\n",
        "\n",
        "y_pred = model.predict(X_test_val, batch_size=64, verbose=1)\n",
        "y_pred_bool = np.argmax(y_pred, axis=1)\n",
        "\n",
        "print(classification_report(y_test_val, y_pred_bool))"
      ],
      "execution_count": null,
      "outputs": [
        {
          "output_type": "stream",
          "text": [
            "8932/8932 [==============================] - 0s 22us/step\n",
            "              precision    recall  f1-score   support\n",
            "\n",
            "           1       0.70      0.84      0.76      3019\n",
            "           2       0.67      0.24      0.35      1403\n",
            "           3       0.57      0.56      0.56      2264\n",
            "           4       0.63      0.72      0.67      2246\n",
            "\n",
            "    accuracy                           0.64      8932\n",
            "   macro avg       0.64      0.59      0.59      8932\n",
            "weighted avg       0.64      0.64      0.63      8932\n",
            "\n"
          ],
          "name": "stdout"
        }
      ]
    },
    {
      "cell_type": "code",
      "metadata": {
        "id": "PWfI6mjn86At",
        "outputId": "6be2385d-7f14-455c-9e96-f7a23d53e606"
      },
      "source": [
        "from sklearn.dummy import DummyClassifier\n",
        "from sklearn.metrics import accuracy_score\n",
        "model = DummyClassifier(strategy='most_frequent')\n",
        "# fit model\n",
        "model.fit(X_train, y_train)\n",
        "# make predictions\n",
        "yhat = model.predict(X_test_val)\n",
        "# calculate accuracy\n",
        "accuracy = accuracy_score(y_test_val, yhat)\n",
        "print('Accuracy: %.3f' % accuracy)"
      ],
      "execution_count": null,
      "outputs": [
        {
          "output_type": "stream",
          "text": [
            "Accuracy: 0.338\n"
          ],
          "name": "stdout"
        }
      ]
    },
    {
      "cell_type": "code",
      "metadata": {
        "id": "QAips8ni86At",
        "outputId": "7ab69dd9-0707-46a5-a6e1-221c7d894b3f"
      },
      "source": [
        "from sklearn.neural_network import MLPClassifier\n",
        "classifier = MLPClassifier(hidden_layer_sizes=100, learning_rate='adaptive').fit(X_train, y_train)\n",
        "score = classifier.score(X_test_val, y_test_val)\n",
        "score"
      ],
      "execution_count": null,
      "outputs": [
        {
          "output_type": "stream",
          "text": [
            "C:\\Users\\Asus\\Anaconda3\\lib\\site-packages\\sklearn\\neural_network\\multilayer_perceptron.py:566: ConvergenceWarning: Stochastic Optimizer: Maximum iterations (200) reached and the optimization hasn't converged yet.\n",
            "  % self.max_iter, ConvergenceWarning)\n"
          ],
          "name": "stderr"
        },
        {
          "output_type": "execute_result",
          "data": {
            "text/plain": [
              "0.6307657859381998"
            ]
          },
          "metadata": {
            "tags": []
          },
          "execution_count": 112
        }
      ]
    },
    {
      "cell_type": "code",
      "metadata": {
        "id": "Mpu9jqPT86At",
        "outputId": "6ee2d471-dcd7-403b-a4c1-9370363633db"
      },
      "source": [
        "y_pred = classifier.predict(X_test_val)\n",
        "\n",
        "print(classification_report(y_test_val, y_pred))"
      ],
      "execution_count": null,
      "outputs": [
        {
          "output_type": "stream",
          "text": [
            "              precision    recall  f1-score   support\n",
            "\n",
            "           1       0.71      0.77      0.74      3019\n",
            "           2       0.50      0.41      0.45      1403\n",
            "           3       0.57      0.55      0.56      2264\n",
            "           4       0.64      0.66      0.65      2246\n",
            "\n",
            "    accuracy                           0.63      8932\n",
            "   macro avg       0.60      0.60      0.60      8932\n",
            "weighted avg       0.62      0.63      0.63      8932\n",
            "\n"
          ],
          "name": "stdout"
        }
      ]
    },
    {
      "cell_type": "code",
      "metadata": {
        "id": "wW4FQIIU86Au"
      },
      "source": [
        "from sklearn.ensemble import RandomForestClassifier\n",
        "classifier1 = RandomForestClassifier().fit(X_train, y_train)\n",
        "score1 = classifier1.score(X_test_val, y_test_val)\n",
        "print(score1)\n",
        "\n",
        "y_pred1 = classifier1.predict(X_test_val)\n",
        "\n",
        "print(classification_report(y_test_val, y_pred1))"
      ],
      "execution_count": null,
      "outputs": []
    },
    {
      "cell_type": "code",
      "metadata": {
        "id": "5JjNn5JY86Au"
      },
      "source": [
        "\n",
        "classifier2 = ExtraTreesClassifier().fit(X_train, y_train)\n",
        "score2 = classifier2.score(X_test_val, y_test_val)\n",
        "print(score1)\n",
        "\n",
        "y_pred2 = classifier2.predict(X_test_val)\n",
        "\n",
        "print(classification_report(y_test_val, y_pred2))"
      ],
      "execution_count": null,
      "outputs": []
    },
    {
      "cell_type": "code",
      "metadata": {
        "id": "79B57r2i86Au"
      },
      "source": [
        ""
      ],
      "execution_count": null,
      "outputs": []
    },
    {
      "cell_type": "code",
      "metadata": {
        "id": "7UhxSTop86Au"
      },
      "source": [
        ""
      ],
      "execution_count": null,
      "outputs": []
    },
    {
      "cell_type": "code",
      "metadata": {
        "id": "wsWFaiRN86Au"
      },
      "source": [
        ""
      ],
      "execution_count": null,
      "outputs": []
    },
    {
      "cell_type": "code",
      "metadata": {
        "id": "g-wjE_yT86Au"
      },
      "source": [
        ""
      ],
      "execution_count": null,
      "outputs": []
    }
  ]
}