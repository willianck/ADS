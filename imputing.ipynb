{
 "cells": [
  {
   "cell_type": "code",
   "execution_count": 1,
   "metadata": {},
   "outputs": [],
   "source": [
    "from sklearn.cluster import KMeans\n",
    "import pandas as pd\n",
    "import pickle\n",
    "import string\n",
    "import re\n",
    "import string\n",
    "from sklearn.model_selection import cross_validate as cross_validation, ShuffleSplit, cross_val_score, train_test_split, KFold\n",
    "from sklearn.model_selection import GridSearchCV, RandomizedSearchCV\n",
    "from sklearn.metrics import classification_report, accuracy_score, auc\n",
    "import numpy as np\n",
    "import matplotlib.pyplot as plt\n",
    "import seaborn as sns\n",
    "from pathlib import Path\n",
    "from sklearn.svm import LinearSVC\n",
    "from sklearn.tree import DecisionTreeRegressor\n",
    "from sklearn.neural_network import MLPClassifier\n",
    "from sklearn.linear_model import LogisticRegression\n",
    "from sklearn.preprocessing import OneHotEncoder\n",
    "from sklearn.experimental import enable_iterative_imputer\n",
    "from sklearn.linear_model import BayesianRidge\n",
    "from sklearn.tree import DecisionTreeRegressor\n",
    "from sklearn.ensemble import ExtraTreesRegressor\n",
    "from sklearn.neighbors import KNeighborsRegressor\n",
    "from sklearn.impute import IterativeImputer\n",
    "import pickle"
   ]
  },
  {
   "cell_type": "code",
   "execution_count": 2,
   "metadata": {},
   "outputs": [],
   "source": [
    "data_old = pd.read_pickle('Cyclical_encoded_data.pkl')"
   ]
  },
  {
   "cell_type": "code",
   "execution_count": 3,
   "metadata": {},
   "outputs": [],
   "source": [
    "data = pd.read_pickle('Cyclical_encoded_data_2.pkl')"
   ]
  },
  {
   "cell_type": "code",
   "execution_count": 4,
   "metadata": {},
   "outputs": [],
   "source": [
    "def set_min_value(df, index):\n",
    "    values = []\n",
    "    for i in range(len(df.columns)):\n",
    "        values.append(-np.inf)\n",
    "    values.insert(index,1) \n",
    "    values.pop()\n",
    "    return values\n",
    "\n",
    "def set_max_value(df, index):\n",
    "    values = []\n",
    "    for i in range(len(df.columns)):\n",
    "        values.append(np.inf)\n",
    "    values.insert(index,4) \n",
    "    values.pop()\n",
    "    return values \n",
    "\n",
    "def find_column_index(index, column):\n",
    "    column_index = 0\n",
    "    for i in range(len(index)):\n",
    "        if (index[i] == column):\n",
    "            column_index = i\n",
    "    return column_index"
   ]
  },
  {
   "cell_type": "code",
   "execution_count": null,
   "metadata": {},
   "outputs": [],
   "source": []
  },
  {
   "cell_type": "code",
   "execution_count": 5,
   "metadata": {},
   "outputs": [],
   "source": [
    "# print(find_column_index(data_pre.columns, 'Food_InsecurityLevel'))\n",
    "# print(len(data_pre.columns))"
   ]
  },
  {
   "cell_type": "code",
   "execution_count": 6,
   "metadata": {},
   "outputs": [],
   "source": [
    "index = find_column_index(data.columns, 'Food_InsecurityLevel')\n",
    "min_values = set_min_value(data, index)\n",
    "max_values = set_max_value(data, index)"
   ]
  },
  {
   "cell_type": "code",
   "execution_count": null,
   "metadata": {},
   "outputs": [],
   "source": [
    "imp_forest = IterativeImputer(ExtraTreesRegressor(n_estimators=100, random_state=0)\n",
    ", max_iter=10, random_state=0, min_value=min_values, max_value=max_values)\n",
    "# data = imp.transform(data)\n",
    "data_imputed_forest = pd.DataFrame(imp_forest.fit_transform(data),columns = data.columns)"
   ]
  },
  {
   "cell_type": "code",
   "execution_count": null,
   "metadata": {},
   "outputs": [],
   "source": [
    "# data_imputed_bayes['Food_InsecurityLevel'] = data_imputed_bayes['Food_InsecurityLevel'].astype('int32')\n",
    "# data_imputed_knn['Food_InsecurityLevel'] = data_imputed_knn['Food_InsecurityLevel'].astype('int32')\n",
    "# data_imputed_decision_tree['Food_InsecurityLevel'] = data_imputed_decision_tree['Food_InsecurityLevel'].astype('int32')\n",
    "data_imputed_forest['Food_InsecurityLevel'] = data_imputed_forest['Food_InsecurityLevel'].astype('int32')"
   ]
  },
  {
   "cell_type": "code",
   "execution_count": null,
   "metadata": {},
   "outputs": [],
   "source": [
    "data_imputed_bayes.to_pickle('imputed_data_bayes_2.pkl')"
   ]
  },
  {
   "cell_type": "code",
   "execution_count": null,
   "metadata": {},
   "outputs": [],
   "source": [
    "data_imputed_knn.to_pickle('imputed_data_knn.pkl')"
   ]
  },
  {
   "cell_type": "code",
   "execution_count": null,
   "metadata": {},
   "outputs": [],
   "source": [
    "data_imputed_decision_tree.to_pickle('imputed_data_decision_tree_2.pkl')"
   ]
  },
  {
   "cell_type": "code",
   "execution_count": null,
   "metadata": {},
   "outputs": [],
   "source": [
    "data_imputed_forest.to_pickle('imputed_data_forest_2.pkl')"
   ]
  },
  {
   "cell_type": "raw",
   "metadata": {},
   "source": [
    "print(imputed['Food_InsecurityLevel])"
   ]
  },
  {
   "cell_type": "code",
   "execution_count": null,
   "metadata": {},
   "outputs": [],
   "source": [
    "print(data_imputed['Food_InsecurityLevel'].unique())"
   ]
  },
  {
   "cell_type": "code",
   "execution_count": null,
   "metadata": {},
   "outputs": [],
   "source": []
  },
  {
   "cell_type": "code",
   "execution_count": null,
   "metadata": {},
   "outputs": [],
   "source": [
    "data_pre.describe()"
   ]
  },
  {
   "cell_type": "code",
   "execution_count": null,
   "metadata": {},
   "outputs": [],
   "source": [
    "def multiple_imputation(dfs):\n",
    "    final_df = pd.DataFrame(dfs[0])\n",
    "    for i in range(len(dfs) - 1):\n",
    "        final_df = final_df + dfs[i] \n",
    "    final_df = final_df/len(dfs)    \n",
    "    return final_df        \n",
    "\n",
    "            \n",
    "# def average_columns(dfs):\n",
    "#     df = pd.DataFrame(dfs[0][column])\n",
    "#     for i in range (len(dfs) - 1):\n",
    "#         df = df + dfs[i + 1][column]\n",
    "#     df = df / len(dfs) \n",
    "#     return df"
   ]
  },
  {
   "cell_type": "code",
   "execution_count": null,
   "metadata": {},
   "outputs": [],
   "source": [
    "data_imputed_forest = pd.read_pickle('imputed_data_forest_2.pkl')\n",
    "data_imputed_bayes = pd.read_pickle('imputed_data_bayes_2.pkl')\n",
    "data_imputed_decision_tree = pd.read_pickle('imputed_data_decision_tree_2.pkl')\n",
    "data_imputed_knn = pd.read_pickle('imputed_data_knn_2.pkl')\n",
    "\n",
    "dfs = []\n",
    "dfs.append(data_imputed_bayes)\n",
    "dfs.append(data_imputed_forest)\n",
    "dfs.append(data_imputed_decision_tree)\n",
    "dfs.append(data_imputed_knn)"
   ]
  },
  {
   "cell_type": "code",
   "execution_count": null,
   "metadata": {},
   "outputs": [],
   "source": [
    "multiple_imputed_data = multiple_imputation(dfs)"
   ]
  },
  {
   "cell_type": "markdown",
   "metadata": {},
   "source": [
    "multiple_imputed_data.describe()"
   ]
  },
  {
   "cell_type": "code",
   "execution_count": null,
   "metadata": {},
   "outputs": [],
   "source": [
    "multiple_imputed_data.describe()"
   ]
  },
  {
   "cell_type": "code",
   "execution_count": null,
   "metadata": {},
   "outputs": [],
   "source": [
    "multiple_imputed_data['HHsizemembers'] = multiple_imputed_data['HHsizemembers'].astype('int32')\n",
    "multiple_imputed_data['HHsizemembers'].unique()"
   ]
  },
  {
   "cell_type": "code",
   "execution_count": null,
   "metadata": {},
   "outputs": [],
   "source": [
    "def replace_categoricals(data_p, data_i):\n",
    "    for column in data_i.columns:\n",
    "        if '<' in column:\n",
    "            data_i[column] = data_p[column]\n",
    "    return data_i    \n",
    "        \n",
    "    "
   ]
  },
  {
   "cell_type": "code",
   "execution_count": null,
   "metadata": {},
   "outputs": [],
   "source": [
    "data_encoded = pd.read_pickle(\"Cyclical_encoded_data.pkl\")\n",
    "data_encoded.describe()"
   ]
  },
  {
   "cell_type": "code",
   "execution_count": null,
   "metadata": {},
   "outputs": [],
   "source": [
    "multiple_imputed_data.describe()"
   ]
  },
  {
   "cell_type": "code",
   "execution_count": null,
   "metadata": {},
   "outputs": [],
   "source": [
    "multiple_imputed_data.to_pickle(\"multiple_imputed_data_2.pkl\")"
   ]
  },
  {
   "cell_type": "code",
   "execution_count": null,
   "metadata": {},
   "outputs": [],
   "source": []
  }
 ],
 "metadata": {
  "kernelspec": {
   "display_name": "Python 3",
   "language": "python",
   "name": "python3"
  },
  "language_info": {
   "codemirror_mode": {
    "name": "ipython",
    "version": 3
   },
   "file_extension": ".py",
   "mimetype": "text/x-python",
   "name": "python",
   "nbconvert_exporter": "python",
   "pygments_lexer": "ipython3",
   "version": "3.7.4"
  }
 },
 "nbformat": 4,
 "nbformat_minor": 4
}
