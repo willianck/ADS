{
 "cells": [
  {
   "cell_type": "code",
   "execution_count": 5,
   "metadata": {},
   "outputs": [],
   "source": [
    "from sklearn.cluster import KMeans\n",
    "import pandas as pd\n",
    "import pickle\n",
    "import string\n",
    "import re\n",
    "import string\n",
    "from sklearn.model_selection import cross_validate as cross_validation, ShuffleSplit, cross_val_score, train_test_split, KFold\n",
    "from sklearn.model_selection import GridSearchCV, RandomizedSearchCV\n",
    "from sklearn.metrics import classification_report, accuracy_score, auc\n",
    "import numpy as np\n",
    "import matplotlib.pyplot as plt\n",
    "import seaborn as sns\n",
    "from pathlib import Path\n",
    "from sklearn.svm import LinearSVC\n",
    "from sklearn.neural_network import MLPClassifier\n",
    "from sklearn.linear_model import LogisticRegression\n",
    "from sklearn.preprocessing import OneHotEncoder\n",
    "from sklearn.experimental import enable_iterative_imputer\n",
    "from sklearn.impute import IterativeImputer\n",
    "import pickle"
   ]
  },
  {
   "cell_type": "code",
   "execution_count": 14,
   "metadata": {},
   "outputs": [],
   "source": [
    "data_pre = pd.read_pickle('Cyclical_encoded_data.pkl')"
   ]
  },
  {
   "cell_type": "code",
   "execution_count": 15,
   "metadata": {},
   "outputs": [
    {
     "data": {
      "text/plain": [
       "array([[ 2.019e+03,  1.000e+00,  1.119e+01, ...,  0.000e+00,  0.000e+00,\n",
       "         0.000e+00],\n",
       "       [ 2.019e+03,  1.000e+00,  1.119e+01, ...,  0.000e+00,  0.000e+00,\n",
       "         0.000e+00],\n",
       "       [ 2.019e+03,  1.000e+00,  1.119e+01, ...,  0.000e+00,  0.000e+00,\n",
       "         0.000e+00],\n",
       "       ...,\n",
       "       [ 2.017e+03,  1.000e+00, -1.382e+01, ...,  0.000e+00,  0.000e+00,\n",
       "         1.000e+00],\n",
       "       [ 2.017e+03,  1.000e+00, -1.382e+01, ...,  0.000e+00,  0.000e+00,\n",
       "         1.000e+00],\n",
       "       [ 2.017e+03,  1.000e+00, -1.382e+01, ...,  0.000e+00,  0.000e+00,\n",
       "         1.000e+00]])"
      ]
     },
     "execution_count": 15,
     "metadata": {},
     "output_type": "execute_result"
    }
   ],
   "source": [
    "imp = IterativeImputer(max_iter=10, random_state=0)\n",
    "data = data_pre.drop(['RHoMIS_ID','ID_HH'],axis=1)\n",
    "imp.fit_transform(data)"
   ]
  },
  {
   "cell_type": "code",
   "execution_count": 16,
   "metadata": {},
   "outputs": [],
   "source": [
    "data.to_pickle('imputed_data.pkl')"
   ]
  },
  {
   "cell_type": "code",
   "execution_count": null,
   "metadata": {},
   "outputs": [],
   "source": []
  }
 ],
 "metadata": {
  "kernelspec": {
   "display_name": "Python 3",
   "language": "python",
   "name": "python3"
  },
  "language_info": {
   "codemirror_mode": {
    "name": "ipython",
    "version": 3
   },
   "file_extension": ".py",
   "mimetype": "text/x-python",
   "name": "python",
   "nbconvert_exporter": "python",
   "pygments_lexer": "ipython3",
   "version": "3.7.4"
  }
 },
 "nbformat": 4,
 "nbformat_minor": 4
}
