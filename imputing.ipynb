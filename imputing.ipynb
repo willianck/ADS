{
 "cells": [
  {
   "cell_type": "code",
   "execution_count": 6,
   "metadata": {},
   "outputs": [],
   "source": [
    "from sklearn.cluster import KMeans\n",
    "import pandas as pd\n",
    "import pickle\n",
    "import string\n",
    "import re\n",
    "import string\n",
    "from sklearn.model_selection import cross_validate as cross_validation, ShuffleSplit, cross_val_score, train_test_split, KFold\n",
    "from sklearn.model_selection import GridSearchCV, RandomizedSearchCV\n",
    "from sklearn.metrics import classification_report, accuracy_score, auc\n",
    "import numpy as np\n",
    "import matplotlib.pyplot as plt\n",
    "import seaborn as sns\n",
    "from pathlib import Path\n",
    "from sklearn.svm import LinearSVC\n",
    "from sklearn.neural_network import MLPClassifier\n",
    "from sklearn.linear_model import LogisticRegression\n",
    "from sklearn.preprocessing import OneHotEncoder\n",
    "from sklearn.experimental import enable_iterative_imputer\n",
    "from sklearn.impute import IterativeImputer\n",
    "import pickle"
   ]
  },
  {
   "cell_type": "code",
   "execution_count": 7,
   "metadata": {},
   "outputs": [],
   "source": [
    "data_pre = pd.read_pickle('Cyclical_encoded_data.pkl')"
   ]
  },
  {
   "cell_type": "code",
   "execution_count": 46,
   "metadata": {},
   "outputs": [],
   "source": [
    "def set_min_value(df):\n",
    "    values = []\n",
    "    for i in range(len(df.columns) - 2):\n",
    "        values.append(-np.inf)\n",
    "    values.insert(40,1) \n",
    "    values.pop()\n",
    "    return values\n",
    "\n",
    "def set_max_value(df):\n",
    "    values = []\n",
    "    for i in range(len(df.columns) - 2):\n",
    "        values.append(np.inf)\n",
    "    values.insert(40,4) \n",
    "    values.pop()\n",
    "    return values "
   ]
  },
  {
   "cell_type": "code",
   "execution_count": 47,
   "metadata": {},
   "outputs": [
    {
     "name": "stdout",
     "output_type": "stream",
     "text": [
      "Index(['YEAR', 'ITERATION', 'ID_HH', 'RHoMIS_ID', 'GPS_LAT', 'GPS_LON',\n",
      "       'GPS_ALT', 'HHsizemembers', 'HHsizeMAE', 'LandOwned', 'LandCultivated',\n",
      "       'LivestockHoldings', 'NrofMonthsFoodInsecure', 'PPI_Threshold',\n",
      "       'PPI_Likelihood', 'score_HDDS_GoodSeason',\n",
      "       'score_HDDS_farmbasedGoodSeason', 'score_HDDS_purchasedGoodSeason',\n",
      "       'score_HDDS_BadSeason', 'score_HDDS_farmbasedBadSeason',\n",
      "       'score_HDDS_purchasedBadSeason', 'TVA_USD_PPP_pmae_pday',\n",
      "       'currency_conversion_factor', 'total_income_USD_PPP_pHH_Yr',\n",
      "       'offfarm_income_USD_PPP_pHH_Yr', 'farm_income_USD_PPP_pHH_Yr',\n",
      "       'value_farm_produce_USD_PPP_pHH_Yr', 'crop_sales_USD_PPP_pHH_Yr',\n",
      "       'value_crop_produce_USD_PPP_pHH_Yr',\n",
      "       'value_crop_consumed_USD_PPP_pHH_Yr',\n",
      "       'livestock_prodsales_USD_PPP_pHH_Yr',\n",
      "       'value_livestock_production_USD_PPP_pHH_Yr',\n",
      "       'value_livestock_prod_consumed_USD_PPP_pHH_Yr', 'Market_Orientation',\n",
      "       'Livestock_Orientation', 'Food_Availability_kCal_MAE_day',\n",
      "       'Food_Self_Sufficiency_kCal_MAE_day', 'NrofMonthsWildFoodCons',\n",
      "       'GHGEmissions', 'Gender_MaleControl', 'Gender_FemaleControl',\n",
      "       'NFertInput', 'Food_InsecurityLevel', 'sinBestFoodSecMonth',\n",
      "       'cosBestFoodSecMonth', 'sinWorstFoodSecMonth', 'cosWorstFoodSecMonth',\n",
      "       'Head_EducationLevel_<Other>', 'Head_EducationLevel_<illiterate>',\n",
      "       'Head_EducationLevel_<literate>', 'Head_EducationLevel_<no_school>',\n",
      "       'Head_EducationLevel_<postsecondary>', 'Head_EducationLevel_<primary>',\n",
      "       'Head_EducationLevel_<secondary>', 'HouseholdType_<childhead>',\n",
      "       'HouseholdType_<couple>', 'HouseholdType_<couple_man_works_away>',\n",
      "       'HouseholdType_<couple_polygamous>',\n",
      "       'HouseholdType_<couple_woman_works_away>', 'HouseholdType_<man_single>',\n",
      "       'HouseholdType_<nonparenthead>', 'HouseholdType_<other>',\n",
      "       'HouseholdType_<polygamous>', 'HouseholdType_<single>',\n",
      "       'HouseholdType_<together>', 'HouseholdType_<woman_single>',\n",
      "       'HouseholdType_<workaway>', 'Country_<Bolivia>',\n",
      "       'Country_<Burkina_Faso>', 'Country_<Burundi>', 'Country_<Cambodia>',\n",
      "       'Country_<Comoros>', 'Country_<Costa_Rica>', 'Country_<Cote d'Ivoire>',\n",
      "       'Country_<DRC>', 'Country_<Ecuador>', 'Country_<El_Salvador>',\n",
      "       'Country_<Ethiopia>', 'Country_<Ghana>', 'Country_<Guatemala>',\n",
      "       'Country_<Honduras>', 'Country_<India>', 'Country_<Kenya>',\n",
      "       'Country_<LaoPDR>', 'Country_<Malawi>', 'Country_<Mali>',\n",
      "       'Country_<Morocco>', 'Country_<Nicaragua>', 'Country_<Niger>',\n",
      "       'Country_<Nigeria>', 'Country_<Palestine>', 'Country_<Peru>',\n",
      "       'Country_<Rwanda>', 'Country_<Senegal>', 'Country_<Sierra Leone>',\n",
      "       'Country_<South Africa>', 'Country_<Tanzania>', 'Country_<Uganda>',\n",
      "       'Country_<Vietnam>', 'Country_<Zambia>'],\n",
      "      dtype='object')\n",
      "100\n"
     ]
    }
   ],
   "source": [
    "print(data_pre.columns)\n",
    "print(len(data_pre.columns))"
   ]
  },
  {
   "cell_type": "code",
   "execution_count": 48,
   "metadata": {},
   "outputs": [],
   "source": [
    "min_values = set_min_value(data_pre)\n",
    "max_values = set_max_value(data_pre)"
   ]
  },
  {
   "cell_type": "code",
   "execution_count": 49,
   "metadata": {},
   "outputs": [
    {
     "name": "stdout",
     "output_type": "stream",
     "text": [
      "[-inf, -inf, -inf, -inf, -inf, -inf, -inf, -inf, -inf, -inf, -inf, -inf, -inf, -inf, -inf, -inf, -inf, -inf, -inf, -inf, -inf, -inf, -inf, -inf, -inf, -inf, -inf, -inf, -inf, -inf, -inf, -inf, -inf, -inf, -inf, -inf, -inf, -inf, -inf, -inf, 1, -inf, -inf, -inf, -inf, -inf, -inf, -inf, -inf, -inf, -inf, -inf, -inf, -inf, -inf, -inf, -inf, -inf, -inf, -inf, -inf, -inf, -inf, -inf, -inf, -inf, -inf, -inf, -inf, -inf, -inf, -inf, -inf, -inf, -inf, -inf, -inf, -inf, -inf, -inf, -inf, -inf, -inf, -inf, -inf, -inf, -inf, -inf, -inf, -inf, -inf, -inf, -inf, -inf, -inf, -inf, -inf, -inf]\n"
     ]
    }
   ],
   "source": [
    "print(min_values)"
   ]
  },
  {
   "cell_type": "code",
   "execution_count": 50,
   "metadata": {},
   "outputs": [],
   "source": [
    "imp = IterativeImputer(max_iter=10, random_state=0, min_value=min_values, max_value=max_values)\n",
    "data = data_pre.drop(['RHoMIS_ID','ID_HH'],axis=1)\n",
    "# imp.fit(data)\n",
    "# data = imp.transform(data)\n",
    "data_imputed = pd.DataFrame(imp.fit_transform(data),columns = data.columns)"
   ]
  },
  {
   "cell_type": "code",
   "execution_count": 60,
   "metadata": {},
   "outputs": [],
   "source": [
    "data_imputed['Food_InsecurityLevel'] = data_imputed['Food_InsecurityLevel'].astype('int32')"
   ]
  },
  {
   "cell_type": "code",
   "execution_count": 61,
   "metadata": {},
   "outputs": [],
   "source": [
    "data_imputed.to_pickle('imputed_data.pkl')"
   ]
  },
  {
   "cell_type": "raw",
   "metadata": {},
   "source": [
    "print(imputed['Food_InsecurityLevel])"
   ]
  },
  {
   "cell_type": "code",
   "execution_count": 62,
   "metadata": {},
   "outputs": [
    {
     "name": "stdout",
     "output_type": "stream",
     "text": [
      "[3 4 2 1]\n"
     ]
    }
   ],
   "source": [
    "print(data_imputed['Food_InsecurityLevel'].unique())"
   ]
  },
  {
   "cell_type": "code",
   "execution_count": 52,
   "metadata": {},
   "outputs": [],
   "source": [
    "y = data_imputed['Food_InsecurityLevel']\n",
    "x = data_imputed.drop(['Food_InsecurityLevel'],axis=1)\n",
    "# from sklearn.linear_model import LinearRegression\n",
    "# reg = LinearRegression().fit(x, y)"
   ]
  },
  {
   "cell_type": "code",
   "execution_count": null,
   "metadata": {},
   "outputs": [],
   "source": []
  }
 ],
 "metadata": {
  "kernelspec": {
   "display_name": "Python 3",
   "language": "python",
   "name": "python3"
  },
  "language_info": {
   "codemirror_mode": {
    "name": "ipython",
    "version": 3
   },
   "file_extension": ".py",
   "mimetype": "text/x-python",
   "name": "python",
   "nbconvert_exporter": "python",
   "pygments_lexer": "ipython3",
   "version": "3.7.4"
  }
 },
 "nbformat": 4,
 "nbformat_minor": 4
}
