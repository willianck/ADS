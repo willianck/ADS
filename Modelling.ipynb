{
 "cells": [
  {
   "cell_type": "code",
   "execution_count": 2,
   "id": "1839c79d",
   "metadata": {},
   "outputs": [],
   "source": [
    "from sklearn.cluster import KMeans\n",
    "import pandas as pd\n",
    "import pickle\n",
    "import string\n",
    "import re\n",
    "import string\n",
    "from sklearn.model_selection import cross_validate as cross_validation, ShuffleSplit, cross_val_score, train_test_split, KFold\n",
    "from sklearn.model_selection import GridSearchCV, RandomizedSearchCV\n",
    "from sklearn.metrics import classification_report, accuracy_score, auc\n",
    "import numpy as np\n",
    "import matplotlib.pyplot as plt\n",
    "import seaborn as sns\n",
    "from pathlib import Path\n",
    "from sklearn.svm import *\n",
    "# from sklearn.tree import *\n",
    "from sklearn.neural_network import *\n",
    "from sklearn.linear_model import *\n",
    "from sklearn.ensemble import ExtraTreesClassifier\n",
    "from sklearn.preprocessing import OneHotEncoder\n",
    "from sklearn.experimental import enable_iterative_imputer\n",
    "from sklearn.linear_model import *\n",
    "from sklearn.tree import *\n",
    "from sklearn.ensemble import *\n",
    "from sklearn.ensemble import RandomForestClassifier\n",
    "from sklearn.neighbors import *\n",
    "from sklearn.impute import IterativeImputer\n",
    "from sklearn.naive_bayes import *\n",
    "import pickle\n",
    "from sklearn.svm import SVC\n",
    "from sklearn.preprocessing import StandardScaler\n",
    "from sklearn.datasets import make_classification\n",
    "from sklearn.model_selection import train_test_split\n",
    "from sklearn.pipeline import Pipeline"
   ]
  },
  {
   "cell_type": "code",
   "execution_count": 3,
   "id": "21da20b7",
   "metadata": {},
   "outputs": [
    {
     "data": {
      "text/plain": [
       "array([3, 4, 2, 1], dtype=int32)"
      ]
     },
     "execution_count": 3,
     "metadata": {},
     "output_type": "execute_result"
    }
   ],
   "source": [
    "data = pd.read_pickle('multiple_imputed_data.pkl')\n",
    "from sklearn.preprocessing import MinMaxScaler\n",
    "scaler = MinMaxScaler()\n",
    "X = data.drop(['Food_InsecurityLevel'],axis=1)\n",
    "X = scaler.fit_transform(X)\n",
    "y = data['Food_InsecurityLevel']\n",
    "y.unique()"
   ]
  },
  {
   "cell_type": "code",
   "execution_count": 4,
   "id": "eaaf0857",
   "metadata": {},
   "outputs": [],
   "source": [
    "X_train, X_test, y_train, y_test = train_test_split(X, y, test_size=0.25, random_state=0)"
   ]
  },
  {
   "cell_type": "code",
   "execution_count": 5,
   "id": "8a8b5cfb",
   "metadata": {},
   "outputs": [],
   "source": [
    "from sklearn.model_selection import GridSearchCV"
   ]
  },
  {
   "cell_type": "code",
   "execution_count": 13,
   "id": "7c4f4704",
   "metadata": {},
   "outputs": [],
   "source": [
    "parameters = {'bootstrap': [True, False],\n",
    " 'max_depth': [10, 50, 100, None],\n",
    " 'max_features': ['auto', 'sqrt'],\n",
    " 'min_samples_leaf': [1, 2, 4],\n",
    " 'n_estimators': [100, 500, 1000]}"
   ]
  },
  {
   "cell_type": "code",
   "execution_count": 14,
   "id": "dba6c2c5",
   "metadata": {},
   "outputs": [
    {
     "name": "stdout",
     "output_type": "stream",
     "text": [
      "Fitting 3 folds for each of 144 candidates, totalling 432 fits\n"
     ]
    },
    {
     "name": "stderr",
     "output_type": "stream",
     "text": [
      "[Parallel(n_jobs=-1)]: Using backend LokyBackend with 4 concurrent workers.\n",
      "[Parallel(n_jobs=-1)]: Done  33 tasks      | elapsed:  1.3min\n",
      "[Parallel(n_jobs=-1)]: Done 154 tasks      | elapsed: 12.7min\n",
      "[Parallel(n_jobs=-1)]: Done 357 tasks      | elapsed: 34.7min\n",
      "[Parallel(n_jobs=-1)]: Done 432 out of 432 | elapsed: 44.7min finished\n"
     ]
    },
    {
     "data": {
      "text/plain": [
       "{'bootstrap': False,\n",
       " 'max_depth': 50,\n",
       " 'max_features': 'auto',\n",
       " 'min_samples_leaf': 1,\n",
       " 'n_estimators': 500}"
      ]
     },
     "execution_count": 14,
     "metadata": {},
     "output_type": "execute_result"
    }
   ],
   "source": [
    "from sklearn.model_selection import GridSearchCV\n",
    "# Instantiate the grid search model\n",
    "grid_search_et = GridSearchCV(estimator = ExtraTreesClassifier(), param_grid = parameters, \n",
    "                          cv = 3, n_jobs = -1, verbose = 2)\n",
    "grid_search_et.fit(X_train, y_train)\n",
    "grid_search_et.best_params_\n"
   ]
  },
  {
   "cell_type": "code",
   "execution_count": 15,
   "id": "57a1309c",
   "metadata": {},
   "outputs": [
    {
     "name": "stdout",
     "output_type": "stream",
     "text": [
      "Fitting 3 folds for each of 144 candidates, totalling 432 fits\n"
     ]
    },
    {
     "name": "stderr",
     "output_type": "stream",
     "text": [
      "[Parallel(n_jobs=-1)]: Using backend LokyBackend with 4 concurrent workers.\n",
      "[Parallel(n_jobs=-1)]: Done  33 tasks      | elapsed:  4.3min\n",
      "[Parallel(n_jobs=-1)]: Done 154 tasks      | elapsed: 24.9min\n",
      "[Parallel(n_jobs=-1)]: Done 357 tasks      | elapsed: 71.9min\n",
      "[Parallel(n_jobs=-1)]: Done 432 out of 432 | elapsed: 93.7min finished\n"
     ]
    },
    {
     "data": {
      "text/plain": [
       "{'bootstrap': False,\n",
       " 'max_depth': None,\n",
       " 'max_features': 'auto',\n",
       " 'min_samples_leaf': 1,\n",
       " 'n_estimators': 1000}"
      ]
     },
     "execution_count": 15,
     "metadata": {},
     "output_type": "execute_result"
    }
   ],
   "source": [
    "grid_search_et = GridSearchCV(estimator = RandomForestClassifier(), param_grid = parameters, \n",
    "                          cv = 3, n_jobs = -1, verbose = 2)\n",
    "grid_search_et.fit(X_train, y_train)\n",
    "grid_search_et.best_params_"
   ]
  },
  {
   "cell_type": "code",
   "execution_count": 6,
   "id": "bb1c9c41",
   "metadata": {},
   "outputs": [
    {
     "name": "stdout",
     "output_type": "stream",
     "text": [
      "Fitting 3 folds for each of 12 candidates, totalling 36 fits\n"
     ]
    },
    {
     "name": "stderr",
     "output_type": "stream",
     "text": [
      "[Parallel(n_jobs=-1)]: Using backend LokyBackend with 4 concurrent workers.\n",
      "[Parallel(n_jobs=-1)]: Done  36 out of  36 | elapsed: 89.6min finished\n"
     ]
    },
    {
     "data": {
      "text/plain": [
       "{'alpha': 0.0001, 'hidden_layer_sizes': (40, 100), 'max_iter': 500}"
      ]
     },
     "execution_count": 6,
     "metadata": {},
     "output_type": "execute_result"
    }
   ],
   "source": [
    "parameters_mlp = {\n",
    "    'hidden_layer_sizes': [(100,100),(100,100,100),(40,100),(1000,1000)],\n",
    "    'alpha':[0.0001,0.001,0.00001],\n",
    "    'max_iter':[500]\n",
    "}\n",
    "grid_search_mlp = GridSearchCV(estimator = MLPClassifier(), param_grid = parameters_mlp, \n",
    "                          cv = 3, n_jobs = -1, verbose = 2)\n",
    "grid_search_mlp.fit(X_train, y_train)\n",
    "grid_search_mlp.best_params_"
   ]
  },
  {
   "cell_type": "code",
   "execution_count": 1,
   "id": "15d07d72",
   "metadata": {},
   "outputs": [
    {
     "ename": "SyntaxError",
     "evalue": "invalid syntax (<ipython-input-1-9ae6166da604>, line 3)",
     "output_type": "error",
     "traceback": [
      "\u001b[0;36m  File \u001b[0;32m\"<ipython-input-1-9ae6166da604>\"\u001b[0;36m, line \u001b[0;32m3\u001b[0m\n\u001b[0;31m    'kernel':['poly']\u001b[0m\n\u001b[0m           ^\u001b[0m\n\u001b[0;31mSyntaxError\u001b[0m\u001b[0;31m:\u001b[0m invalid syntax\n"
     ]
    }
   ],
   "source": [
    "parameters_svc = {\n",
    "    'degree':[1,2,3,4,5,7,10,15,20,25,30,50],\n",
    "    'kernel':['poly']\n",
    "}\n",
    "\n",
    "grid_search_svc = GridSearchCV(estimator = SVC(), param_grid = parameters_svc, \n",
    "                          cv = 3, n_jobs = -1, verbose = 2)\n",
    "grid_search_svc.fit(X_train, y_train)\n",
    "grid_search_svc.best_params_"
   ]
  },
  {
   "cell_type": "code",
   "execution_count": null,
   "id": "1551d519",
   "metadata": {},
   "outputs": [],
   "source": [
    "grid_Search_svc."
   ]
  },
  {
   "cell_type": "code",
   "execution_count": 5,
   "id": "c99af330",
   "metadata": {},
   "outputs": [
    {
     "ename": "NameError",
     "evalue": "name '__version__' is not defined",
     "output_type": "error",
     "traceback": [
      "\u001b[0;31m---------------------------------------------------------------------------\u001b[0m",
      "\u001b[0;31mNameError\u001b[0m                                 Traceback (most recent call last)",
      "\u001b[0;32m<ipython-input-5-3a231a1db7e9>\u001b[0m in \u001b[0;36m<module>\u001b[0;34m\u001b[0m\n\u001b[0;32m----> 1\u001b[0;31m \u001b[0msklearn_version\u001b[0m \u001b[0;34m=\u001b[0m \u001b[0m__version__\u001b[0m\u001b[0;34m\u001b[0m\u001b[0;34m\u001b[0m\u001b[0m\n\u001b[0m\u001b[1;32m      2\u001b[0m \u001b[0;34m\u001b[0m\u001b[0m\n\u001b[1;32m      3\u001b[0m \u001b[0mprint\u001b[0m\u001b[0;34m(\u001b[0m\u001b[0msklearn_version\u001b[0m\u001b[0;34m)\u001b[0m\u001b[0;34m\u001b[0m\u001b[0;34m\u001b[0m\u001b[0m\n",
      "\u001b[0;31mNameError\u001b[0m: name '__version__' is not defined"
     ]
    }
   ],
   "source": [
    "sklearn_version = __version__\n",
    "\n",
    "print(sklearn_version)"
   ]
  },
  {
   "cell_type": "code",
   "execution_count": null,
   "id": "aa19265b",
   "metadata": {},
   "outputs": [],
   "source": []
  }
 ],
 "metadata": {
  "kernelspec": {
   "display_name": "Python 3",
   "language": "python",
   "name": "python3"
  },
  "language_info": {
   "codemirror_mode": {
    "name": "ipython",
    "version": 3
   },
   "file_extension": ".py",
   "mimetype": "text/x-python",
   "name": "python",
   "nbconvert_exporter": "python",
   "pygments_lexer": "ipython3",
   "version": "3.7.4"
  }
 },
 "nbformat": 4,
 "nbformat_minor": 5
}
