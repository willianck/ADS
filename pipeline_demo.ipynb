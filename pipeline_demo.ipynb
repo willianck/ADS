{
 "cells": [
  {
   "cell_type": "code",
   "execution_count": 2,
   "metadata": {},
   "outputs": [],
   "source": [
    "from sklearn.cluster import KMeans\n",
    "import pandas as pd\n",
    "import pickle\n",
    "import string\n",
    "import re\n",
    "import string\n",
    "from sklearn.model_selection import cross_validate as cross_validation, ShuffleSplit, cross_val_score, train_test_split, KFold\n",
    "from sklearn.model_selection import GridSearchCV, RandomizedSearchCV\n",
    "from sklearn.metrics import classification_report, accuracy_score, auc\n",
    "import numpy as np\n",
    "import matplotlib.pyplot as plt\n",
    "import seaborn as sns\n",
    "from pathlib import Path\n",
    "from sklearn.svm import *\n",
    "# from sklearn.tree import *\n",
    "from sklearn.neural_network import *\n",
    "from sklearn.linear_model import *\n",
    "from sklearn.ensemble import ExtraTreesClassifier\n",
    "from sklearn.preprocessing import OneHotEncoder\n",
    "from sklearn.experimental import enable_iterative_imputer\n",
    "from sklearn.linear_model import *\n",
    "from sklearn.tree import *\n",
    "from sklearn.ensemble import *\n",
    "from sklearn.ensemble import RandomForestClassifier\n",
    "from sklearn.neighbors import *\n",
    "from sklearn.impute import IterativeImputer\n",
    "from sklearn.naive_bayes import *\n",
    "import pickle\n",
    "from sklearn.svm import SVC\n",
    "from sklearn.preprocessing import StandardScaler\n",
    "from sklearn.datasets import make_classification\n",
    "from sklearn.model_selection import train_test_split\n",
    "from sklearn.pipeline import Pipeline"
   ]
  },
  {
   "cell_type": "code",
   "execution_count": 3,
   "metadata": {},
   "outputs": [],
   "source": [
    "data = pd.read_pickle('imputed_data_forest_2.pkl')\n"
   ]
  },
  {
   "cell_type": "code",
   "execution_count": 4,
   "metadata": {},
   "outputs": [],
   "source": [
    "# data['total_income_USD_PPP_pHH_Yr']"
   ]
  },
  {
   "cell_type": "code",
   "execution_count": 4,
   "metadata": {},
   "outputs": [
    {
     "data": {
      "text/html": [
       "<div>\n",
       "<style scoped>\n",
       "    .dataframe tbody tr th:only-of-type {\n",
       "        vertical-align: middle;\n",
       "    }\n",
       "\n",
       "    .dataframe tbody tr th {\n",
       "        vertical-align: top;\n",
       "    }\n",
       "\n",
       "    .dataframe thead th {\n",
       "        text-align: right;\n",
       "    }\n",
       "</style>\n",
       "<table border=\"1\" class=\"dataframe\">\n",
       "  <thead>\n",
       "    <tr style=\"text-align: right;\">\n",
       "      <th></th>\n",
       "      <th>YEAR</th>\n",
       "      <th>ITERATION</th>\n",
       "      <th>GPS_LAT</th>\n",
       "      <th>GPS_LON</th>\n",
       "      <th>GPS_ALT</th>\n",
       "      <th>HHsizemembers</th>\n",
       "      <th>HHsizeMAE</th>\n",
       "      <th>LandOwned</th>\n",
       "      <th>LandCultivated</th>\n",
       "      <th>LivestockHoldings</th>\n",
       "      <th>...</th>\n",
       "      <th>Country_&lt;Palestine&gt;</th>\n",
       "      <th>Country_&lt;Peru&gt;</th>\n",
       "      <th>Country_&lt;Rwanda&gt;</th>\n",
       "      <th>Country_&lt;Senegal&gt;</th>\n",
       "      <th>Country_&lt;Sierra Leone&gt;</th>\n",
       "      <th>Country_&lt;South Africa&gt;</th>\n",
       "      <th>Country_&lt;Tanzania&gt;</th>\n",
       "      <th>Country_&lt;Uganda&gt;</th>\n",
       "      <th>Country_&lt;Vietnam&gt;</th>\n",
       "      <th>Country_&lt;Zambia&gt;</th>\n",
       "    </tr>\n",
       "  </thead>\n",
       "  <tbody>\n",
       "    <tr>\n",
       "      <th>0</th>\n",
       "      <td>2019.0</td>\n",
       "      <td>1.0</td>\n",
       "      <td>11.19</td>\n",
       "      <td>-0.95</td>\n",
       "      <td>254.0</td>\n",
       "      <td>7.0</td>\n",
       "      <td>5.56</td>\n",
       "      <td>10.000</td>\n",
       "      <td>2.0</td>\n",
       "      <td>1.04</td>\n",
       "      <td>...</td>\n",
       "      <td>0.0</td>\n",
       "      <td>0.0</td>\n",
       "      <td>0.0</td>\n",
       "      <td>0.0</td>\n",
       "      <td>0.0</td>\n",
       "      <td>0.0</td>\n",
       "      <td>0.0</td>\n",
       "      <td>0.0</td>\n",
       "      <td>0.0</td>\n",
       "      <td>0.0</td>\n",
       "    </tr>\n",
       "    <tr>\n",
       "      <th>1</th>\n",
       "      <td>2019.0</td>\n",
       "      <td>1.0</td>\n",
       "      <td>11.19</td>\n",
       "      <td>-0.95</td>\n",
       "      <td>346.0</td>\n",
       "      <td>10.0</td>\n",
       "      <td>8.02</td>\n",
       "      <td>6.940</td>\n",
       "      <td>1.2</td>\n",
       "      <td>4.00</td>\n",
       "      <td>...</td>\n",
       "      <td>0.0</td>\n",
       "      <td>0.0</td>\n",
       "      <td>0.0</td>\n",
       "      <td>0.0</td>\n",
       "      <td>0.0</td>\n",
       "      <td>0.0</td>\n",
       "      <td>0.0</td>\n",
       "      <td>0.0</td>\n",
       "      <td>0.0</td>\n",
       "      <td>0.0</td>\n",
       "    </tr>\n",
       "    <tr>\n",
       "      <th>2</th>\n",
       "      <td>2019.0</td>\n",
       "      <td>1.0</td>\n",
       "      <td>11.19</td>\n",
       "      <td>-0.99</td>\n",
       "      <td>324.0</td>\n",
       "      <td>6.0</td>\n",
       "      <td>4.69</td>\n",
       "      <td>2.000</td>\n",
       "      <td>0.8</td>\n",
       "      <td>0.30</td>\n",
       "      <td>...</td>\n",
       "      <td>0.0</td>\n",
       "      <td>0.0</td>\n",
       "      <td>0.0</td>\n",
       "      <td>0.0</td>\n",
       "      <td>0.0</td>\n",
       "      <td>0.0</td>\n",
       "      <td>0.0</td>\n",
       "      <td>0.0</td>\n",
       "      <td>0.0</td>\n",
       "      <td>0.0</td>\n",
       "    </tr>\n",
       "    <tr>\n",
       "      <th>3</th>\n",
       "      <td>2019.0</td>\n",
       "      <td>1.0</td>\n",
       "      <td>11.19</td>\n",
       "      <td>-0.99</td>\n",
       "      <td>326.0</td>\n",
       "      <td>6.0</td>\n",
       "      <td>4.46</td>\n",
       "      <td>6.532</td>\n",
       "      <td>0.8</td>\n",
       "      <td>5.43</td>\n",
       "      <td>...</td>\n",
       "      <td>0.0</td>\n",
       "      <td>0.0</td>\n",
       "      <td>0.0</td>\n",
       "      <td>0.0</td>\n",
       "      <td>0.0</td>\n",
       "      <td>0.0</td>\n",
       "      <td>0.0</td>\n",
       "      <td>0.0</td>\n",
       "      <td>0.0</td>\n",
       "      <td>0.0</td>\n",
       "    </tr>\n",
       "    <tr>\n",
       "      <th>4</th>\n",
       "      <td>2019.0</td>\n",
       "      <td>1.0</td>\n",
       "      <td>11.22</td>\n",
       "      <td>-1.02</td>\n",
       "      <td>308.0</td>\n",
       "      <td>8.0</td>\n",
       "      <td>6.52</td>\n",
       "      <td>10.000</td>\n",
       "      <td>4.0</td>\n",
       "      <td>2.12</td>\n",
       "      <td>...</td>\n",
       "      <td>0.0</td>\n",
       "      <td>0.0</td>\n",
       "      <td>0.0</td>\n",
       "      <td>0.0</td>\n",
       "      <td>0.0</td>\n",
       "      <td>0.0</td>\n",
       "      <td>0.0</td>\n",
       "      <td>0.0</td>\n",
       "      <td>0.0</td>\n",
       "      <td>0.0</td>\n",
       "    </tr>\n",
       "  </tbody>\n",
       "</table>\n",
       "<p>5 rows × 98 columns</p>\n",
       "</div>"
      ],
      "text/plain": [
       "     YEAR  ITERATION  GPS_LAT  GPS_LON  GPS_ALT  HHsizemembers  HHsizeMAE  \\\n",
       "0  2019.0        1.0    11.19    -0.95    254.0            7.0       5.56   \n",
       "1  2019.0        1.0    11.19    -0.95    346.0           10.0       8.02   \n",
       "2  2019.0        1.0    11.19    -0.99    324.0            6.0       4.69   \n",
       "3  2019.0        1.0    11.19    -0.99    326.0            6.0       4.46   \n",
       "4  2019.0        1.0    11.22    -1.02    308.0            8.0       6.52   \n",
       "\n",
       "   LandOwned  LandCultivated  LivestockHoldings  ...  Country_<Palestine>  \\\n",
       "0     10.000             2.0               1.04  ...                  0.0   \n",
       "1      6.940             1.2               4.00  ...                  0.0   \n",
       "2      2.000             0.8               0.30  ...                  0.0   \n",
       "3      6.532             0.8               5.43  ...                  0.0   \n",
       "4     10.000             4.0               2.12  ...                  0.0   \n",
       "\n",
       "   Country_<Peru>  Country_<Rwanda>  Country_<Senegal>  \\\n",
       "0             0.0               0.0                0.0   \n",
       "1             0.0               0.0                0.0   \n",
       "2             0.0               0.0                0.0   \n",
       "3             0.0               0.0                0.0   \n",
       "4             0.0               0.0                0.0   \n",
       "\n",
       "   Country_<Sierra Leone>  Country_<South Africa>  Country_<Tanzania>  \\\n",
       "0                     0.0                     0.0                 0.0   \n",
       "1                     0.0                     0.0                 0.0   \n",
       "2                     0.0                     0.0                 0.0   \n",
       "3                     0.0                     0.0                 0.0   \n",
       "4                     0.0                     0.0                 0.0   \n",
       "\n",
       "   Country_<Uganda>  Country_<Vietnam>  Country_<Zambia>  \n",
       "0               0.0                0.0               0.0  \n",
       "1               0.0                0.0               0.0  \n",
       "2               0.0                0.0               0.0  \n",
       "3               0.0                0.0               0.0  \n",
       "4               0.0                0.0               0.0  \n",
       "\n",
       "[5 rows x 98 columns]"
      ]
     },
     "execution_count": 4,
     "metadata": {},
     "output_type": "execute_result"
    }
   ],
   "source": [
    "data.head()"
   ]
  },
  {
   "cell_type": "code",
   "execution_count": 45,
   "metadata": {},
   "outputs": [],
   "source": [
    "# from sklearn.preprocessing import MinMaxScaler\n",
    "# scaler = MinMaxScaler()\n",
    "# data = scaler.fit_transform(data)"
   ]
  },
  {
   "cell_type": "code",
   "execution_count": null,
   "metadata": {},
   "outputs": [],
   "source": []
  },
  {
   "cell_type": "code",
   "execution_count": 5,
   "metadata": {},
   "outputs": [
    {
     "data": {
      "text/plain": [
       "array([3, 4, 2, 1], dtype=int32)"
      ]
     },
     "execution_count": 5,
     "metadata": {},
     "output_type": "execute_result"
    }
   ],
   "source": [
    "X = data.drop(['Food_InsecurityLevel','YEAR','currency_conversion_factor'],axis=1)\n",
    "y = data['Food_InsecurityLevel']\n",
    "y.unique()"
   ]
  },
  {
   "cell_type": "code",
   "execution_count": 6,
   "metadata": {},
   "outputs": [],
   "source": [
    "from sklearn.preprocessing import MinMaxScaler\n",
    "scaler = MinMaxScaler()\n",
    "X = scaler.fit_transform(X)"
   ]
  },
  {
   "cell_type": "code",
   "execution_count": null,
   "metadata": {},
   "outputs": [],
   "source": [
    "from sklearn.feature_selection import SelectFromModel\n",
    "from sklearn.decomposition import KernelPCA\n",
    "from sklearn.feature_selection import RFE\n",
    "from sklearn.svm import SVR\n",
    "# transformer = SelectFromModel(estimator=RandomForestClassifier()).fit(X, y)\n",
    "# X_new = transformer.transform(X)\n",
    "# X_new.shape\n",
    "estimator = SVR(kernel=\"linear\")\n",
    "selector = RFE(estimator, n_features_to_select=40, step=1)\n",
    "selector = selector.fit(X, y)\n",
    "selector.support_\n",
    "X_new = selector.transform(X)"
   ]
  },
  {
   "cell_type": "code",
   "execution_count": null,
   "metadata": {},
   "outputs": [],
   "source": []
  },
  {
   "cell_type": "code",
   "execution_count": 7,
   "metadata": {},
   "outputs": [],
   "source": [
    "X_train, X_test, y_train, y_test = train_test_split(X, y, test_size=0.25, random_state=0)"
   ]
  },
  {
   "cell_type": "code",
   "execution_count": 98,
   "metadata": {},
   "outputs": [],
   "source": [
    "X_new_train, X_new_test, y_new_train, y_new_test = train_test_split(X_new, y, test_size=0.25, random_state=0)"
   ]
  },
  {
   "cell_type": "code",
   "execution_count": null,
   "metadata": {},
   "outputs": [],
   "source": [
    "print(ExtraTreesClassifier().__class__.__name__)"
   ]
  },
  {
   "cell_type": "code",
   "execution_count": 63,
   "metadata": {},
   "outputs": [],
   "source": [
    "def basic_classifier_tester(classifiers, X, y):\n",
    "    test_scores = {}\n",
    "    X_train, X_test, y_train, y_test = train_test_split(X, y, test_size=0.25, random_state=0)\n",
    "    for classifier in (classifiers):\n",
    "        classifier.fit(X_train, y_train)\n",
    "        score = classifier.score(X_test, y_test)\n",
    "        test_scores[classifier.__class__.__name__] = score\n",
    "        print(classifier.__class__.__name__ + \":\")\n",
    "        print(score)\n",
    "    return test_scores    "
   ]
  },
  {
   "cell_type": "code",
   "execution_count": 64,
   "metadata": {},
   "outputs": [],
   "source": [
    "# def add_scaler()"
   ]
  },
  {
   "cell_type": "code",
   "execution_count": 65,
   "metadata": {},
   "outputs": [],
   "source": [
    "from sklearn.discriminant_analysis import LinearDiscriminantAnalysis as LDA\n",
    "classifiers = []\n",
    "classifiers.append(ExtraTreesClassifier())\n",
    "classifiers.append(RandomForestClassifier())\n",
    "classifiers.append(DecisionTreeClassifier())\n",
    "classifiers.append(BaggingClassifier())\n",
    "classifiers.append(AdaBoostClassifier())\n",
    "classifiers.append(RidgeClassifierCV())\n",
    "classifiers.append(SGDClassifier())\n",
    "classifiers.append(KNeighborsClassifier())\n",
    "classifiers.append(GradientBoostingClassifier())\n",
    "classifiers.append(SVC())\n",
    "classifiers.append(LinearSVC())\n",
    "classifiers.append(SVC(kernel=\"poly\"))\n",
    "classifiers.append(MLPClassifier())\n",
    "classifiers.append(GaussianNB())\n",
    "classifiers.append(LogisticRegression(solver='liblinear'))\n",
    "classifiers.append(LDA())\n",
    "\n"
   ]
  },
  {
   "cell_type": "code",
   "execution_count": 66,
   "metadata": {},
   "outputs": [
    {
     "name": "stdout",
     "output_type": "stream",
     "text": [
      "ExtraTreesClassifier:\n",
      "0.6931258396775638\n",
      "RandomForestClassifier:\n",
      "0.6961486789072996\n",
      "DecisionTreeClassifier:\n",
      "0.6004254366323332\n",
      "BaggingClassifier:\n",
      "0.677115987460815\n",
      "AdaBoostClassifier:\n",
      "0.5807210031347962\n",
      "RidgeClassifierCV:\n",
      "0.5618002686968204\n",
      "SGDClassifier:\n",
      "0.5462382445141066\n",
      "KNeighborsClassifier:\n",
      "0.5859829825347067\n",
      "GradientBoostingClassifier:\n",
      "0.6530452306314375\n",
      "SVC:\n",
      "0.6276309896999552\n",
      "LinearSVC:\n",
      "0.5666144200626959\n",
      "SVC:\n",
      "0.6362516793551276\n"
     ]
    },
    {
     "name": "stderr",
     "output_type": "stream",
     "text": [
      "/opt/anaconda3/lib/python3.7/site-packages/sklearn/neural_network/_multilayer_perceptron.py:585: ConvergenceWarning: Stochastic Optimizer: Maximum iterations (200) reached and the optimization hasn't converged yet.\n",
      "  % self.max_iter, ConvergenceWarning)\n"
     ]
    },
    {
     "name": "stdout",
     "output_type": "stream",
     "text": [
      "MLPClassifier:\n",
      "0.6538289296909987\n",
      "GaussianNB:\n",
      "0.36710703090013436\n",
      "LogisticRegression:\n",
      "0.5700850873264667\n",
      "LinearDiscriminantAnalysis:\n",
      "0.566166592028661\n"
     ]
    }
   ],
   "source": [
    "basic_classifier_scores = basic_classifier_tester(classifiers, X, y)"
   ]
  },
  {
   "cell_type": "code",
   "execution_count": 67,
   "metadata": {},
   "outputs": [
    {
     "name": "stdout",
     "output_type": "stream",
     "text": [
      "ExtraTreesClassifier:\n",
      "0.6698387819077474\n",
      "RandomForestClassifier:\n",
      "0.6865203761755486\n",
      "DecisionTreeClassifier:\n",
      "0.5876623376623377\n",
      "BaggingClassifier:\n",
      "0.6614420062695925\n",
      "AdaBoostClassifier:\n",
      "0.5662785490371697\n",
      "RidgeClassifierCV:\n",
      "0.5066054635020152\n",
      "SGDClassifier:\n",
      "0.4680922525750112\n",
      "KNeighborsClassifier:\n",
      "0.5573219883564711\n",
      "GradientBoostingClassifier:\n",
      "0.6365875503806538\n",
      "SVC:\n",
      "0.5789296909986565\n",
      "LinearSVC:\n",
      "0.509628302731751\n",
      "SVC:\n",
      "0.5776981639050605\n"
     ]
    },
    {
     "name": "stderr",
     "output_type": "stream",
     "text": [
      "/opt/anaconda3/lib/python3.7/site-packages/sklearn/neural_network/_multilayer_perceptron.py:585: ConvergenceWarning: Stochastic Optimizer: Maximum iterations (200) reached and the optimization hasn't converged yet.\n",
      "  % self.max_iter, ConvergenceWarning)\n"
     ]
    },
    {
     "name": "stdout",
     "output_type": "stream",
     "text": [
      "MLPClassifier:\n",
      "0.5879982086878639\n",
      "GaussianNB:\n",
      "0.28929690998656515\n",
      "LogisticRegression:\n",
      "0.5206000895656068\n",
      "LinearDiscriminantAnalysis:\n",
      "0.5225033587102552\n"
     ]
    }
   ],
   "source": [
    "basic_classifier_scores_after_fs = basic_classifier_tester(classifiers, X_new, y)"
   ]
  },
  {
   "cell_type": "code",
   "execution_count": 6,
   "metadata": {},
   "outputs": [],
   "source": [
    "# keys = basic_classifier_scores.keys()\n",
    "# values = basic_classifier_scores.values()\n",
    "\n",
    "font = {'family' : 'normal',\n",
    "        'weight' : 'normal',\n",
    "        'size'   : 11}\n",
    "\n",
    "# def insert_linebreak(string, lengLabel=48):\n",
    "    \n",
    "\n",
    "# keys_new = []\n",
    "# for s in keys:\n",
    "#     keys_new.append(insert_linebreak(string))\n",
    "    \n",
    "# plt.rc('font', **font)\n",
    "# plt.figure(figsize=(40, 8))  # width:20, height:3\n",
    "# fig, ax = plt.subplots()\n",
    "# plt.bar(keys, values)\n",
    "# plt.setp(ax.get_xticklabels(), rotation=30, horizontalalignment='right')\n",
    "# plt.title('Classifier Performance with default hyperparameters')\n",
    "# plt.xlabel('Classifiers')\n",
    "# plt.ylabel('Accuracy on test data')\n",
    "# fig.tight_layout()\n",
    "# plt.savefig('comparison.png', dpi=200, pad_inches=4) "
   ]
  },
  {
   "cell_type": "code",
   "execution_count": null,
   "metadata": {},
   "outputs": [],
   "source": [
    "# from sklearn.metrics import confusion_matrix"
   ]
  },
  {
   "cell_type": "code",
   "execution_count": null,
   "metadata": {},
   "outputs": [],
   "source": [
    "confusion_matrix(y_test, y_pred)"
   ]
  },
  {
   "cell_type": "code",
   "execution_count": null,
   "metadata": {},
   "outputs": [],
   "source": [
    "# from sklearn.datasets import load_iris\n",
    "# from sklearn.feature_selection import SelectKBest\n",
    "# from sklearn.feature_selection import chi2\n",
    "# from sklearn.feature_selection import f_classif\n",
    "# X_new = SelectKBest(f_classif, k=).fit_transform(X, y)"
   ]
  },
  {
   "cell_type": "code",
   "execution_count": null,
   "metadata": {},
   "outputs": [],
   "source": [
    "# from matplotlib import pyplot\n",
    "# data.hist()\n",
    "# pyplot.show()"
   ]
  },
  {
   "cell_type": "code",
   "execution_count": 8,
   "metadata": {},
   "outputs": [
    {
     "data": {
      "text/plain": [
       "0.7058889386475593"
      ]
     },
     "execution_count": 8,
     "metadata": {},
     "output_type": "execute_result"
    }
   ],
   "source": [
    "classifier = RandomForestClassifier(bootstrap=False, max_depth=50, max_features='auto', n_estimators=500, random_state=0)\n",
    "classifier.fit(X_train, y_train)\n",
    "classifier.score(X_test, y_test)\n",
    "\n",
    "# Best params {'bootstrap': False,\n",
    "#  'max_depth': 50,\n",
    "#  'max_features': 'auto',\n",
    "#  'min_samples_leaf': 1,\n",
    "#  'n_estimators': 500}"
   ]
  },
  {
   "cell_type": "code",
   "execution_count": 12,
   "metadata": {},
   "outputs": [],
   "source": [
    "a = classifier.feature_importances_\n",
    "top_10_idx = np.argsort(a)[-30:]\n",
    "top_10_values = [a[i] for i in top_10_idx]\n",
    "    "
   ]
  },
  {
   "cell_type": "code",
   "execution_count": 20,
   "metadata": {},
   "outputs": [],
   "source": [
    "top_10_names = [X.columns[i] for i in top_10_idx]"
   ]
  },
  {
   "cell_type": "code",
   "execution_count": 21,
   "metadata": {},
   "outputs": [
    {
     "data": {
      "text/plain": [
       "[0.013280618163736787,\n",
       " 0.014032598187473102,\n",
       " 0.014815607564560511,\n",
       " 0.016802713474819188,\n",
       " 0.01697322117311746,\n",
       " 0.018116252623071306,\n",
       " 0.01823578335479597,\n",
       " 0.01867164180245954,\n",
       " 0.01953102011923721,\n",
       " 0.019722471552704252,\n",
       " 0.02022237264283421,\n",
       " 0.020857061455165905,\n",
       " 0.02091458358820287,\n",
       " 0.02106389230911855,\n",
       " 0.021149417900260366,\n",
       " 0.021282750887182737,\n",
       " 0.02309675732164399,\n",
       " 0.023346712712443013,\n",
       " 0.025454733640452726,\n",
       " 0.025981178359764788,\n",
       " 0.028607610742213962,\n",
       " 0.028743932219244987,\n",
       " 0.029182431571395894,\n",
       " 0.03307756400953582,\n",
       " 0.034879845522784225,\n",
       " 0.04393632761707174,\n",
       " 0.05079855802357828,\n",
       " 0.056448559128977505,\n",
       " 0.06042921305088452,\n",
       " 0.06228573637680079]"
      ]
     },
     "execution_count": 21,
     "metadata": {},
     "output_type": "execute_result"
    }
   ],
   "source": [
    "top_10_values"
   ]
  },
  {
   "cell_type": "code",
   "execution_count": null,
   "metadata": {},
   "outputs": [],
   "source": []
  },
  {
   "cell_type": "code",
   "execution_count": 22,
   "metadata": {},
   "outputs": [
    {
     "data": {
      "image/png": "[encoded data removed]",
      "text/plain": [
       "<Figure size 468x324 with 1 Axes>"
      ]
     },
     "metadata": {
      "needs_background": "light"
     },
     "output_type": "display_data"
    },
    {
     "data": {
      "text/plain": [
       "<Figure size 360x360 with 0 Axes>"
      ]
     },
     "metadata": {},
     "output_type": "display_data"
    }
   ],
   "source": [
    "col = top_10_names\n",
    "top_10_values\n",
    "#plot\n",
    "fig, ax = plt.subplots() \n",
    "width = 0.4 # the width of the bars \n",
    "ind = np.arange(len(top_10_values)) # the x locations for the groups\n",
    "ax.barh(ind, top_10_values, width, color=\"green\")\n",
    "ax.set_yticks(ind+width/10)\n",
    "ax.set_yticklabels(col, minor=False)\n",
    "plt.title(\"Feature importance in RandomForest Classifier\")\n",
    "plt.xlabel(\"Relative importance\")\n",
    "plt.ylabel(\"Feature\")\n",
    "plt.savefig('randomforest_feature_importances.png',format='png',bbox_inches = \"tight\")\n",
    "plt.figure(figsize=(5,5))\n",
    "fig.set_size_inches(6.5, 4.5, forward=True)\n"
   ]
  },
  {
   "cell_type": "code",
   "execution_count": 23,
   "metadata": {},
   "outputs": [],
   "source": [
    "reverse = top_10_names.reverse()\n",
    "reverse"
   ]
  },
  {
   "cell_type": "code",
   "execution_count": 24,
   "metadata": {},
   "outputs": [
    {
     "data": {
      "text/plain": [
       "['NrofMonthsFoodInsecure',\n",
       " 'GPS_LAT',\n",
       " 'PPI_Likelihood',\n",
       " 'GPS_LON',\n",
       " 'GPS_ALT',\n",
       " 'NFertInput',\n",
       " 'score_HDDS_BadSeason',\n",
       " 'Market_Orientation',\n",
       " 'HHsizeMAE',\n",
       " 'LandOwned',\n",
       " 'LivestockHoldings',\n",
       " 'LandCultivated',\n",
       " 'Country_<Rwanda>',\n",
       " 'score_HDDS_GoodSeason',\n",
       " 'score_HDDS_farmbasedBadSeason',\n",
       " 'GHGEmissions',\n",
       " 'Gender_MaleControl',\n",
       " 'HHsizemembers',\n",
       " 'Gender_FemaleControl',\n",
       " 'Livestock_Orientation',\n",
       " 'value_livestock_production_USD_PPP_pHH_Yr',\n",
       " 'score_HDDS_farmbasedGoodSeason',\n",
       " 'cosWorstFoodSecMonth',\n",
       " 'score_HDDS_purchasedBadSeason',\n",
       " 'score_HDDS_purchasedGoodSeason',\n",
       " 'livestock_prodsales_USD_PPP_pHH_Yr',\n",
       " 'sinWorstFoodSecMonth',\n",
       " 'sinBestFoodSecMonth',\n",
       " 'cosBestFoodSecMonth',\n",
       " 'NrofMonthsWildFoodCons']"
      ]
     },
     "execution_count": 24,
     "metadata": {},
     "output_type": "execute_result"
    }
   ],
   "source": [
    "top_10_names"
   ]
  },
  {
   "cell_type": "code",
   "execution_count": 108,
   "metadata": {},
   "outputs": [
    {
     "data": {
      "text/plain": [
       "<Figure size 432x288 with 0 Axes>"
      ]
     },
     "metadata": {},
     "output_type": "display_data"
    }
   ],
   "source": [
    "# plt.savefig('randomforest_feature_importances.png',format='png',,bbox_inches = \"tight\")"
   ]
  },
  {
   "cell_type": "code",
   "execution_count": 81,
   "metadata": {},
   "outputs": [],
   "source": [
    "y_pred = classifier.predict(X_test)"
   ]
  },
  {
   "cell_type": "code",
   "execution_count": 87,
   "metadata": {},
   "outputs": [
    {
     "data": {
      "text/plain": [
       "0.6795714280964034"
      ]
     },
     "execution_count": 87,
     "metadata": {},
     "output_type": "execute_result"
    }
   ],
   "source": [
    "from sklearn.metrics import f1_score\n",
    "f1_score(y_pred, y_test, average='macro')"
   ]
  },
  {
   "cell_type": "code",
   "execution_count": 33,
   "metadata": {},
   "outputs": [
    {
     "data": {
      "text/plain": [
       "['Severely FI', 'Moderately FI', 'Mildly FI', 'Food Secure', '0']"
      ]
     },
     "execution_count": 33,
     "metadata": {},
     "output_type": "execute_result"
    }
   ],
   "source": [
    "from sklearn import preprocessing\n",
    "le = preprocessing.LabelEncoder()\n",
    "le.fit([\"0\",\"Food Secure\", \"Mildly FI\", \"Moderately FI\", \"Severely FI\"])\n",
    "\n",
    "list(le.classes_)\n",
    "\n",
    "# le.transform([\"tokyo\", \"tokyo\", \"paris\"])\n",
    "\n",
    "list(le.inverse_transform([4,3,2, 1, 0]))"
   ]
  },
  {
   "cell_type": "code",
   "execution_count": 84,
   "metadata": {},
   "outputs": [
    {
     "data": {
      "image/png": "[encoded data removed]",
      "text/plain": [
       "<Figure size 432x288 with 2 Axes>"
      ]
     },
     "metadata": {
      "needs_background": "light"
     },
     "output_type": "display_data"
    }
   ],
   "source": [
    "from sklearn.metrics import plot_confusion_matrix\n",
    "from sklearn.metrics import confusion_matrix\n",
    "\n",
    "# labels = ['Ser']\n",
    "# plot_confusion_matrix(y_test, y_pred)\n",
    "# HFIAS_status = ['Food Secure', 'Mildly FI', 'Moderately FI', 'Severely FI']\n",
    "# y_true_strings =  le.inverse_transform(y_test)\n",
    "# y_pred_strings = le.inverse_transform(y_pred)\n",
    "labels=['Severely Food Insecure', 'Moderately Food Insecure', 'Mildy Food Insecure', 'Food Secure'],\n",
    "plot_confusion_matrix(classifier, X_test, y_test,\n",
    "                                 cmap=plt.cm.Blues\n",
    "                                 )\n",
    "\n",
    "# cf_matrix = confusion_matrix(y_test, y_pred)\n",
    "# print(cf_matrix)\n",
    "plt.savefig('randomforest.png',format='png',bbox_inches = \"tight\")"
   ]
  },
  {
   "cell_type": "code",
   "execution_count": 31,
   "metadata": {},
   "outputs": [],
   "source": [
    "fi = classifier.feature_importances_"
   ]
  },
  {
   "cell_type": "code",
   "execution_count": 13,
   "metadata": {},
   "outputs": [
    {
     "data": {
      "text/plain": [
       "0.651589789520824"
      ]
     },
     "execution_count": 13,
     "metadata": {},
     "output_type": "execute_result"
    }
   ],
   "source": [
    "clf_svc = SVC(C=10, gamma=0.1,kernel='rbf',random_state=0)\n",
    "clf_svc.fit(X_train, y_train)\n",
    "clf_svc.score(X_test, y_test)\n",
    "\n",
    "# {'C': 10, 'gamma': 0.1, 'kernel': 'rbf'}"
   ]
  },
  {
   "cell_type": "code",
   "execution_count": 16,
   "metadata": {},
   "outputs": [
    {
     "data": {
      "image/png": "[encoded data removed]",
      "text/plain": [
       "<Figure size 432x288 with 2 Axes>"
      ]
     },
     "metadata": {
      "needs_background": "light"
     },
     "output_type": "display_data"
    }
   ],
   "source": [
    "from sklearn.metrics import plot_confusion_matrix\n",
    "from sklearn.metrics import confusion_matrix\n",
    "plot_confusion_matrix(clf_svc, X_test, y_test,\n",
    "                                 cmap=plt.cm.Blues\n",
    "                                 )\n",
    "\n",
    "# cf_matrix = confusion_matrix(y_test, y_pred)\n",
    "# print(cf_matrix)\n",
    "plt.savefig('svc.png',format='png',bbox_inches = \"tight\")"
   ]
  },
  {
   "cell_type": "code",
   "execution_count": 38,
   "metadata": {},
   "outputs": [
    {
     "data": {
      "text/plain": [
       "<Figure size 7200x2160 with 0 Axes>"
      ]
     },
     "metadata": {},
     "output_type": "display_data"
    },
    {
     "data": {
      "image/png": "[encoded data removed]",
      "text/plain": [
       "<Figure size 432x288 with 1 Axes>"
      ]
     },
     "metadata": {
      "needs_background": "light"
     },
     "output_type": "display_data"
    }
   ],
   "source": [
    "plt.rc('font', **font)\n",
    "plt.figure(figsize=(100, 30))  # width:20, height:3\n",
    "fig, ax = plt.subplots()\n",
    "plt.bar(data.drop(['Food_InsecurityLevel','YEAR','currency_conversion_factor'],axis=1).columns, fi)\n",
    "plt.setp(ax.get_xticklabels(), rotation=30, horizontalalignment='right')\n",
    "plt.title('Random Forest Feature Importances')\n",
    "plt.xlabel('Features')\n",
    "plt.ylabel('% Importance')\n",
    "fig.tight_layout()\n",
    "# plt.savefig('comparison.png', dpi=200, pad_inches=4) "
   ]
  },
  {
   "cell_type": "code",
   "execution_count": 9,
   "metadata": {},
   "outputs": [
    {
     "name": "stdout",
     "output_type": "stream",
     "text": [
      "0.6343484102104792\n"
     ]
    }
   ],
   "source": [
    "print(score)"
   ]
  },
  {
   "cell_type": "code",
   "execution_count": 10,
   "metadata": {},
   "outputs": [],
   "source": [
    "clf1 = MLPClassifier(hidden_layer_sizes =(128,128), max_iter=1000)\n",
    "# clf1.fit(X_train, y_train)\n",
    "# clf1.score(X_test, y_test)\n",
    "clf2 = RandomForestClassifier(bootstrap=False, max_depth=50, max_features='auto', n_estimators=500)\n",
    "# clf2.fit(X_train, y_train)\n",
    "clf3 = GradientBoostingClassifier(n_estimators=500)\n",
    "clf4 = MLPClassifier(hidden_layer_sizes =(32,64,32), max_iter=1000)\n",
    "clf5 = MLPClassifier(hidden_layer_sizes =(64,128,64), max_iter=1000)\n",
    "# clf1.fit(X_train, y_train)\n",
    "# clf1.score(X_test, y_test)\n",
    "clf6 = RandomForestClassifier(bootstrap=False, n_estimators=500)\n",
    "# clf2.fit(X_train, y_train)\n",
    "clf7 = GradientBoostingClassifier(n_estimators=500)\n",
    "clf8 = MLPClassifier(hidden_layer_sizes =(32,128,64), max_iter=1000)\n",
    "clf9 = MLPClassifier(hidden_layer_sizes =(64,128,64), max_iter=1000)\n",
    "clf10 = RandomForestClassifier(bootstrap=False, max_depth=50, max_features='auto', n_estimators=500)\n",
    "clf11 = RandomForestClassifier(bootstrap=False, max_depth=50, max_features='auto', n_estimators=500)\n",
    "clf12 = MLPClassifier(hidden_layer_sizes =(128,128), max_iter=1000)\n",
    "# clf1.fit(X_train, y_train)\n",
    "# clf1.score(X_test, y_test)\n",
    "clf13 = RandomForestClassifier(bootstrap=False, max_depth=50, max_features='auto', n_estimators=500)\n",
    "# clf2.fit(X_train, y_train)\n",
    "clf14 = GradientBoostingClassifier(n_estimators=500)\n",
    "clf15 = MLPClassifier(hidden_layer_sizes =(32,64,32), max_iter=1000)\n",
    "clf16 = MLPClassifier(hidden_layer_sizes =(64,128,64), max_iter=1000)\n",
    "# clf1.fit(X_train, y_train)\n",
    "# clf1.score(X_test, y_test)\n",
    "clf17 = RandomForestClassifier(bootstrap=False, n_estimators=500)\n",
    "# clf2.fit(X_train, y_train)\n",
    "clf18 = GradientBoostingClassifier(n_estimators=500)\n",
    "clf19 = MLPClassifier(hidden_layer_sizes =(32,128,64), max_iter=1000)\n",
    "clf20 = MLPClassifier(hidden_layer_sizes =(64,128,64), max_iter=1000)\n",
    "clf21 = RandomForestClassifier(bootstrap=False, max_depth=50, max_features='auto', n_estimators=500)\n",
    "clf22 = RandomForestClassifier(bootstrap=False, max_depth=50, max_features='auto', n_estimators=500)\n",
    "# clf3.fit(X_train, y_train)\n",
    "# clf4 = SVC()\n",
    "# clf4.fit(X_train, y_train)\n",
    "# clf5 = KNeighborsClassifier()\n",
    "# clf5.fit(X_train, y_train)\n",
    "# clf5 = DecisionTreeClassifier()\n",
    "# clf5.fit(X_train, y_train)"
   ]
  },
  {
   "cell_type": "code",
   "execution_count": null,
   "metadata": {},
   "outputs": [],
   "source": [
    "clf3 = GradientBoostingClassifier( n_estimators=500)\n",
    "clf3.fit(X_train, y_train)"
   ]
  },
  {
   "cell_type": "code",
   "execution_count": null,
   "metadata": {},
   "outputs": [],
   "source": [
    "# {'bootstrap': False,\n",
    "#  'max_depth': 50,\n",
    "#  'max_features': 'auto',\n",
    "#  'min_samples_leaf': 1,\n",
    "#  'n_estimators': 500}\n",
    "from sklearn.ensemble import *\n",
    "clf1 = ExtraTreesClassifier(bootstrap= False, max_depth= 50,max_features ='auto', min_samples_leaf= 1, n_estimators= 500)\n",
    "clf1.fit(X_train, y_train)\n",
    "clf1.score(X_test, y_test)"
   ]
  },
  {
   "cell_type": "code",
   "execution_count": 19,
   "metadata": {},
   "outputs": [
    {
     "data": {
      "text/plain": [
       "0.70141065830721"
      ]
     },
     "execution_count": 19,
     "metadata": {},
     "output_type": "execute_result"
    }
   ],
   "source": [
    "vclf = VotingClassifier(estimators=[('a', clf1), ('b', clf2),('c',clf3),('d', clf4), ('e', clf5),('f',clf6),('g',clf7)], voting='hard')\n",
    "vclf.fit(X_train, y_train)\n",
    "vclf.score(X_test, y_test)"
   ]
  },
  {
   "cell_type": "code",
   "execution_count": 22,
   "metadata": {},
   "outputs": [
    {
     "data": {
      "text/plain": [
       "0.708575906851769"
      ]
     },
     "execution_count": 22,
     "metadata": {},
     "output_type": "execute_result"
    }
   ],
   "source": [
    "vclf2 = VotingClassifier(estimators=[('a', clf1), ('b', clf2),('c',clf3),('d', clf4), ('e', clf5),('f',clf6),('g',clf7),('h',clf8),('i',clf9),('j',clf10),('k',clf11)\n",
    "                                    ], voting='hard')\n",
    "vclf2.fit(X_train, y_train)\n",
    "vclf2.score(X_test, y_test)"
   ]
  },
  {
   "cell_type": "code",
   "execution_count": 13,
   "metadata": {},
   "outputs": [
    {
     "data": {
      "text/plain": [
       "0.7061128526645768"
      ]
     },
     "execution_count": 13,
     "metadata": {},
     "output_type": "execute_result"
    }
   ],
   "source": [
    "vclf3 = VotingClassifier(estimators=[('a', clf1), ('b', clf2),('c',clf3),('d', clf4), ('e', clf5),('f',clf6),('g',clf7),('h',clf8),('i',clf9),('j',clf10),('k',clf11),\n",
    "                                    ('l', clf12), ('m', clf13),('n',clf14),('o', clf15), ('p', clf16),('q',clf17),('r',clf18),('s',clf19),('t',clf20),('u',clf21),('v',clf22)], voting='hard')\n",
    "vclf3.fit(X_train, y_train)\n",
    "vclf3.score(X_test, y_test)"
   ]
  },
  {
   "cell_type": "code",
   "execution_count": 8,
   "metadata": {},
   "outputs": [
    {
     "name": "stderr",
     "output_type": "stream",
     "text": [
      "[Parallel(n_jobs=4)]: Using backend LokyBackend with 4 concurrent workers.\n",
      "[Parallel(n_jobs=4)]: Done   1 tasks      | elapsed:  6.0min\n",
      "[Parallel(n_jobs=4)]: Done   2 out of   4 | elapsed:  6.8min remaining:  6.8min\n",
      "[Parallel(n_jobs=4)]: Done   4 out of   4 | elapsed:  7.9min remaining:    0.0s\n",
      "[Parallel(n_jobs=4)]: Done   4 out of   4 | elapsed:  7.9min finished\n",
      "[Parallel(n_jobs=4)]: Using backend LokyBackend with 4 concurrent workers.\n",
      "[Parallel(n_jobs=4)]: Done   1 tasks      | elapsed:    0.2s\n",
      "[Parallel(n_jobs=4)]: Done   2 out of   4 | elapsed:    0.3s remaining:    0.3s\n",
      "[Parallel(n_jobs=4)]: Done   4 out of   4 | elapsed:    0.3s remaining:    0.0s\n",
      "[Parallel(n_jobs=4)]: Done   4 out of   4 | elapsed:    0.3s finished\n"
     ]
    },
    {
     "data": {
      "text/plain": [
       "0.6609941782355575"
      ]
     },
     "execution_count": 8,
     "metadata": {},
     "output_type": "execute_result"
    }
   ],
   "source": [
    "bclf = BaggingClassifier(base_estimator=MLPClassifier(max_iter = 500), n_jobs=-1, verbose=10)\n",
    "bclf.fit(X_train, y_train)\n",
    "bclf.score(X_test, y_test)"
   ]
  },
  {
   "cell_type": "code",
   "execution_count": null,
   "metadata": {},
   "outputs": [],
   "source": []
  },
  {
   "cell_type": "code",
   "execution_count": 120,
   "metadata": {},
   "outputs": [
    {
     "data": {
      "text/plain": [
       "0.6969323779668607"
      ]
     },
     "execution_count": 120,
     "metadata": {},
     "output_type": "execute_result"
    }
   ],
   "source": [
    "vclf.score(X_test, y_test)"
   ]
  },
  {
   "cell_type": "code",
   "execution_count": 117,
   "metadata": {},
   "outputs": [
    {
     "name": "stderr",
     "output_type": "stream",
     "text": [
      "/opt/anaconda3/lib/python3.7/site-packages/sklearn/neural_network/_multilayer_perceptron.py:585: ConvergenceWarning: Stochastic Optimizer: Maximum iterations (200) reached and the optimization hasn't converged yet.\n",
      "  % self.max_iter, ConvergenceWarning)\n",
      "/opt/anaconda3/lib/python3.7/site-packages/sklearn/neural_network/_multilayer_perceptron.py:585: ConvergenceWarning: Stochastic Optimizer: Maximum iterations (200) reached and the optimization hasn't converged yet.\n",
      "  % self.max_iter, ConvergenceWarning)\n",
      "/opt/anaconda3/lib/python3.7/site-packages/sklearn/neural_network/_multilayer_perceptron.py:585: ConvergenceWarning: Stochastic Optimizer: Maximum iterations (200) reached and the optimization hasn't converged yet.\n",
      "  % self.max_iter, ConvergenceWarning)\n",
      "/opt/anaconda3/lib/python3.7/site-packages/sklearn/neural_network/_multilayer_perceptron.py:585: ConvergenceWarning: Stochastic Optimizer: Maximum iterations (200) reached and the optimization hasn't converged yet.\n",
      "  % self.max_iter, ConvergenceWarning)\n",
      "/opt/anaconda3/lib/python3.7/site-packages/sklearn/neural_network/_multilayer_perceptron.py:585: ConvergenceWarning: Stochastic Optimizer: Maximum iterations (200) reached and the optimization hasn't converged yet.\n",
      "  % self.max_iter, ConvergenceWarning)\n",
      "/opt/anaconda3/lib/python3.7/site-packages/sklearn/neural_network/_multilayer_perceptron.py:585: ConvergenceWarning: Stochastic Optimizer: Maximum iterations (200) reached and the optimization hasn't converged yet.\n",
      "  % self.max_iter, ConvergenceWarning)\n"
     ]
    },
    {
     "data": {
      "text/plain": [
       "0.5969547693685625"
      ]
     },
     "execution_count": 117,
     "metadata": {},
     "output_type": "execute_result"
    }
   ],
   "source": [
    "sclf = StackingClassifier(\n",
    "     estimators=[\n",
    "          ('1', clf1), ('2', clf2)], final_estimator=DecisionTreeClassifier())\n",
    "sclf.fit(X_train, y_train)\n",
    "sclf.score(X_test, y_test)"
   ]
  },
  {
   "cell_type": "code",
   "execution_count": 9,
   "metadata": {},
   "outputs": [
    {
     "data": {
      "text/plain": [
       "0.6617778772951187"
      ]
     },
     "execution_count": 9,
     "metadata": {},
     "output_type": "execute_result"
    }
   ],
   "source": [
    "clf = GradientBoostingClassifier(n_estimators=1000, learning_rate=1.0, random_state=0).fit(X_train, y_train)\n",
    "clf.score(X_test, y_test)"
   ]
  },
  {
   "cell_type": "code",
   "execution_count": 11,
   "metadata": {},
   "outputs": [
    {
     "data": {
      "text/plain": [
       "1.0"
      ]
     },
     "execution_count": 11,
     "metadata": {},
     "output_type": "execute_result"
    }
   ],
   "source": [
    "clf.score(X_train, y_train)"
   ]
  },
  {
   "cell_type": "code",
   "execution_count": null,
   "metadata": {},
   "outputs": [],
   "source": []
  }
 ],
 "metadata": {
  "kernelspec": {
   "display_name": "Python 3",
   "language": "python",
   "name": "python3"
  },
  "language_info": {
   "codemirror_mode": {
    "name": "ipython",
    "version": 3
   },
   "file_extension": ".py",
   "mimetype": "text/x-python",
   "name": "python",
   "nbconvert_exporter": "python",
   "pygments_lexer": "ipython3",
   "version": "3.7.4"
  }
 },
 "nbformat": 4,
 "nbformat_minor": 4
}
