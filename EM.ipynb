{
 "cells": [
  {
   "cell_type": "code",
   "execution_count": 1,
   "id": "669761e2",
   "metadata": {},
   "outputs": [],
   "source": [
    "from sklearn.cluster import KMeans\n",
    "import pandas as pd\n",
    "import pickle\n",
    "import string\n",
    "import re\n",
    "import string\n",
    "from sklearn.model_selection import cross_validate as cross_validation, ShuffleSplit, cross_val_score, train_test_split, KFold\n",
    "from sklearn.model_selection import GridSearchCV, RandomizedSearchCV\n",
    "from sklearn.metrics import classification_report, accuracy_score, auc\n",
    "import numpy as np\n",
    "import matplotlib.pyplot as plt\n",
    "import seaborn as sns\n",
    "\n",
    "from pathlib import Path\n",
    "from sklearn.svm import LinearSVC\n",
    "from sklearn.neural_network import MLPClassifier\n",
    "from sklearn.linear_model import LogisticRegression\n",
    "from sklearn.preprocessing import OneHotEncoder\n",
    "\n",
    "from datetime import datetime as dt\n",
    "import numpy as np\n",
    "from functools import reduce\n",
    "\n",
    "from fancyimpute import KNN, NuclearNormMinimization, SoftImpute, BiScaler\n",
    "\n",
    "from matplotlib.colors import LogNorm\n",
    "%matplotlib inline\n",
    "\n",
    "from sklearn.mixture import GaussianMixture\n",
    "from sklearn.cluster import KMeans\n",
    "\n",
    "import scipy as sp\n",
    "from scipy.stats import multivariate_normal    \n",
    "\n",
    "import imageio\n",
    "import sys\n",
    "np.set_printoptions(threshold=sys.maxsize)"
   ]
  },
  {
   "cell_type": "code",
   "execution_count": 2,
   "id": "dab41e75",
   "metadata": {},
   "outputs": [
    {
     "data": {
      "text/plain": [
       "RangeIndex(start=0, stop=35728, step=1)"
      ]
     },
     "execution_count": 2,
     "metadata": {},
     "output_type": "execute_result"
    }
   ],
   "source": [
    "data = pd.read_pickle('./preprocessed_data_2.pkl')\n",
    "data.index"
   ]
  },
  {
   "cell_type": "code",
   "execution_count": 3,
   "id": "054b939d",
   "metadata": {},
   "outputs": [
    {
     "name": "stdout",
     "output_type": "stream",
     "text": [
      "['YEAR', 'ITERATION', 'ID_HH', 'RHoMIS_ID', 'GPS_LAT', 'GPS_LON', 'GPS_ALT', 'Country', 'HHsizemembers', 'HHsizeMAE', 'HouseholdType', 'Head_EducationLevel', 'LandOwned', 'LandCultivated', 'LivestockHoldings', 'WorstFoodSecMonth', 'BestFoodSecMonth', 'NrofMonthsFoodInsecure', 'PPI_Threshold', 'PPI_Likelihood', 'score_HDDS_GoodSeason', 'score_HDDS_farmbasedGoodSeason', 'score_HDDS_purchasedGoodSeason', 'score_HDDS_BadSeason', 'score_HDDS_farmbasedBadSeason', 'score_HDDS_purchasedBadSeason', 'TVA_USD_PPP_pmae_pday', 'currency_conversion_factor', 'total_income_USD_PPP_pHH_Yr', 'offfarm_income_USD_PPP_pHH_Yr', 'farm_income_USD_PPP_pHH_Yr', 'value_farm_produce_USD_PPP_pHH_Yr', 'crop_sales_USD_PPP_pHH_Yr', 'value_crop_produce_USD_PPP_pHH_Yr', 'value_crop_consumed_USD_PPP_pHH_Yr', 'livestock_prodsales_USD_PPP_pHH_Yr', 'value_livestock_production_USD_PPP_pHH_Yr', 'value_livestock_prod_consumed_USD_PPP_pHH_Yr', 'Market_Orientation', 'Livestock_Orientation', 'Food_Availability_kCal_MAE_day', 'Food_Self_Sufficiency_kCal_MAE_day', 'NrofMonthsWildFoodCons', 'GHGEmissions', 'Gender_MaleControl', 'Gender_FemaleControl', 'NFertInput', 'Food_InsecurityLevel']\n"
     ]
    }
   ],
   "source": [
    "print(data.columns.tolist())"
   ]
  },
  {
   "cell_type": "code",
   "execution_count": 5,
   "id": "7887aa42",
   "metadata": {},
   "outputs": [],
   "source": [
    "data_pre = data[['GPS_LAT', 'GPS_ALT', 'LandOwned', 'LandCultivated', 'LivestockHoldings', 'Food_Availability_kCal_MAE_day', 'Food_Self_Sufficiency_kCal_MAE_day',\n",
    "'crop_sales_USD_PPP_pHH_Yr', 'value_crop_produce_USD_PPP_pHH_Yr', 'GHGEmissions']]"
   ]
  },
  {
   "cell_type": "code",
   "execution_count": 6,
   "id": "4f93dbd8",
   "metadata": {},
   "outputs": [
    {
     "data": {
      "text/html": [
       "<div>\n",
       "<style scoped>\n",
       "    .dataframe tbody tr th:only-of-type {\n",
       "        vertical-align: middle;\n",
       "    }\n",
       "\n",
       "    .dataframe tbody tr th {\n",
       "        vertical-align: top;\n",
       "    }\n",
       "\n",
       "    .dataframe thead th {\n",
       "        text-align: right;\n",
       "    }\n",
       "</style>\n",
       "<table border=\"1\" class=\"dataframe\">\n",
       "  <thead>\n",
       "    <tr style=\"text-align: right;\">\n",
       "      <th></th>\n",
       "      <th>GPS_LAT</th>\n",
       "      <th>GPS_ALT</th>\n",
       "      <th>LandOwned</th>\n",
       "      <th>LandCultivated</th>\n",
       "      <th>LivestockHoldings</th>\n",
       "      <th>Food_Availability_kCal_MAE_day</th>\n",
       "      <th>Food_Self_Sufficiency_kCal_MAE_day</th>\n",
       "      <th>crop_sales_USD_PPP_pHH_Yr</th>\n",
       "      <th>value_crop_produce_USD_PPP_pHH_Yr</th>\n",
       "      <th>GHGEmissions</th>\n",
       "    </tr>\n",
       "  </thead>\n",
       "  <tbody>\n",
       "    <tr>\n",
       "      <th>0</th>\n",
       "      <td>11.19</td>\n",
       "      <td>254.00</td>\n",
       "      <td>10.0</td>\n",
       "      <td>2.0</td>\n",
       "      <td>1.04</td>\n",
       "      <td>4621.267353</td>\n",
       "      <td>754.360895</td>\n",
       "      <td>164.857702</td>\n",
       "      <td>242.318219</td>\n",
       "      <td>702.949550</td>\n",
       "    </tr>\n",
       "    <tr>\n",
       "      <th>1</th>\n",
       "      <td>11.19</td>\n",
       "      <td>346.00</td>\n",
       "      <td>NaN</td>\n",
       "      <td>1.2</td>\n",
       "      <td>4.00</td>\n",
       "      <td>2503.023263</td>\n",
       "      <td>2303.522017</td>\n",
       "      <td>0.000000</td>\n",
       "      <td>279.844923</td>\n",
       "      <td>94415.087935</td>\n",
       "    </tr>\n",
       "    <tr>\n",
       "      <th>2</th>\n",
       "      <td>11.19</td>\n",
       "      <td>324.00</td>\n",
       "      <td>2.0</td>\n",
       "      <td>0.8</td>\n",
       "      <td>0.30</td>\n",
       "      <td>381.108158</td>\n",
       "      <td>381.108158</td>\n",
       "      <td>0.000000</td>\n",
       "      <td>23.278518</td>\n",
       "      <td>113.654565</td>\n",
       "    </tr>\n",
       "    <tr>\n",
       "      <th>3</th>\n",
       "      <td>11.19</td>\n",
       "      <td>326.00</td>\n",
       "      <td>NaN</td>\n",
       "      <td>0.8</td>\n",
       "      <td>5.43</td>\n",
       "      <td>9948.141738</td>\n",
       "      <td>620.787518</td>\n",
       "      <td>228.969031</td>\n",
       "      <td>255.682085</td>\n",
       "      <td>43062.200002</td>\n",
       "    </tr>\n",
       "    <tr>\n",
       "      <th>4</th>\n",
       "      <td>11.22</td>\n",
       "      <td>308.00</td>\n",
       "      <td>10.0</td>\n",
       "      <td>4.0</td>\n",
       "      <td>2.12</td>\n",
       "      <td>2209.261281</td>\n",
       "      <td>1767.543491</td>\n",
       "      <td>22.896903</td>\n",
       "      <td>184.734710</td>\n",
       "      <td>13331.792068</td>\n",
       "    </tr>\n",
       "    <tr>\n",
       "      <th>...</th>\n",
       "      <td>...</td>\n",
       "      <td>...</td>\n",
       "      <td>...</td>\n",
       "      <td>...</td>\n",
       "      <td>...</td>\n",
       "      <td>...</td>\n",
       "      <td>...</td>\n",
       "      <td>...</td>\n",
       "      <td>...</td>\n",
       "      <td>...</td>\n",
       "    </tr>\n",
       "    <tr>\n",
       "      <th>35723</th>\n",
       "      <td>-13.82</td>\n",
       "      <td>1119.60</td>\n",
       "      <td>8.0</td>\n",
       "      <td>8.0</td>\n",
       "      <td>3.58</td>\n",
       "      <td>21491.305517</td>\n",
       "      <td>12770.090428</td>\n",
       "      <td>2970.040440</td>\n",
       "      <td>9187.374358</td>\n",
       "      <td>34884.136689</td>\n",
       "    </tr>\n",
       "    <tr>\n",
       "      <th>35724</th>\n",
       "      <td>-13.82</td>\n",
       "      <td>1128.85</td>\n",
       "      <td>NaN</td>\n",
       "      <td>14.0</td>\n",
       "      <td>8.80</td>\n",
       "      <td>11260.499490</td>\n",
       "      <td>4217.809731</td>\n",
       "      <td>4501.379943</td>\n",
       "      <td>8866.040295</td>\n",
       "      <td>79114.978038</td>\n",
       "    </tr>\n",
       "    <tr>\n",
       "      <th>35725</th>\n",
       "      <td>-13.82</td>\n",
       "      <td>1132.41</td>\n",
       "      <td>5.0</td>\n",
       "      <td>6.0</td>\n",
       "      <td>5.48</td>\n",
       "      <td>4247.172555</td>\n",
       "      <td>1221.939610</td>\n",
       "      <td>1083.897904</td>\n",
       "      <td>2007.669471</td>\n",
       "      <td>46350.365405</td>\n",
       "    </tr>\n",
       "    <tr>\n",
       "      <th>35726</th>\n",
       "      <td>-13.82</td>\n",
       "      <td>1136.24</td>\n",
       "      <td>4.0</td>\n",
       "      <td>4.0</td>\n",
       "      <td>0.70</td>\n",
       "      <td>5918.719620</td>\n",
       "      <td>5918.719620</td>\n",
       "      <td>0.000000</td>\n",
       "      <td>2026.134892</td>\n",
       "      <td>7452.589981</td>\n",
       "    </tr>\n",
       "    <tr>\n",
       "      <th>35727</th>\n",
       "      <td>-13.82</td>\n",
       "      <td>1125.93</td>\n",
       "      <td>1.0</td>\n",
       "      <td>2.0</td>\n",
       "      <td>1.44</td>\n",
       "      <td>4440.170043</td>\n",
       "      <td>3999.475254</td>\n",
       "      <td>158.046197</td>\n",
       "      <td>1843.270026</td>\n",
       "      <td>13768.248392</td>\n",
       "    </tr>\n",
       "  </tbody>\n",
       "</table>\n",
       "<p>35728 rows × 10 columns</p>\n",
       "</div>"
      ],
      "text/plain": [
       "       GPS_LAT  GPS_ALT  LandOwned  LandCultivated  LivestockHoldings  \\\n",
       "0        11.19   254.00       10.0             2.0               1.04   \n",
       "1        11.19   346.00        NaN             1.2               4.00   \n",
       "2        11.19   324.00        2.0             0.8               0.30   \n",
       "3        11.19   326.00        NaN             0.8               5.43   \n",
       "4        11.22   308.00       10.0             4.0               2.12   \n",
       "...        ...      ...        ...             ...                ...   \n",
       "35723   -13.82  1119.60        8.0             8.0               3.58   \n",
       "35724   -13.82  1128.85        NaN            14.0               8.80   \n",
       "35725   -13.82  1132.41        5.0             6.0               5.48   \n",
       "35726   -13.82  1136.24        4.0             4.0               0.70   \n",
       "35727   -13.82  1125.93        1.0             2.0               1.44   \n",
       "\n",
       "       Food_Availability_kCal_MAE_day  Food_Self_Sufficiency_kCal_MAE_day  \\\n",
       "0                         4621.267353                          754.360895   \n",
       "1                         2503.023263                         2303.522017   \n",
       "2                          381.108158                          381.108158   \n",
       "3                         9948.141738                          620.787518   \n",
       "4                         2209.261281                         1767.543491   \n",
       "...                               ...                                 ...   \n",
       "35723                    21491.305517                        12770.090428   \n",
       "35724                    11260.499490                         4217.809731   \n",
       "35725                     4247.172555                         1221.939610   \n",
       "35726                     5918.719620                         5918.719620   \n",
       "35727                     4440.170043                         3999.475254   \n",
       "\n",
       "       crop_sales_USD_PPP_pHH_Yr  value_crop_produce_USD_PPP_pHH_Yr  \\\n",
       "0                     164.857702                         242.318219   \n",
       "1                       0.000000                         279.844923   \n",
       "2                       0.000000                          23.278518   \n",
       "3                     228.969031                         255.682085   \n",
       "4                      22.896903                         184.734710   \n",
       "...                          ...                                ...   \n",
       "35723                2970.040440                        9187.374358   \n",
       "35724                4501.379943                        8866.040295   \n",
       "35725                1083.897904                        2007.669471   \n",
       "35726                   0.000000                        2026.134892   \n",
       "35727                 158.046197                        1843.270026   \n",
       "\n",
       "       GHGEmissions  \n",
       "0        702.949550  \n",
       "1      94415.087935  \n",
       "2        113.654565  \n",
       "3      43062.200002  \n",
       "4      13331.792068  \n",
       "...             ...  \n",
       "35723  34884.136689  \n",
       "35724  79114.978038  \n",
       "35725  46350.365405  \n",
       "35726   7452.589981  \n",
       "35727  13768.248392  \n",
       "\n",
       "[35728 rows x 10 columns]"
      ]
     },
     "execution_count": 6,
     "metadata": {},
     "output_type": "execute_result"
    }
   ],
   "source": [
    "data_pre"
   ]
  },
  {
   "cell_type": "code",
   "execution_count": 7,
   "id": "379937ee",
   "metadata": {},
   "outputs": [],
   "source": [
    "food_available = data_pre[['Food_Availability_kCal_MAE_day']]\n",
    "# food_available"
   ]
  },
  {
   "cell_type": "code",
   "execution_count": 8,
   "id": "28d18a47",
   "metadata": {},
   "outputs": [],
   "source": [
    "livestock = data_pre[['LivestockHoldings']]\n",
    "# livestock"
   ]
  },
  {
   "cell_type": "code",
   "execution_count": 9,
   "id": "aa201e1f",
   "metadata": {},
   "outputs": [],
   "source": [
    "crop = data_pre[['value_crop_produce_USD_PPP_pHH_Yr']]\n",
    "# crop"
   ]
  },
  {
   "cell_type": "code",
   "execution_count": 10,
   "id": "4512cc18",
   "metadata": {},
   "outputs": [],
   "source": [
    "GHC = data_pre[['GHGEmissions']]\n",
    "LAT = data_pre[['GPS_LAT']]\n",
    "ALT = data_pre[['GPS_ALT']]\n",
    "land = data_pre[['LandOwned']]  \n",
    "land_cult = data_pre[['LandCultivated']] \n",
    "food_self = data_pre[['Food_Self_Sufficiency_kCal_MAE_day']]\n",
    "val_crop = data_pre[['value_crop_produce_USD_PPP_pHH_Yr']]"
   ]
  },
  {
   "cell_type": "code",
   "execution_count": 11,
   "id": "a800d2e9",
   "metadata": {},
   "outputs": [],
   "source": [
    "food_available.isnull().values.any()\n",
    "food_clean = food_available.dropna()\n",
    "food_available_nans = food_available[food_available['Food_Availability_kCal_MAE_day'].isnull()]\n",
    "# print(food_clean)\n",
    "# food_available_nans"
   ]
  },
  {
   "cell_type": "code",
   "execution_count": 12,
   "id": "41aea2a6",
   "metadata": {},
   "outputs": [
    {
     "name": "stdout",
     "output_type": "stream",
     "text": [
      "35728 35728 35728 35728\n",
      "(35728, 1) (35728, 1) (35728, 1) (35728, 1)\n"
     ]
    }
   ],
   "source": [
    "foodie_pre = food_available.to_numpy()\n",
    "livie_pre = livestock.to_numpy()\n",
    "crop_pre = crop.to_numpy()\n",
    "GHC_pre = GHC.to_numpy()\n",
    "LAT_pre = LAT.to_numpy()\n",
    "ALT_pre = ALT.to_numpy()\n",
    "land_pre = land.to_numpy()\n",
    "food_self_pre = food_self.to_numpy()\n",
    "val_crop_pre = val_crop.to_numpy()\n",
    "land_cult_pre = land_cult.to_numpy()\n",
    "# foodie_pre = np.array(food_available)\n",
    "print(len(foodie_pre), len(livie_pre), len(crop_pre), len(GHC_pre))\n",
    "print(foodie_pre.shape, livie_pre.shape, crop_pre.shape, GHC_pre.shape)\n",
    "# food2"
   ]
  },
  {
   "cell_type": "code",
   "execution_count": 13,
   "id": "dccdfe12",
   "metadata": {},
   "outputs": [
    {
     "name": "stderr",
     "output_type": "stream",
     "text": [
      "/opt/anaconda3/lib/python3.7/site-packages/ipykernel_launcher.py:3: DeprecationWarning: np.asscalar(a) is deprecated since NumPy v1.16, use a.item() instead\n",
      "  This is separate from the ipykernel package so we can avoid doing imports until\n",
      "/opt/anaconda3/lib/python3.7/site-packages/ipykernel_launcher.py:7: DeprecationWarning: np.asscalar(a) is deprecated since NumPy v1.16, use a.item() instead\n",
      "  import sys\n",
      "/opt/anaconda3/lib/python3.7/site-packages/ipykernel_launcher.py:11: DeprecationWarning: np.asscalar(a) is deprecated since NumPy v1.16, use a.item() instead\n",
      "  # This is added back by InteractiveShellApp.init_path()\n",
      "/opt/anaconda3/lib/python3.7/site-packages/ipykernel_launcher.py:15: DeprecationWarning: np.asscalar(a) is deprecated since NumPy v1.16, use a.item() instead\n",
      "  from ipykernel import kernelapp as app\n",
      "/opt/anaconda3/lib/python3.7/site-packages/ipykernel_launcher.py:19: DeprecationWarning: np.asscalar(a) is deprecated since NumPy v1.16, use a.item() instead\n",
      "/opt/anaconda3/lib/python3.7/site-packages/ipykernel_launcher.py:23: DeprecationWarning: np.asscalar(a) is deprecated since NumPy v1.16, use a.item() instead\n",
      "/opt/anaconda3/lib/python3.7/site-packages/ipykernel_launcher.py:27: DeprecationWarning: np.asscalar(a) is deprecated since NumPy v1.16, use a.item() instead\n",
      "/opt/anaconda3/lib/python3.7/site-packages/ipykernel_launcher.py:31: DeprecationWarning: np.asscalar(a) is deprecated since NumPy v1.16, use a.item() instead\n"
     ]
    },
    {
     "name": "stdout",
     "output_type": "stream",
     "text": [
      "35728 35728 35728 35728\n"
     ]
    },
    {
     "name": "stderr",
     "output_type": "stream",
     "text": [
      "/opt/anaconda3/lib/python3.7/site-packages/ipykernel_launcher.py:35: DeprecationWarning: np.asscalar(a) is deprecated since NumPy v1.16, use a.item() instead\n",
      "/opt/anaconda3/lib/python3.7/site-packages/ipykernel_launcher.py:39: DeprecationWarning: np.asscalar(a) is deprecated since NumPy v1.16, use a.item() instead\n"
     ]
    }
   ],
   "source": [
    "food_list = []\n",
    "for i in range(len(foodie_pre)):\n",
    "    food_list.append(np.asscalar(foodie_pre[i]))\n",
    "    \n",
    "live_list = []\n",
    "for i in range(len(livie_pre)):\n",
    "    live_list.append(np.asscalar(livie_pre[i]))\n",
    "\n",
    "crop_list = []\n",
    "for i in range(len(crop_pre)):\n",
    "    crop_list.append(np.asscalar(crop_pre[i]))\n",
    "\n",
    "GHC_list = []\n",
    "for i in range(len(GHC_pre)):\n",
    "    GHC_list.append(np.asscalar(GHC_pre[i]))\n",
    "    \n",
    "LAT_list = []\n",
    "for i in range(len(GHC_pre)):\n",
    "    LAT_list.append(np.asscalar(LAT_pre[i]))\n",
    "\n",
    "ALT_list = []\n",
    "for i in range(len(GHC_pre)):\n",
    "    ALT_list.append(np.asscalar(ALT_pre[i]))\n",
    "\n",
    "land_list = []\n",
    "for i in range(len(GHC_pre)):\n",
    "    land_list.append(np.asscalar(land_pre[i]))\n",
    "\n",
    "food_self_list = []\n",
    "for i in range(len(GHC_pre)):\n",
    "    food_self_list.append(np.asscalar(food_self_pre[i]))\n",
    "\n",
    "val_crop_list = []\n",
    "for i in range(len(GHC_pre)):\n",
    "    val_crop_list.append(np.asscalar(val_crop_pre[i]))\n",
    "\n",
    "land_cult_list = []\n",
    "for i in range(len(GHC_pre)):\n",
    "    land_cult_list.append(np.asscalar(land_cult_pre[i]))\n",
    "\n",
    "print(len(live_list), len(food_list), len(crop_list), len(GHC_list))"
   ]
  },
  {
   "cell_type": "code",
   "execution_count": 14,
   "id": "43b15011",
   "metadata": {},
   "outputs": [],
   "source": [
    "predict = np.array(list(zip(live_list, land_list)))\n",
    "# predict"
   ]
  },
  {
   "cell_type": "code",
   "execution_count": 15,
   "id": "dc74c79e",
   "metadata": {},
   "outputs": [],
   "source": [
    "def impute_em(X, max_iter = 3000, eps = 1e-08):\n",
    "    '''(np.array, int, number) -> {str: np.array or int}\n",
    "    \n",
    "    Precondition: max_iter >= 1 and eps > 0\n",
    "    \n",
    "    Return the dictionary with five keys where:\n",
    "    - Key 'mu' stores the mean estimate of the imputed data.\n",
    "    - Key 'Sigma' stores the variance estimate of the imputed data.\n",
    "    - Key 'X_imputed' stores the imputed data that is mutated from X using \n",
    "      the EM algorithm.\n",
    "    - Key 'C' stores the np.array that specifies the original missing entries\n",
    "      of X.\n",
    "    - Key 'iteration' stores the number of iteration used to compute\n",
    "      'X_imputed' based on max_iter and eps specified.\n",
    "    '''\n",
    "    \n",
    "    nr, nc = X.shape\n",
    "    C = np.isnan(X) == False\n",
    "    \n",
    "    # Collect M_i and O_i's\n",
    "    one_to_nc = np.arange(1, nc + 1, step = 1)\n",
    "    M = one_to_nc * (C == False) - 1\n",
    "    O = one_to_nc * C - 1\n",
    "    \n",
    "    # Generate Mu_0 and Sigma_0\n",
    "    Mu = np.nanmean(X, axis = 0)\n",
    "    observed_rows = np.where(np.isnan(sum(X.T)) == False)[0]\n",
    "    S = np.cov(X[observed_rows, ].T)\n",
    "    if np.isnan(S).any():\n",
    "        S = np.diag(np.nanvar(X, axis = 0))\n",
    "    \n",
    "    # Start updating\n",
    "    Mu_tilde, S_tilde = {}, {}\n",
    "    X_tilde = X.copy()\n",
    "    no_conv = True\n",
    "    iteration = 0\n",
    "    while no_conv and iteration < max_iter:\n",
    "        for i in range(nr):\n",
    "            S_tilde[i] = np.zeros(nc ** 2).reshape(nc, nc)\n",
    "            if set(O[i, ]) != set(one_to_nc - 1): # missing component exists\n",
    "                M_i, O_i = M[i, ][M[i, ] != -1], O[i, ][O[i, ] != -1]\n",
    "                S_MM = S[np.ix_(M_i, M_i)]\n",
    "                S_MO = S[np.ix_(M_i, O_i)]\n",
    "                S_OM = S_MO.T\n",
    "                S_OO = S[np.ix_(O_i, O_i)]\n",
    "                Mu_tilde[i] = Mu[np.ix_(M_i)] +\\\n",
    "                    S_MO @ np.linalg.inv(S_OO) @\\\n",
    "                    (X_tilde[i, O_i] - Mu[np.ix_(O_i)])\n",
    "                X_tilde[i, M_i] = Mu_tilde[i]\n",
    "                S_MM_O = S_MM - S_MO @ np.linalg.inv(S_OO) @ S_OM\n",
    "                S_tilde[i][np.ix_(M_i, M_i)] = S_MM_O\n",
    "        Mu_new = np.mean(X_tilde, axis = 0)\n",
    "        S_new = np.cov(X_tilde.T, bias = 1) +\\\n",
    "            reduce(np.add, S_tilde.values()) / nr\n",
    "        no_conv =\\\n",
    "            np.linalg.norm(Mu - Mu_new) >= eps or\\\n",
    "            np.linalg.norm(S - S_new, ord = 2) >= eps\n",
    "        Mu = Mu_new\n",
    "        S = S_new\n",
    "        iteration += 1\n",
    "    \n",
    "    result = {\n",
    "        'mu': Mu,\n",
    "        'Sigma': S,\n",
    "        'X_imputed': X_tilde,\n",
    "        'C': C,\n",
    "        'iteration': iteration\n",
    "    }\n",
    "    \n",
    "    return result"
   ]
  },
  {
   "cell_type": "code",
   "execution_count": 16,
   "id": "ecf220f8",
   "metadata": {},
   "outputs": [],
   "source": [
    "start = dt.now()\n",
    "result_imputed = impute_em(predict)\n",
    "end = dt.now()"
   ]
  },
  {
   "cell_type": "code",
   "execution_count": 20,
   "id": "d063ceac",
   "metadata": {},
   "outputs": [],
   "source": [
    "# result_imputed"
   ]
  },
  {
   "cell_type": "code",
   "execution_count": 17,
   "id": "948f0c27",
   "metadata": {},
   "outputs": [
    {
     "data": {
      "text/plain": [
       "array([14.82105184, 13.15876553])"
      ]
     },
     "execution_count": 17,
     "metadata": {},
     "output_type": "execute_result"
    }
   ],
   "source": [
    "result_imputed['mu']"
   ]
  },
  {
   "cell_type": "code",
   "execution_count": 31,
   "id": "03c3c85e",
   "metadata": {},
   "outputs": [],
   "source": [
    "# mu"
   ]
  },
  {
   "cell_type": "code",
   "execution_count": 18,
   "id": "0857ffcd",
   "metadata": {},
   "outputs": [
    {
     "data": {
      "text/plain": [
       "array([[4.07717522e+06, 3.55466393e+00],\n",
       "       [3.55466393e+00, 8.74871266e+04]])"
      ]
     },
     "execution_count": 18,
     "metadata": {},
     "output_type": "execute_result"
    }
   ],
   "source": [
    "result_imputed['Sigma']"
   ]
  },
  {
   "cell_type": "code",
   "execution_count": 30,
   "id": "b3857910",
   "metadata": {},
   "outputs": [],
   "source": [
    "# Sigma"
   ]
  },
  {
   "cell_type": "code",
   "execution_count": 19,
   "id": "599442be",
   "metadata": {},
   "outputs": [
    {
     "data": {
      "text/plain": [
       "nan"
      ]
     },
     "execution_count": 19,
     "metadata": {},
     "output_type": "execute_result"
    }
   ],
   "source": [
    "np.sum(predict)"
   ]
  },
  {
   "cell_type": "code",
   "execution_count": 20,
   "id": "724c4b29",
   "metadata": {},
   "outputs": [
    {
     "data": {
      "text/plain": [
       "999662.9149713166"
      ]
     },
     "execution_count": 20,
     "metadata": {},
     "output_type": "execute_result"
    }
   ],
   "source": [
    "np.sum(result_imputed['X_imputed'])"
   ]
  },
  {
   "cell_type": "code",
   "execution_count": 22,
   "id": "86193f3b",
   "metadata": {},
   "outputs": [],
   "source": [
    "# predict"
   ]
  },
  {
   "cell_type": "code",
   "execution_count": 22,
   "id": "1b2be089",
   "metadata": {},
   "outputs": [
    {
     "name": "stdout",
     "output_type": "stream",
     "text": [
      "True\n"
     ]
    }
   ],
   "source": [
    "array = result_imputed['X_imputed']\n",
    "print((array >= 0).all())\n",
    "# array"
   ]
  },
  {
   "cell_type": "code",
   "execution_count": 13,
   "id": "9e2ed2d6",
   "metadata": {},
   "outputs": [],
   "source": [
    "# class GMM(object):\n",
    "#     def __init__(self, X, k=2):\n",
    "#         # dimension\n",
    "#         X = np.asarray(X)\n",
    "#         self.m, self.n = X.shape\n",
    "#         self.data = X.copy()\n",
    "#         # number of mixtures\n",
    "#         self.k = k\n",
    "        \n",
    "#     def _init(self):\n",
    "#         # init mixture means/sigmas\n",
    "#         self.mean_arr = np.asmatrix(np.random.random((self.k, self.n)))\n",
    "#         self.sigma_arr = np.array([np.asmatrix(np.identity(self.n)) for i in range(self.k)])\n",
    "#         self.phi = np.ones(self.k)/self.k\n",
    "#         self.w = np.asmatrix(np.empty((self.m, self.k), dtype=float))\n",
    "#         #print(self.mean_arr)\n",
    "#         #print(self.sigma_arr)\n",
    "    \n",
    "#     def fit(self, tol=1e-4):\n",
    "#         self._init()\n",
    "#         num_iters = 0\n",
    "#         ll = 1\n",
    "#         previous_ll = 0\n",
    "#         while(ll-previous_ll > tol):\n",
    "#             previous_ll = self.loglikelihood()\n",
    "#             self._fit()\n",
    "#             num_iters += 1\n",
    "#             ll = self.loglikelihood()\n",
    "#             print('Iteration %d: log-likelihood is %.6f'%(num_iters, ll))\n",
    "#         print('Terminate at %d-th iteration:log-likelihood is %.6f'%(num_iters, ll))\n",
    "    \n",
    "#     def loglikelihood(self):\n",
    "#         ll = 0\n",
    "#         for i in range(self.m):\n",
    "#             tmp = 0\n",
    "#             for j in range(self.k):\n",
    "#                 #print(self.sigma_arr[j])\n",
    "#                 tmp += sp.stats.multivariate_normal.pdf(self.data[i, :], \n",
    "#                                                         self.mean_arr[j, :].A1, \n",
    "#                                                         self.sigma_arr[j, :]) *\\\n",
    "#                        self.phi[j]\n",
    "#             ll += np.log(tmp) \n",
    "#         return ll\n",
    "    \n",
    "#     def _fit(self):\n",
    "#         self.e_step()\n",
    "#         self.m_step()\n",
    "        \n",
    "#     def e_step(self):\n",
    "#         # calculate w_j^{(i)}\n",
    "#         for i in range(self.m):\n",
    "#             den = 0\n",
    "#             for j in range(self.k):\n",
    "#                 num = sp.stats.multivariate_normal.pdf(self.data[i, :], \n",
    "#                                                        self.mean_arr[j].A1, \n",
    "#                                                        self.sigma_arr[j]) *\\\n",
    "#                       self.phi[j]\n",
    "#                 den += num\n",
    "#                 self.w[i, j] = num\n",
    "#             self.w[i, :] /= den\n",
    "#             assert self.w[i, :].sum() - 1 < 1e-4\n",
    "            \n",
    "#     def m_step(self):\n",
    "#         for j in range(self.k):\n",
    "#             const = self.w[:, j].sum()\n",
    "#             self.phi[j] = 1/self.m * const\n",
    "#             _mu_j = np.zeros(self.n)\n",
    "#             _sigma_j = np.zeros((self.n, self.n))\n",
    "#             for i in range(self.m):\n",
    "#                 _mu_j += (self.data[i, :] * self.w[i, j])\n",
    "#                 _sigma_j += self.w[i, j] * ((self.data[i, :] - self.mean_arr[j, :]).T * (self.data[i, :] - self.mean_arr[j, :]))\n",
    "#                 #print((self.data[i, :] - self.mean_arr[j, :]).T * (self.data[i, :] - self.mean_arr[j, :]))\n",
    "#             self.mean_arr[j] = _mu_j / const\n",
    "#             self.sigma_arr[j] = _sigma_j / const\n",
    "#         #print(self.sigma_arr)"
   ]
  },
  {
   "cell_type": "code",
   "execution_count": 14,
   "id": "a2515acc",
   "metadata": {},
   "outputs": [
    {
     "name": "stderr",
     "output_type": "stream",
     "text": [
      "/opt/anaconda3/lib/python3.7/site-packages/ipykernel_launcher.py:42: RuntimeWarning: divide by zero encountered in log\n",
      "/opt/anaconda3/lib/python3.7/site-packages/ipykernel_launcher.py:60: RuntimeWarning: invalid value encountered in true_divide\n"
     ]
    },
    {
     "ename": "AssertionError",
     "evalue": "",
     "output_type": "error",
     "traceback": [
      "\u001b[0;31m---------------------------------------------------------------------------\u001b[0m",
      "\u001b[0;31mAssertionError\u001b[0m                            Traceback (most recent call last)",
      "\u001b[0;32m<ipython-input-14-c09bbfd84521>\u001b[0m in \u001b[0;36m<module>\u001b[0;34m\u001b[0m\n\u001b[1;32m      1\u001b[0m \u001b[0mgmm\u001b[0m \u001b[0;34m=\u001b[0m \u001b[0mGMM\u001b[0m\u001b[0;34m(\u001b[0m\u001b[0mfood2\u001b[0m\u001b[0;34m)\u001b[0m\u001b[0;34m\u001b[0m\u001b[0;34m\u001b[0m\u001b[0m\n\u001b[0;32m----> 2\u001b[0;31m \u001b[0mgmm\u001b[0m\u001b[0;34m.\u001b[0m\u001b[0mfit\u001b[0m\u001b[0;34m(\u001b[0m\u001b[0;34m)\u001b[0m\u001b[0;34m\u001b[0m\u001b[0;34m\u001b[0m\u001b[0m\n\u001b[0m",
      "\u001b[0;32m<ipython-input-13-9447ea4a4209>\u001b[0m in \u001b[0;36mfit\u001b[0;34m(self, tol)\u001b[0m\n\u001b[1;32m     24\u001b[0m         \u001b[0;32mwhile\u001b[0m\u001b[0;34m(\u001b[0m\u001b[0mll\u001b[0m\u001b[0;34m-\u001b[0m\u001b[0mprevious_ll\u001b[0m \u001b[0;34m>\u001b[0m \u001b[0mtol\u001b[0m\u001b[0;34m)\u001b[0m\u001b[0;34m:\u001b[0m\u001b[0;34m\u001b[0m\u001b[0;34m\u001b[0m\u001b[0m\n\u001b[1;32m     25\u001b[0m             \u001b[0mprevious_ll\u001b[0m \u001b[0;34m=\u001b[0m \u001b[0mself\u001b[0m\u001b[0;34m.\u001b[0m\u001b[0mloglikelihood\u001b[0m\u001b[0;34m(\u001b[0m\u001b[0;34m)\u001b[0m\u001b[0;34m\u001b[0m\u001b[0;34m\u001b[0m\u001b[0m\n\u001b[0;32m---> 26\u001b[0;31m             \u001b[0mself\u001b[0m\u001b[0;34m.\u001b[0m\u001b[0m_fit\u001b[0m\u001b[0;34m(\u001b[0m\u001b[0;34m)\u001b[0m\u001b[0;34m\u001b[0m\u001b[0;34m\u001b[0m\u001b[0m\n\u001b[0m\u001b[1;32m     27\u001b[0m             \u001b[0mnum_iters\u001b[0m \u001b[0;34m+=\u001b[0m \u001b[0;36m1\u001b[0m\u001b[0;34m\u001b[0m\u001b[0;34m\u001b[0m\u001b[0m\n\u001b[1;32m     28\u001b[0m             \u001b[0mll\u001b[0m \u001b[0;34m=\u001b[0m \u001b[0mself\u001b[0m\u001b[0;34m.\u001b[0m\u001b[0mloglikelihood\u001b[0m\u001b[0;34m(\u001b[0m\u001b[0;34m)\u001b[0m\u001b[0;34m\u001b[0m\u001b[0;34m\u001b[0m\u001b[0m\n",
      "\u001b[0;32m<ipython-input-13-9447ea4a4209>\u001b[0m in \u001b[0;36m_fit\u001b[0;34m(self)\u001b[0m\n\u001b[1;32m     44\u001b[0m \u001b[0;34m\u001b[0m\u001b[0m\n\u001b[1;32m     45\u001b[0m     \u001b[0;32mdef\u001b[0m \u001b[0m_fit\u001b[0m\u001b[0;34m(\u001b[0m\u001b[0mself\u001b[0m\u001b[0;34m)\u001b[0m\u001b[0;34m:\u001b[0m\u001b[0;34m\u001b[0m\u001b[0;34m\u001b[0m\u001b[0m\n\u001b[0;32m---> 46\u001b[0;31m         \u001b[0mself\u001b[0m\u001b[0;34m.\u001b[0m\u001b[0me_step\u001b[0m\u001b[0;34m(\u001b[0m\u001b[0;34m)\u001b[0m\u001b[0;34m\u001b[0m\u001b[0;34m\u001b[0m\u001b[0m\n\u001b[0m\u001b[1;32m     47\u001b[0m         \u001b[0mself\u001b[0m\u001b[0;34m.\u001b[0m\u001b[0mm_step\u001b[0m\u001b[0;34m(\u001b[0m\u001b[0;34m)\u001b[0m\u001b[0;34m\u001b[0m\u001b[0;34m\u001b[0m\u001b[0m\n\u001b[1;32m     48\u001b[0m \u001b[0;34m\u001b[0m\u001b[0m\n",
      "\u001b[0;32m<ipython-input-13-9447ea4a4209>\u001b[0m in \u001b[0;36me_step\u001b[0;34m(self)\u001b[0m\n\u001b[1;32m     59\u001b[0m                 \u001b[0mself\u001b[0m\u001b[0;34m.\u001b[0m\u001b[0mw\u001b[0m\u001b[0;34m[\u001b[0m\u001b[0mi\u001b[0m\u001b[0;34m,\u001b[0m \u001b[0mj\u001b[0m\u001b[0;34m]\u001b[0m \u001b[0;34m=\u001b[0m \u001b[0mnum\u001b[0m\u001b[0;34m\u001b[0m\u001b[0;34m\u001b[0m\u001b[0m\n\u001b[1;32m     60\u001b[0m             \u001b[0mself\u001b[0m\u001b[0;34m.\u001b[0m\u001b[0mw\u001b[0m\u001b[0;34m[\u001b[0m\u001b[0mi\u001b[0m\u001b[0;34m,\u001b[0m \u001b[0;34m:\u001b[0m\u001b[0;34m]\u001b[0m \u001b[0;34m/=\u001b[0m \u001b[0mden\u001b[0m\u001b[0;34m\u001b[0m\u001b[0;34m\u001b[0m\u001b[0m\n\u001b[0;32m---> 61\u001b[0;31m             \u001b[0;32massert\u001b[0m \u001b[0mself\u001b[0m\u001b[0;34m.\u001b[0m\u001b[0mw\u001b[0m\u001b[0;34m[\u001b[0m\u001b[0mi\u001b[0m\u001b[0;34m,\u001b[0m \u001b[0;34m:\u001b[0m\u001b[0;34m]\u001b[0m\u001b[0;34m.\u001b[0m\u001b[0msum\u001b[0m\u001b[0;34m(\u001b[0m\u001b[0;34m)\u001b[0m \u001b[0;34m-\u001b[0m \u001b[0;36m1\u001b[0m \u001b[0;34m<\u001b[0m \u001b[0;36m1e-4\u001b[0m\u001b[0;34m\u001b[0m\u001b[0;34m\u001b[0m\u001b[0m\n\u001b[0m\u001b[1;32m     62\u001b[0m \u001b[0;34m\u001b[0m\u001b[0m\n\u001b[1;32m     63\u001b[0m     \u001b[0;32mdef\u001b[0m \u001b[0mm_step\u001b[0m\u001b[0;34m(\u001b[0m\u001b[0mself\u001b[0m\u001b[0;34m)\u001b[0m\u001b[0;34m:\u001b[0m\u001b[0;34m\u001b[0m\u001b[0;34m\u001b[0m\u001b[0m\n",
      "\u001b[0;31mAssertionError\u001b[0m: "
     ]
    }
   ],
   "source": [
    "# gmm = GMM(food2)\n",
    "# gmm.fit()"
   ]
  },
  {
   "cell_type": "code",
   "execution_count": 46,
   "id": "14ef9acb",
   "metadata": {},
   "outputs": [
    {
     "data": {
      "text/plain": [
       "(70, 2)"
      ]
     },
     "execution_count": 46,
     "metadata": {},
     "output_type": "execute_result"
    }
   ],
   "source": [
    "X = np.random.multivariate_normal([0, 3], [[0.5, 0], [0, 0.8]], 20)\n",
    "X = np.vstack((X, np.random.multivariate_normal([20, 10], np.identity(2), 50)))\n",
    "X.shape"
   ]
  },
  {
   "cell_type": "code",
   "execution_count": 50,
   "id": "18190715",
   "metadata": {},
   "outputs": [],
   "source": [
    "np.random.seed(1024)\n",
    "mu = np.array([1, 2, 6])\n",
    "Sigma = np.array([[118, 62, 44], [62, 49, 17], [44, 17, 21]])\n",
    "n = 400\n",
    "X_truth = np.random.multivariate_normal(mu, Sigma, n)"
   ]
  },
  {
   "cell_type": "code",
   "execution_count": 53,
   "id": "ef1ee8bb",
   "metadata": {},
   "outputs": [
    {
     "data": {
      "text/plain": [
       "array([[-22.51504305, -11.21931542,  -0.31680441],\n",
       "       [ -4.13801604,  -3.3813311 ,   3.97850866],\n",
       "       [ -6.96117925,  -4.78845229,   1.21653198],\n",
       "       ...,\n",
       "       [ -8.53309711,  -4.17104975,   3.44262394],\n",
       "       [  1.37769221,   7.18668   ,   5.10726117],\n",
       "       [  7.61570646,   2.48587502,  11.05380599]])"
      ]
     },
     "execution_count": 53,
     "metadata": {},
     "output_type": "execute_result"
    }
   ],
   "source": [
    "X_truth"
   ]
  },
  {
   "cell_type": "code",
   "execution_count": 54,
   "id": "34cf069d",
   "metadata": {},
   "outputs": [],
   "source": [
    "def simulate_nan(X, nan_rate):\n",
    "    '''(np.array, number) -> {str: np.array or number}\n",
    "    \n",
    "    Preconditions:\n",
    "    1. np.isnan(X_complete).any() == False\n",
    "    2. 0 <= nan_rate <= 1\n",
    "    \n",
    "    Return the dictionary with four keys where: \n",
    "    - Key 'X' stores a np.array where some of the entries in X \n",
    "      are replaced with np.nan based on nan_rate specified.\n",
    "    - Key 'C' stores a np.array where each entry is False if the\n",
    "      corresponding entry in the key 'X''s np.array is np.nan, and True\n",
    "      otherwise.\n",
    "    - Key 'nan_rate' stores nan_rate specified.\n",
    "    - Key 'nan_rate_actual' stores the actual proportion of np.nan\n",
    "      in the key 'X''s np.array.\n",
    "    '''\n",
    "    \n",
    "    # Create C matrix; entry is False if missing, and True if observed\n",
    "    X_complete = X.copy()\n",
    "    nr, nc = X_complete.shape\n",
    "    C = np.random.random(nr * nc).reshape(nr, nc) > nan_rate\n",
    "    \n",
    "    # Check for which i's we have all components become missing\n",
    "    checker = np.where(sum(C.T) == 0)[0]\n",
    "    if len(checker) == 0:\n",
    "        # Every X_i has at least one component that is observed,\n",
    "        # which is what we want\n",
    "        X_complete[C == False] = np.nan\n",
    "    else:\n",
    "        # Otherwise, randomly \"revive\" some components in such X_i's\n",
    "        for index in checker:\n",
    "            reviving_components = np.random.choice(\n",
    "                nc, \n",
    "                int(np.ceil(nc * np.random.random())), \n",
    "                replace = False\n",
    "            )\n",
    "            C[index, np.ix_(reviving_components)] = True\n",
    "        X_complete[C == False] = np.nan\n",
    "    \n",
    "    result = {\n",
    "        'X': X_complete,\n",
    "        'C': C,\n",
    "        'nan_rate': nan_rate,\n",
    "        'nan_rate_actual': np.sum(C == False) / (nr * nc)\n",
    "    }\n",
    "    \n",
    "    return result"
   ]
  },
  {
   "cell_type": "code",
   "execution_count": 57,
   "id": "5042aad3",
   "metadata": {},
   "outputs": [
    {
     "data": {
      "text/plain": [
       "array([[-22.51504305,          nan,  -0.31680441],\n",
       "       [ -4.13801604,          nan,          nan],\n",
       "       [ -6.96117925,  -4.78845229,          nan],\n",
       "       ...,\n",
       "       [ -8.53309711,          nan,   3.44262394],\n",
       "       [         nan,   7.18668   ,          nan],\n",
       "       [  7.61570646,   2.48587502,  11.05380599]])"
      ]
     },
     "execution_count": 57,
     "metadata": {},
     "output_type": "execute_result"
    }
   ],
   "source": [
    "result = simulate_nan(X_truth, nan_rate = .4)\n",
    "X = result['X'].copy()\n",
    "X"
   ]
  },
  {
   "cell_type": "code",
   "execution_count": 59,
   "id": "6e38d162",
   "metadata": {},
   "outputs": [
    {
     "data": {
      "text/plain": [
       "True"
      ]
     },
     "execution_count": 59,
     "metadata": {},
     "output_type": "execute_result"
    }
   ],
   "source": [
    "(sum((np.isnan(X) == False).T) == 0).any() == False"
   ]
  },
  {
   "cell_type": "code",
   "execution_count": 61,
   "id": "835429a2",
   "metadata": {},
   "outputs": [
    {
     "data": {
      "text/plain": [
       "0.35083333333333333"
      ]
     },
     "execution_count": 61,
     "metadata": {},
     "output_type": "execute_result"
    }
   ],
   "source": [
    "result['nan_rate_actual']"
   ]
  },
  {
   "cell_type": "code",
   "execution_count": null,
   "id": "98bad820",
   "metadata": {},
   "outputs": [],
   "source": []
  }
 ],
 "metadata": {
  "kernelspec": {
   "display_name": "Python 3",
   "language": "python",
   "name": "python3"
  },
  "language_info": {
   "codemirror_mode": {
    "name": "ipython",
    "version": 3
   },
   "file_extension": ".py",
   "mimetype": "text/x-python",
   "name": "python",
   "nbconvert_exporter": "python",
   "pygments_lexer": "ipython3",
   "version": "3.7.4"
  }
 },
 "nbformat": 4,
 "nbformat_minor": 5
}
