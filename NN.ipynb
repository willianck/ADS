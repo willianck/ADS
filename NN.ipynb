{
 "cells": [
  {
   "cell_type": "code",
   "execution_count": 1,
   "metadata": {},
   "outputs": [
    {
     "name": "stdout",
     "output_type": "stream",
     "text": [
      "0.23.2\n"
     ]
    }
   ],
   "source": [
    "import pandas as pd\n",
    "import numpy as np\n",
    "import tensorflow as tf\n",
    "from tensorflow import keras\n",
    "from tensorflow.keras import layers\n",
    "from sklearn.model_selection import train_test_split\n",
    "import seaborn as sns\n",
    "import matplotlib\n",
    "import matplotlib.pyplot as plt\n",
    "\n",
    "\n",
    "from sklearn.cluster import KMeans\n",
    "import pandas as pd\n",
    "import pickle\n",
    "import string\n",
    "import re\n",
    "import string\n",
    "from sklearn.model_selection import cross_validate as cross_validation, ShuffleSplit, cross_val_score, train_test_split, KFold\n",
    "from sklearn.model_selection import GridSearchCV, RandomizedSearchCV\n",
    "from sklearn.metrics import classification_report, accuracy_score, auc\n",
    "import numpy as np\n",
    "import matplotlib.pyplot as plt\n",
    "import seaborn as sns\n",
    "from pathlib import Path\n",
    "from sklearn.svm import *\n",
    "# from sklearn.tree import *\n",
    "from sklearn.neural_network import *\n",
    "from sklearn.linear_model import *\n",
    "from sklearn.ensemble import ExtraTreesClassifier\n",
    "from sklearn.preprocessing import OneHotEncoder\n",
    "from sklearn.experimental import enable_iterative_imputer\n",
    "from sklearn.linear_model import *\n",
    "from sklearn.tree import *\n",
    "from sklearn.ensemble import *\n",
    "from sklearn.ensemble import RandomForestClassifier\n",
    "from sklearn.neighbors import *\n",
    "from sklearn.impute import IterativeImputer\n",
    "from sklearn.naive_bayes import *\n",
    "import pickle\n",
    "from sklearn.svm import SVC\n",
    "from sklearn.preprocessing import StandardScaler\n",
    "from sklearn.datasets import make_classification\n",
    "from sklearn.model_selection import train_test_split\n",
    "from sklearn.pipeline import Pipeline\n",
    "import warnings\n",
    "warnings.filterwarnings(\"ignore\", category=DeprecationWarning) \n",
    "\n",
    "from sklearn import __version__\n",
    "\n",
    "print(__version__)\n",
    "\n"
   ]
  },
  {
   "cell_type": "code",
   "execution_count": 55,
   "metadata": {},
   "outputs": [
    {
     "name": "stdout",
     "output_type": "stream",
     "text": [
      "['ITERATION', 'GPS_LAT', 'GPS_LON', 'GPS_ALT', 'HHsizemembers', 'LandCultivated', 'LivestockHoldings', 'NrofMonthsFoodInsecure', 'PPI_Threshold', 'PPI_Likelihood', 'score_HDDS_GoodSeason', 'score_HDDS_farmbasedGoodSeason', 'score_HDDS_purchasedGoodSeason', 'score_HDDS_BadSeason', 'score_HDDS_farmbasedBadSeason', 'score_HDDS_purchasedBadSeason', 'total_income_USD_PPP_pHH_Yr', 'offfarm_income_USD_PPP_pHH_Yr', 'value_farm_produce_USD_PPP_pHH_Yr', 'crop_sales_USD_PPP_pHH_Yr', 'value_crop_consumed_USD_PPP_pHH_Yr', 'value_livestock_production_USD_PPP_pHH_Yr', 'value_livestock_prod_consumed_USD_PPP_pHH_Yr', 'Market_Orientation', 'Livestock_Orientation', 'Food_Availability_kCal_MAE_day', 'Food_Self_Sufficiency_kCal_MAE_day', 'NrofMonthsWildFoodCons', 'GHGEmissions', 'Gender_MaleControl', 'Gender_FemaleControl', 'NFertInput', 'Food_InsecurityLevel', 'sinBestFoodSecMonth', 'cosBestFoodSecMonth', 'sinWorstFoodSecMonth', 'cosWorstFoodSecMonth', 'Head_EducationLevel_<Other>', 'Head_EducationLevel_<illiterate>', 'Head_EducationLevel_<literate>', 'Head_EducationLevel_<no_school>', 'Head_EducationLevel_<postsecondary>', 'Head_EducationLevel_<primary>', 'Head_EducationLevel_<secondary>', 'HouseholdType_<childhead>', 'HouseholdType_<couple>', 'HouseholdType_<couple_man_works_away>', 'HouseholdType_<couple_polygamous>', 'HouseholdType_<couple_woman_works_away>', 'HouseholdType_<man_single>', 'HouseholdType_<nonparenthead>', 'HouseholdType_<other>', 'HouseholdType_<polygamous>', 'HouseholdType_<single>', 'HouseholdType_<together>', 'HouseholdType_<woman_single>', 'HouseholdType_<workaway>', 'Country_<Bolivia>', 'Country_<Burkina_Faso>', 'Country_<Burundi>', 'Country_<Cambodia>', 'Country_<Comoros>', 'Country_<Costa_Rica>', \"Country_<Cote d'Ivoire>\", 'Country_<DRC>', 'Country_<Ecuador>', 'Country_<El_Salvador>', 'Country_<Ethiopia>', 'Country_<Ghana>', 'Country_<Guatemala>', 'Country_<Honduras>', 'Country_<India>', 'Country_<Kenya>', 'Country_<LaoPDR>', 'Country_<Malawi>', 'Country_<Mali>', 'Country_<Morocco>', 'Country_<Nicaragua>', 'Country_<Niger>', 'Country_<Nigeria>', 'Country_<Palestine>', 'Country_<Peru>', 'Country_<Rwanda>', 'Country_<Senegal>', 'Country_<Sierra Leone>', 'Country_<South Africa>', 'Country_<Tanzania>', 'Country_<Uganda>', 'Country_<Vietnam>', 'Country_<Zambia>']\n"
     ]
    },
    {
     "data": {
      "text/plain": [
       "(35728, 90)"
      ]
     },
     "execution_count": 55,
     "metadata": {},
     "output_type": "execute_result"
    }
   ],
   "source": [
    "data = pd.read_pickle('imputed_data_forest_corr.pkl')\n",
    "# data = pd.read_pickle('imputed_data_forest_2.pkl')\n",
    "\n",
    "print(list(data.columns))\n",
    "data.shape"
   ]
  },
  {
   "cell_type": "code",
   "execution_count": 56,
   "metadata": {},
   "outputs": [
    {
     "name": "stdout",
     "output_type": "stream",
     "text": [
      "0        3\n",
      "1        4\n",
      "2        4\n",
      "3        2\n",
      "4        4\n",
      "        ..\n",
      "35723    1\n",
      "35724    1\n",
      "35725    1\n",
      "35726    1\n",
      "35727    1\n",
      "Name: Food_InsecurityLevel, Length: 35728, dtype: int32\n",
      "(35728, 70)\n"
     ]
    },
    {
     "data": {
      "text/plain": [
       "(35728,)"
      ]
     },
     "execution_count": 56,
     "metadata": {},
     "output_type": "execute_result"
    }
   ],
   "source": [
    "# X = data.drop(['Food_InsecurityLevel','YEAR','currency_conversion_factor'],axis=1)\n",
    "X = data.drop(['Food_InsecurityLevel'],axis=1)\n",
    "y = data['Food_InsecurityLevel']\n",
    "print(y)\n",
    "\n",
    "from sklearn.feature_selection import f_classif\n",
    "from sklearn.feature_selection import SelectKBest\n",
    "from sklearn.feature_selection import f_regression\n",
    "from sklearn.feature_selection import mutual_info_classif\n",
    "from sklearn.feature_selection import SelectFromModel\n",
    "from sklearn.svm import LinearSVC\n",
    "from sklearn.ensemble import ExtraTreesClassifier\n",
    "from sklearn.feature_selection import SelectFromModel\n",
    "from sklearn.ensemble import RandomForestClassifier\n",
    "from sklearn.ensemble import AdaBoostClassifier\n",
    "from sklearn.ensemble import GradientBoostingClassifier\n",
    "from sklearn.feature_selection import SelectFromModel\n",
    "\n",
    "# from sklearn.preprocessing import StandardScaler\n",
    "# scaler = StandardScaler()\n",
    "# X_new2 = scaler.fit_transform(X_new)\n",
    "# X_new2\n",
    "\n",
    "from sklearn.preprocessing import MinMaxScaler\n",
    "scaler = MinMaxScaler()\n",
    "X_new = scaler.fit_transform(X)\n",
    "\n",
    "# from sklearn.feature_selection import SelectFromModel\n",
    "# from sklearn.decomposition import KernelPCA\n",
    "# transformer = SelectFromModel(estimator=RandomForestRegressor()).fit(X_new, y)\n",
    "# X_new = transformer.transform(X_new)\n",
    "# X_new.shape\n",
    "\n",
    "fs_ = SelectKBest(score_func=mutual_info_classif, k=70)\n",
    "fs_.fit(X_new, y)\n",
    "mi_support = fs_.get_support()\n",
    "X_new = fs_.transform(X_new)\n",
    "\n",
    "# clf = ExtraTreesClassifier(n_estimators=60)\n",
    "# clf = clf.fit(X, y)\n",
    "# clf.feature_importances_  \n",
    "# model = SelectFromModel(clf, prefit=True)\n",
    "\n",
    "# lsvc = LinearSVC(C=0.01, penalty=\"l1\", dual=False).fit(X_new, y)\n",
    "# model = SelectFromModel(lsvc, prefit=True)\n",
    "# X_new1 = model.transform(X_new)\n",
    "\n",
    "# transformer = SelectFromModel(estimator=AdaBoostClassifier()).fit(X_new, y)\n",
    "# X_new1 = transformer.transform(X_new)\n",
    "\n",
    "# from keras.utils import to_categorical\n",
    "# y = to_categorical(y)\n",
    "# y = y[:,[1,2,3,4]]\n",
    "print(X_new.shape)\n",
    "y.shape"
   ]
  },
  {
   "cell_type": "code",
   "execution_count": 57,
   "metadata": {},
   "outputs": [],
   "source": [
    "X_train, X_test_val, y_train, y_test_val = train_test_split(X_new, y, test_size=0.25, random_state=2)\n",
    "# X_val, X_test, y_val, y_test = train_test_split(X_test_val, y_test_val, test_size=0.25, random_state=0)\n",
    "# X_train = X_train[:2]\n",
    "# X_test_val = X_test_val[:2]\n",
    "# y_train = y_train[:2]\n",
    "# y_test_val = y_test_val[:2]"
   ]
  },
  {
   "cell_type": "code",
   "execution_count": 47,
   "metadata": {},
   "outputs": [
    {
     "name": "stdout",
     "output_type": "stream",
     "text": [
      "(26794, 70)\n",
      "(26794,)\n",
      "(8932, 70)\n",
      "(8932,)\n"
     ]
    }
   ],
   "source": [
    "print(X_train.shape)\n",
    "print(y_train.shape)\n",
    "print(X_test_val.shape)\n",
    "print(y_test_val.shape)"
   ]
  },
  {
   "cell_type": "code",
   "execution_count": 58,
   "metadata": {},
   "outputs": [],
   "source": [
    "from keras.layers import Input\n",
    "from keras.layers import Dense\n",
    "from keras.layers import Dropout\n",
    "from keras.models import Model\n",
    "\n",
    "input_layer = Input(shape=(70,))\n",
    "hidden_layer1 = Dense(256, activation='relu')(input_layer)\n",
    "dropout_1 = Dropout(0.6)(hidden_layer1)\n",
    "hidden_layer2 = Dense(256, activation='relu')(dropout_1)\n",
    "dropout_2 = Dropout(0.6)(hidden_layer2)\n",
    "hidden_layer3 = Dense(128, activation='relu')(dropout_2)\n",
    "dropout_3 = Dropout(0.6)(hidden_layer3)\n",
    "hidden_layer4 = Dense(128, activation='relu')(dropout_3)\n",
    "dropout_4 = Dropout(0.6)(hidden_layer4)\n",
    "hidden_layer5 = Dense(128, activation='relu')(dropout_4)\n",
    "output = Dense(5, activation='softmax')(hidden_layer5)\n",
    "model = Model(inputs = input_layer, outputs = output)\n",
    "\n",
    "\n",
    "\n",
    "# model = Sequential()\n",
    "# model.add(Dense(300, input_dim=89, activation='relu'))\n",
    "# model.add(Dropout(0.5))\n",
    "# model.add(Dense(300, activation='relu'))\n",
    "# model.add(Dropout(0.5))\n",
    "# model.add(Dense(300, activation='relu'))\n",
    "# model.add(Dropout(0.5))\n",
    "# model.add(Dense(5, activation='softmax'))"
   ]
  },
  {
   "cell_type": "code",
   "execution_count": 59,
   "metadata": {},
   "outputs": [
    {
     "name": "stdout",
     "output_type": "stream",
     "text": [
      "Model: \"functional_7\"\n",
      "_________________________________________________________________\n",
      "Layer (type)                 Output Shape              Param #   \n",
      "=================================================================\n",
      "input_4 (InputLayer)         [(None, 70)]              0         \n",
      "_________________________________________________________________\n",
      "dense_18 (Dense)             (None, 256)               18176     \n",
      "_________________________________________________________________\n",
      "dropout_12 (Dropout)         (None, 256)               0         \n",
      "_________________________________________________________________\n",
      "dense_19 (Dense)             (None, 256)               65792     \n",
      "_________________________________________________________________\n",
      "dropout_13 (Dropout)         (None, 256)               0         \n",
      "_________________________________________________________________\n",
      "dense_20 (Dense)             (None, 128)               32896     \n",
      "_________________________________________________________________\n",
      "dropout_14 (Dropout)         (None, 128)               0         \n",
      "_________________________________________________________________\n",
      "dense_21 (Dense)             (None, 128)               16512     \n",
      "_________________________________________________________________\n",
      "dropout_15 (Dropout)         (None, 128)               0         \n",
      "_________________________________________________________________\n",
      "dense_22 (Dense)             (None, 128)               16512     \n",
      "_________________________________________________________________\n",
      "dense_23 (Dense)             (None, 5)                 645       \n",
      "=================================================================\n",
      "Total params: 150,533\n",
      "Trainable params: 150,533\n",
      "Non-trainable params: 0\n",
      "_________________________________________________________________\n"
     ]
    }
   ],
   "source": [
    "model.summary()"
   ]
  },
  {
   "cell_type": "code",
   "execution_count": 60,
   "metadata": {
    "scrolled": true
   },
   "outputs": [
    {
     "name": "stdout",
     "output_type": "stream",
     "text": [
      "Epoch 1/100\n",
      "838/838 [==============================] - 3s 3ms/step - loss: 1.2519 - accuracy: 0.4229 - val_loss: 1.1427 - val_accuracy: 0.5130\n",
      "Epoch 2/100\n",
      "838/838 [==============================] - 3s 3ms/step - loss: 1.1226 - accuracy: 0.5079 - val_loss: 1.1035 - val_accuracy: 0.5513\n",
      "Epoch 3/100\n",
      "838/838 [==============================] - 2s 3ms/step - loss: 1.0856 - accuracy: 0.5368 - val_loss: 1.0790 - val_accuracy: 0.5691\n",
      "Epoch 4/100\n",
      "838/838 [==============================] - 2s 3ms/step - loss: 1.0561 - accuracy: 0.5517 - val_loss: 1.0242 - val_accuracy: 0.6000\n",
      "Epoch 5/100\n",
      "838/838 [==============================] - 2s 3ms/step - loss: 1.0368 - accuracy: 0.5636 - val_loss: 1.0384 - val_accuracy: 0.5961\n",
      "Epoch 6/100\n",
      "838/838 [==============================] - 2s 3ms/step - loss: 1.0204 - accuracy: 0.5715 - val_loss: 1.0180 - val_accuracy: 0.6054\n",
      "Epoch 7/100\n",
      "838/838 [==============================] - 2s 3ms/step - loss: 1.0055 - accuracy: 0.5742 - val_loss: 0.9656 - val_accuracy: 0.6126\n",
      "Epoch 8/100\n",
      "838/838 [==============================] - 3s 3ms/step - loss: 1.0001 - accuracy: 0.5820 - val_loss: 0.9905 - val_accuracy: 0.6142 - loss: 1.0000 - accu\n",
      "Epoch 9/100\n",
      "838/838 [==============================] - 2s 3ms/step - loss: 0.9865 - accuracy: 0.5843 - val_loss: 0.9882 - val_accuracy: 0.6161\n",
      "Epoch 10/100\n",
      "838/838 [==============================] - 2s 3ms/step - loss: 0.9885 - accuracy: 0.5876 - val_loss: 0.9748 - val_accuracy: 0.6229cy\n",
      "Epoch 11/100\n",
      "838/838 [==============================] - 2s 3ms/step - loss: 0.9795 - accuracy: 0.5904 - val_loss: 0.9898 - val_accuracy: 0.6083\n",
      "Epoch 12/100\n",
      "838/838 [==============================] - 3s 3ms/step - loss: 0.9758 - accuracy: 0.5909 - val_loss: 0.9485 - val_accuracy: 0.6204\n",
      "Epoch 13/100\n",
      "838/838 [==============================] - 2s 3ms/step - loss: 0.9683 - accuracy: 0.5974 - val_loss: 0.9444 - val_accuracy: 0.6246\n",
      "Epoch 14/100\n",
      "838/838 [==============================] - 2s 3ms/step - loss: 0.9615 - accuracy: 0.5979 - val_loss: 0.9611 - val_accuracy: 0.6134\n",
      "Epoch 15/100\n",
      "838/838 [==============================] - 2s 3ms/step - loss: 0.9584 - accuracy: 0.6008 - val_loss: 0.9646 - val_accuracy: 0.6244\n",
      "Epoch 16/100\n",
      "838/838 [==============================] - 2s 3ms/step - loss: 0.9547 - accuracy: 0.6037 - val_loss: 0.9427 - val_accuracy: 0.6266\n",
      "Epoch 17/100\n",
      "838/838 [==============================] - 2s 3ms/step - loss: 0.9552 - accuracy: 0.6036 - val_loss: 0.9432 - val_accuracy: 0.6324\n",
      "Epoch 18/100\n",
      "838/838 [==============================] - 2s 3ms/step - loss: 0.9517 - accuracy: 0.6056 - val_loss: 0.9340 - val_accuracy: 0.6289\n",
      "Epoch 19/100\n",
      "838/838 [==============================] - 2s 3ms/step - loss: 0.9444 - accuracy: 0.6109 - val_loss: 0.9209 - val_accuracy: 0.6284\n",
      "Epoch 20/100\n",
      "838/838 [==============================] - 2s 3ms/step - loss: 0.9493 - accuracy: 0.6042 - val_loss: 0.9173 - val_accuracy: 0.6368\n",
      "Epoch 21/100\n",
      "838/838 [==============================] - 2s 3ms/step - loss: 0.9421 - accuracy: 0.6092 - val_loss: 0.9340 - val_accuracy: 0.6286\n",
      "Epoch 22/100\n",
      "838/838 [==============================] - 2s 3ms/step - loss: 0.9365 - accuracy: 0.6136 - val_loss: 0.9276 - val_accuracy: 0.6257\n",
      "Epoch 23/100\n",
      "838/838 [==============================] - 2s 3ms/step - loss: 0.9310 - accuracy: 0.6154 - val_loss: 0.9065 - val_accuracy: 0.6408\n",
      "Epoch 24/100\n",
      "838/838 [==============================] - 2s 3ms/step - loss: 0.9332 - accuracy: 0.6123 - val_loss: 0.9129 - val_accuracy: 0.6327\n",
      "Epoch 25/100\n",
      "838/838 [==============================] - 2s 3ms/step - loss: 0.9306 - accuracy: 0.6137 - val_loss: 0.8993 - val_accuracy: 0.6370\n",
      "Epoch 26/100\n",
      "838/838 [==============================] - 2s 3ms/step - loss: 0.9300 - accuracy: 0.6176 - val_loss: 0.9111 - val_accuracy: 0.6423\n",
      "Epoch 27/100\n",
      "838/838 [==============================] - 2s 3ms/step - loss: 0.9308 - accuracy: 0.6182 - val_loss: 0.9075 - val_accuracy: 0.6379\n",
      "Epoch 28/100\n",
      "838/838 [==============================] - 2s 3ms/step - loss: 0.9258 - accuracy: 0.6185 - val_loss: 0.9073 - val_accuracy: 0.6399\n",
      "Epoch 29/100\n",
      "838/838 [==============================] - 2s 3ms/step - loss: 0.9238 - accuracy: 0.6184 - val_loss: 0.9126 - val_accuracy: 0.6377\n",
      "Epoch 30/100\n",
      "838/838 [==============================] - 2s 3ms/step - loss: 0.9239 - accuracy: 0.6170 - val_loss: 0.8899 - val_accuracy: 0.6450\n",
      "Epoch 31/100\n",
      "838/838 [==============================] - 2s 3ms/step - loss: 0.9226 - accuracy: 0.6220 - val_loss: 0.8982 - val_accuracy: 0.6359\n",
      "Epoch 32/100\n",
      "838/838 [==============================] - 3s 3ms/step - loss: 0.9220 - accuracy: 0.6175 - val_loss: 0.8888 - val_accuracy: 0.6426\n",
      "Epoch 33/100\n",
      "838/838 [==============================] - 2s 3ms/step - loss: 0.9125 - accuracy: 0.6247 - val_loss: 0.8868 - val_accuracy: 0.6482\n",
      "Epoch 34/100\n",
      "838/838 [==============================] - 3s 3ms/step - loss: 0.9118 - accuracy: 0.6221 - val_loss: 0.8878 - val_accuracy: 0.6399\n",
      "Epoch 35/100\n",
      "838/838 [==============================] - 3s 3ms/step - loss: 0.9114 - accuracy: 0.6222 - val_loss: 0.8853 - val_accuracy: 0.6384\n",
      "Epoch 36/100\n",
      "838/838 [==============================] - 3s 3ms/step - loss: 0.9165 - accuracy: 0.6204 - val_loss: 0.8892 - val_accuracy: 0.6464\n",
      "Epoch 37/100\n",
      "838/838 [==============================] - 3s 3ms/step - loss: 0.9123 - accuracy: 0.6254 - val_loss: 0.8987 - val_accuracy: 0.6432- accuracy: \n",
      "Epoch 38/100\n",
      "838/838 [==============================] - 3s 3ms/step - loss: 0.9150 - accuracy: 0.6180 - val_loss: 0.9042 - val_accuracy: 0.6422\n",
      "Epoch 39/100\n",
      "838/838 [==============================] - 2s 3ms/step - loss: 0.9057 - accuracy: 0.6268 - val_loss: 0.8969 - val_accuracy: 0.6361\n",
      "Epoch 40/100\n",
      "838/838 [==============================] - 2s 3ms/step - loss: 0.9046 - accuracy: 0.6255 - val_loss: 0.9104 - val_accuracy: 0.6376\n",
      "Epoch 41/100\n",
      "838/838 [==============================] - 2s 3ms/step - loss: 0.9030 - accuracy: 0.6270 - val_loss: 0.8812 - val_accuracy: 0.6429\n",
      "Epoch 42/100\n",
      "838/838 [==============================] - 2s 3ms/step - loss: 0.9037 - accuracy: 0.6274 - val_loss: 0.8903 - val_accuracy: 0.6371\n",
      "Epoch 43/100\n",
      "838/838 [==============================] - 2s 3ms/step - loss: 0.9053 - accuracy: 0.6281 - val_loss: 0.8817 - val_accuracy: 0.6404\n",
      "Epoch 44/100\n",
      "838/838 [==============================] - 2s 3ms/step - loss: 0.9044 - accuracy: 0.6252 - val_loss: 0.8943 - val_accuracy: 0.6410\n",
      "Epoch 45/100\n",
      "838/838 [==============================] - 3s 3ms/step - loss: 0.9042 - accuracy: 0.6251 - val_loss: 0.8878 - val_accuracy: 0.6481\n",
      "Epoch 46/100\n",
      "838/838 [==============================] - 2s 3ms/step - loss: 0.8996 - accuracy: 0.6273 - val_loss: 0.8847 - val_accuracy: 0.6418\n",
      "Epoch 47/100\n",
      "838/838 [==============================] - 2s 3ms/step - loss: 0.8985 - accuracy: 0.6281 - val_loss: 0.8875 - val_accuracy: 0.6406\n",
      "Epoch 48/100\n",
      "838/838 [==============================] - 2s 3ms/step - loss: 0.9041 - accuracy: 0.6276 - val_loss: 0.8951 - val_accuracy: 0.6338\n",
      "Epoch 49/100\n",
      "838/838 [==============================] - 2s 3ms/step - loss: 0.9006 - accuracy: 0.6311 - val_loss: 0.8856 - val_accuracy: 0.6373\n",
      "Epoch 50/100\n",
      "838/838 [==============================] - 2s 3ms/step - loss: 0.8981 - accuracy: 0.6281 - val_loss: 0.8920 - val_accuracy: 0.6489\n",
      "Epoch 51/100\n",
      "838/838 [==============================] - 2s 3ms/step - loss: 0.8986 - accuracy: 0.6302 - val_loss: 0.8899 - val_accuracy: 0.6494\n",
      "Epoch 52/100\n",
      "838/838 [==============================] - 3s 3ms/step - loss: 0.8920 - accuracy: 0.6335 - val_loss: 0.8886 - val_accuracy: 0.6424\n",
      "Epoch 53/100\n",
      "838/838 [==============================] - 2s 3ms/step - loss: 0.8956 - accuracy: 0.6314 - val_loss: 0.8838 - val_accuracy: 0.6496\n",
      "Epoch 54/100\n",
      "838/838 [==============================] - 2s 3ms/step - loss: 0.8941 - accuracy: 0.6297 - val_loss: 0.8861 - val_accuracy: 0.6425\n",
      "Epoch 55/100\n",
      "838/838 [==============================] - 2s 3ms/step - loss: 0.8947 - accuracy: 0.6327 - val_loss: 0.8858 - val_accuracy: 0.6391\n",
      "Epoch 56/100\n",
      "838/838 [==============================] - 3s 3ms/step - loss: 0.8961 - accuracy: 0.6299 - val_loss: 0.8944 - val_accuracy: 0.6365\n",
      "Epoch 57/100\n",
      "838/838 [==============================] - 3s 3ms/step - loss: 0.8947 - accuracy: 0.6310 - val_loss: 0.8841 - val_accuracy: 0.6343\n"
     ]
    },
    {
     "name": "stdout",
     "output_type": "stream",
     "text": [
      "Epoch 58/100\n",
      "838/838 [==============================] - 2s 3ms/step - loss: 0.8941 - accuracy: 0.6325 - val_loss: 0.8870 - val_accuracy: 0.6398\n",
      "Epoch 59/100\n",
      "838/838 [==============================] - 2s 3ms/step - loss: 0.8922 - accuracy: 0.6308 - val_loss: 0.8797 - val_accuracy: 0.6500\n",
      "Epoch 60/100\n",
      "838/838 [==============================] - 2s 3ms/step - loss: 0.8854 - accuracy: 0.6362 - val_loss: 0.8960 - val_accuracy: 0.6388\n",
      "Epoch 61/100\n",
      "838/838 [==============================] - 2s 3ms/step - loss: 0.8922 - accuracy: 0.6341 - val_loss: 0.8863 - val_accuracy: 0.6425\n",
      "Epoch 62/100\n",
      "838/838 [==============================] - 2s 3ms/step - loss: 0.8879 - accuracy: 0.6360 - val_loss: 0.8829 - val_accuracy: 0.6445\n",
      "Epoch 63/100\n",
      "838/838 [==============================] - 2s 3ms/step - loss: 0.8848 - accuracy: 0.6379 - val_loss: 0.8822 - val_accuracy: 0.6411\n",
      "Epoch 64/100\n",
      "838/838 [==============================] - 2s 3ms/step - loss: 0.8905 - accuracy: 0.6328 - val_loss: 0.8857 - val_accuracy: 0.6438\n",
      "Epoch 65/100\n",
      "838/838 [==============================] - 2s 3ms/step - loss: 0.8915 - accuracy: 0.6305 - val_loss: 0.8798 - val_accuracy: 0.6397\n",
      "Epoch 66/100\n",
      "838/838 [==============================] - 2s 3ms/step - loss: 0.8890 - accuracy: 0.6336 - val_loss: 0.8727 - val_accuracy: 0.6442\n",
      "Epoch 67/100\n",
      "838/838 [==============================] - 2s 3ms/step - loss: 0.8845 - accuracy: 0.6351 - val_loss: 0.8796 - val_accuracy: 0.6498\n",
      "Epoch 68/100\n",
      "838/838 [==============================] - 3s 3ms/step - loss: 0.8853 - accuracy: 0.6357 - val_loss: 0.8845 - val_accuracy: 0.6462\n",
      "Epoch 69/100\n",
      "838/838 [==============================] - 3s 3ms/step - loss: 0.8856 - accuracy: 0.6352 - val_loss: 0.8859 - val_accuracy: 0.6460\n",
      "Epoch 70/100\n",
      "838/838 [==============================] - 2s 3ms/step - loss: 0.8840 - accuracy: 0.6351 - val_loss: 0.8760 - val_accuracy: 0.6470\n",
      "Epoch 71/100\n",
      "838/838 [==============================] - 2s 3ms/step - loss: 0.8854 - accuracy: 0.6361 - val_loss: 0.8738 - val_accuracy: 0.6439\n",
      "Epoch 72/100\n",
      "838/838 [==============================] - 2s 3ms/step - loss: 0.8836 - accuracy: 0.6392 - val_loss: 0.8755 - val_accuracy: 0.6438\n",
      "Epoch 73/100\n",
      "838/838 [==============================] - 2s 3ms/step - loss: 0.8844 - accuracy: 0.6350 - val_loss: 0.8763 - val_accuracy: 0.6495\n",
      "Epoch 74/100\n",
      "838/838 [==============================] - 2s 3ms/step - loss: 0.8834 - accuracy: 0.6376 - val_loss: 0.8788 - val_accuracy: 0.6553\n",
      "Epoch 75/100\n",
      "838/838 [==============================] - 2s 3ms/step - loss: 0.8825 - accuracy: 0.6363 - val_loss: 0.8730 - val_accuracy: 0.6477\n",
      "Epoch 76/100\n",
      "838/838 [==============================] - 2s 3ms/step - loss: 0.8840 - accuracy: 0.6390 - val_loss: 0.8672 - val_accuracy: 0.6499\n",
      "Epoch 77/100\n",
      "838/838 [==============================] - 2s 3ms/step - loss: 0.8873 - accuracy: 0.6330 - val_loss: 0.8732 - val_accuracy: 0.6489\n",
      "Epoch 78/100\n",
      "838/838 [==============================] - 2s 3ms/step - loss: 0.8808 - accuracy: 0.6345 - val_loss: 0.8787 - val_accuracy: 0.6421\n",
      "Epoch 79/100\n",
      "838/838 [==============================] - 2s 3ms/step - loss: 0.8782 - accuracy: 0.6363 - val_loss: 0.8641 - val_accuracy: 0.6528\n",
      "Epoch 80/100\n",
      "838/838 [==============================] - 3s 3ms/step - loss: 0.8848 - accuracy: 0.6367 - val_loss: 0.8681 - val_accuracy: 0.6527\n",
      "Epoch 81/100\n",
      "838/838 [==============================] - 3s 3ms/step - loss: 0.8755 - accuracy: 0.6417 - val_loss: 0.8680 - val_accuracy: 0.6476 loss: 0.8817 - accuracy: 0.63 - ETA: 0s\n",
      "Epoch 82/100\n",
      "838/838 [==============================] - 3s 3ms/step - loss: 0.8815 - accuracy: 0.6372 - val_loss: 0.8733 - val_accuracy: 0.6425\n",
      "Epoch 83/100\n",
      "838/838 [==============================] - 3s 3ms/step - loss: 0.8768 - accuracy: 0.6370 - val_loss: 0.8884 - val_accuracy: 0.6404\n",
      "Epoch 84/100\n",
      "838/838 [==============================] - 3s 3ms/step - loss: 0.8793 - accuracy: 0.6377 - val_loss: 0.8706 - val_accuracy: 0.6502\n",
      "Epoch 85/100\n",
      "838/838 [==============================] - 3s 3ms/step - loss: 0.8747 - accuracy: 0.6418 - val_loss: 0.8719 - val_accuracy: 0.6479\n",
      "Epoch 86/100\n",
      "838/838 [==============================] - 3s 3ms/step - loss: 0.8806 - accuracy: 0.6376 - val_loss: 0.8702 - val_accuracy: 0.6464\n",
      "Epoch 87/100\n",
      "838/838 [==============================] - 2s 3ms/step - loss: 0.8743 - accuracy: 0.6431 - val_loss: 0.8664 - val_accuracy: 0.6541\n",
      "Epoch 88/100\n",
      "838/838 [==============================] - 3s 3ms/step - loss: 0.8772 - accuracy: 0.6396 - val_loss: 0.8728 - val_accuracy: 0.6505\n",
      "Epoch 89/100\n",
      "838/838 [==============================] - 2s 3ms/step - loss: 0.8749 - accuracy: 0.6392 - val_loss: 0.8662 - val_accuracy: 0.6499\n",
      "Epoch 90/100\n",
      "838/838 [==============================] - 3s 3ms/step - loss: 0.8738 - accuracy: 0.6440 - val_loss: 0.8834 - val_accuracy: 0.6404\n",
      "Epoch 91/100\n",
      "838/838 [==============================] - 3s 3ms/step - loss: 0.8778 - accuracy: 0.6396 - val_loss: 0.8605 - val_accuracy: 0.6547\n",
      "Epoch 92/100\n",
      "838/838 [==============================] - 2s 3ms/step - loss: 0.8744 - accuracy: 0.6440 - val_loss: 0.8736 - val_accuracy: 0.6495\n",
      "Epoch 93/100\n",
      "838/838 [==============================] - 3s 3ms/step - loss: 0.8703 - accuracy: 0.6430 - val_loss: 0.8715 - val_accuracy: 0.6473\n",
      "Epoch 94/100\n",
      "838/838 [==============================] - 3s 3ms/step - loss: 0.8750 - accuracy: 0.6406 - val_loss: 0.8804 - val_accuracy: 0.6451\n",
      "Epoch 95/100\n",
      "838/838 [==============================] - 3s 3ms/step - loss: 0.8704 - accuracy: 0.6429 - val_loss: 0.8729 - val_accuracy: 0.6515\n",
      "Epoch 96/100\n",
      "838/838 [==============================] - 3s 3ms/step - loss: 0.8744 - accuracy: 0.6430 - val_loss: 0.8647 - val_accuracy: 0.6479\n",
      "Epoch 97/100\n",
      "838/838 [==============================] - 3s 3ms/step - loss: 0.8749 - accuracy: 0.6400 - val_loss: 0.8754 - val_accuracy: 0.6496\n",
      "Epoch 98/100\n",
      "838/838 [==============================] - 3s 3ms/step - loss: 0.8736 - accuracy: 0.6427 - val_loss: 0.8710 - val_accuracy: 0.6515\n",
      "Epoch 99/100\n",
      "838/838 [==============================] - 3s 3ms/step - loss: 0.8733 - accuracy: 0.6408 - val_loss: 0.8739 - val_accuracy: 0.6432\n",
      "Epoch 100/100\n",
      "838/838 [==============================] - 3s 3ms/step - loss: 0.8681 - accuracy: 0.6411 - val_loss: 0.8652 - val_accuracy: 0.6494\n"
     ]
    }
   ],
   "source": [
    "model.compile(optimizer='adam', loss='sparse_categorical_crossentropy', metrics=['accuracy'])\n",
    "history = model.fit(X_train, y_train, validation_data = (X_test_val, y_test_val), epochs=100)"
   ]
  },
  {
   "cell_type": "code",
   "execution_count": 61,
   "metadata": {},
   "outputs": [
    {
     "name": "stdout",
     "output_type": "stream",
     "text": [
      "Train: 0.680, Validation: 0.649\n"
     ]
    },
    {
     "data": {
      "text/plain": [
       "<matplotlib.legend.Legend at 0x1d9b6eb17c0>"
      ]
     },
     "execution_count": 61,
     "metadata": {},
     "output_type": "execute_result"
    },
    {
     "data": {
      "image/png": "[encoded data removed]",
      "text/plain": [
       "<Figure size 432x288 with 1 Axes>"
      ]
     },
     "metadata": {
      "needs_background": "light"
     },
     "output_type": "display_data"
    }
   ],
   "source": [
    "from sklearn.model_selection import GridSearchCV\n",
    "from keras.wrappers.scikit_learn import KerasClassifier\n",
    "# model.predict(X_test_val)\n",
    "# model.evaluate(X_test_val, y_test_val)\n",
    "\n",
    "# evaluate the model\n",
    "_, train_acc = model.evaluate(X_train, y_train, verbose=0)\n",
    "_, test_acc = model.evaluate(X_test_val, y_test_val, verbose=0)\n",
    "print('Train: %.3f, Validation: %.3f' % (train_acc, test_acc))\n",
    "# plot loss during training\n",
    "plt.subplot(211)\n",
    "plt.title('Loss of Neural Network')\n",
    "plt.plot(history.history['loss'], label='train')\n",
    "plt.plot(history.history['val_loss'], label='test')\n",
    "plt.xlabel(\"Epochs\")\n",
    "plt.ylabel(\"Loss\")\n",
    "plt.legend()\n"
   ]
  },
  {
   "cell_type": "code",
   "execution_count": 62,
   "metadata": {},
   "outputs": [
    {
     "data": {
      "image/png": "[encoded data removed]",
      "text/plain": [
       "<Figure size 432x288 with 1 Axes>"
      ]
     },
     "metadata": {
      "needs_background": "light"
     },
     "output_type": "display_data"
    }
   ],
   "source": [
    "# plot accuracy during training\n",
    "plt.subplot(212)\n",
    "plt.title('Accuracy of Neural Network')\n",
    "plt.plot(history.history['accuracy'], label='train')\n",
    "plt.plot(history.history['val_accuracy'], label='test')\n",
    "plt.xlabel(\"Epochs\")\n",
    "plt.ylabel(\"Accuracy\")\n",
    "plt.legend()\n",
    "plt.show()\n",
    "\n"
   ]
  },
  {
   "cell_type": "code",
   "execution_count": 63,
   "metadata": {},
   "outputs": [
    {
     "name": "stdout",
     "output_type": "stream",
     "text": [
      "140/140 [==============================] - 0s 1ms/step\n",
      "              precision    recall  f1-score   support\n",
      "\n",
      "           1       0.76      0.78      0.77      3078\n",
      "           2       0.63      0.24      0.35      1380\n",
      "           3       0.50      0.69      0.58      2178\n",
      "           4       0.70      0.68      0.69      2296\n",
      "\n",
      "    accuracy                           0.65      8932\n",
      "   macro avg       0.65      0.60      0.60      8932\n",
      "weighted avg       0.66      0.65      0.64      8932\n",
      "\n",
      "Confusion matrix, without normalization\n",
      "[[2402  139  392  145]\n",
      " [ 463  334  495   88]\n",
      " [ 192   56 1499  431]\n",
      " [ 113    2  616 1565]]\n"
     ]
    },
    {
     "data": {
      "image/png": "[encoded data removed]",
      "text/plain": [
       "<Figure size 432x288 with 2 Axes>"
      ]
     },
     "metadata": {
      "needs_background": "light"
     },
     "output_type": "display_data"
    }
   ],
   "source": [
    "from sklearn.metrics import classification_report\n",
    "\n",
    "y_pred = model.predict(X_test_val, batch_size=64, verbose=1)\n",
    "y_pred_bool = np.argmax(y_pred, axis=1)\n",
    "\n",
    "print(classification_report(y_test_val, y_pred_bool))\n",
    "\n",
    "from sklearn.metrics import plot_confusion_matrix\n",
    "from sklearn.metrics import confusion_matrix\n",
    "\n",
    "%matplotlib inline\n",
    "from sklearn.metrics import confusion_matrix\n",
    "import itertools\n",
    "import matplotlib.pyplot as plt\n",
    "\n",
    "cm = confusion_matrix(y_true=y_test_val, y_pred=y_pred_bool)\n",
    "\n",
    "def plot_confusion_matrix(cm, classes,\n",
    "                        normalize=False,\n",
    "                        title='Confusion matrix',\n",
    "                        cmap=plt.cm.Blues):\n",
    "    \"\"\"\n",
    "    This function prints and plots the confusion matrix.\n",
    "    Normalization can be applied by setting `normalize=True`.\n",
    "    \"\"\"\n",
    "    plt.imshow(cm, interpolation='nearest', cmap=cmap)\n",
    "    plt.title(title)\n",
    "    plt.colorbar()\n",
    "    tick_marks = np.arange(len(classes))\n",
    "    plt.xticks(tick_marks, classes, rotation=45)\n",
    "    plt.yticks(tick_marks, classes)\n",
    "\n",
    "    if normalize:\n",
    "        cm = cm.astype('float') / cm.sum(axis=1)[:, np.newaxis]\n",
    "        print(\"Normalized confusion matrix\")\n",
    "    else:\n",
    "        print('Confusion matrix, without normalization')\n",
    "\n",
    "    print(cm)\n",
    "\n",
    "    thresh = cm.max() / 2.\n",
    "    for i, j in itertools.product(range(cm.shape[0]), range(cm.shape[1])):\n",
    "        plt.text(j, i, cm[i, j],\n",
    "            horizontalalignment=\"center\",\n",
    "            color=\"white\" if cm[i, j] > thresh else \"black\")\n",
    "\n",
    "    plt.tight_layout()\n",
    "    plt.ylabel('True label')\n",
    "    plt.xlabel('Predicted label')\n",
    "    \n",
    "\n",
    "def plot_confusion_matrix(cm, classes,\n",
    "                        normalize=False,\n",
    "                        title='Confusion matrix',\n",
    "                        cmap=plt.cm.Blues):\n",
    "    \"\"\"\n",
    "    This function prints and plots the confusion matrix.\n",
    "    Normalization can be applied by setting `normalize=True`.\n",
    "    \"\"\"\n",
    "    plt.imshow(cm, interpolation='nearest', cmap=cmap)\n",
    "    plt.title(title)\n",
    "    plt.colorbar()\n",
    "    tick_marks = np.arange(len(classes))\n",
    "    plt.xticks(tick_marks, classes, rotation=45)\n",
    "    plt.yticks(tick_marks, classes)\n",
    "\n",
    "    if normalize:\n",
    "        cm = cm.astype('float') / cm.sum(axis=1)[:, np.newaxis]\n",
    "        print(\"Normalized confusion matrix\")\n",
    "    else:\n",
    "        print('Confusion matrix, without normalization')\n",
    "\n",
    "    print(cm)\n",
    "\n",
    "    thresh = cm.max() / 2.\n",
    "    for i, j in itertools.product(range(cm.shape[0]), range(cm.shape[1])):\n",
    "        plt.text(j, i, cm[i, j],\n",
    "            horizontalalignment=\"center\",\n",
    "            color=\"white\" if cm[i, j] > thresh else \"black\")\n",
    "\n",
    "    plt.tight_layout()\n",
    "    plt.ylabel('True label')\n",
    "    plt.xlabel('Predicted label')\n",
    "\n",
    "labels=['Food Secure', 'Mildly Food Insecure', 'Moderately Food Insecure', 'Severely Food Insecure']\n",
    "\n",
    "plot_confusion_matrix(cm=cm, classes=labels, title='Confusion Matrix')\n",
    "plt.savefig('NN.png',format='png',bbox_inches = \"tight\")\n",
    "\n"
   ]
  },
  {
   "cell_type": "code",
   "execution_count": 329,
   "metadata": {},
   "outputs": [
    {
     "name": "stdout",
     "output_type": "stream",
     "text": [
      "Accuracy: 0.338\n"
     ]
    }
   ],
   "source": [
    "from sklearn.dummy import DummyClassifier\n",
    "from sklearn.metrics import accuracy_score\n",
    "model = DummyClassifier(strategy='most_frequent')\n",
    "# fit model\n",
    "model.fit(X_train, y_train)\n",
    "# make predictions\n",
    "yhat = model.predict(X_test_val)\n",
    "# calculate accuracy\n",
    "accuracy = accuracy_score(y_test_val, yhat)\n",
    "print('Accuracy: %.3f' % accuracy)"
   ]
  },
  {
   "cell_type": "code",
   "execution_count": 521,
   "metadata": {},
   "outputs": [
    {
     "name": "stderr",
     "output_type": "stream",
     "text": [
      "C:\\Users\\Asus\\Anaconda3\\lib\\site-packages\\sklearn\\neural_network\\multilayer_perceptron.py:566: ConvergenceWarning: Stochastic Optimizer: Maximum iterations (200) reached and the optimization hasn't converged yet.\n",
      "  % self.max_iter, ConvergenceWarning)\n"
     ]
    },
    {
     "data": {
      "text/plain": [
       "0.6358038513210927"
      ]
     },
     "execution_count": 521,
     "metadata": {},
     "output_type": "execute_result"
    }
   ],
   "source": [
    "from sklearn.multiclass import OneVsRestClassifier\n",
    "from sklearn.neural_network import MLPClassifier\n",
    "classifier = MLPClassifier(hidden_layer_sizes = 100).fit(X_train, y_train)\n",
    "score = classifier.score(X_test_val, y_test_val)\n",
    "score"
   ]
  },
  {
   "cell_type": "code",
   "execution_count": 522,
   "metadata": {},
   "outputs": [
    {
     "name": "stdout",
     "output_type": "stream",
     "text": [
      "              precision    recall  f1-score   support\n",
      "\n",
      "           1       0.69      0.81      0.74      3019\n",
      "           2       0.50      0.41      0.45      1403\n",
      "           3       0.60      0.52      0.56      2264\n",
      "           4       0.65      0.66      0.66      2246\n",
      "\n",
      "    accuracy                           0.64      8932\n",
      "   macro avg       0.61      0.60      0.60      8932\n",
      "weighted avg       0.63      0.64      0.63      8932\n",
      "\n"
     ]
    }
   ],
   "source": [
    "y_pred = classifier.predict(X_test_val)\n",
    "\n",
    "print(classification_report(y_test_val, y_pred))"
   ]
  },
  {
   "cell_type": "code",
   "execution_count": 574,
   "metadata": {},
   "outputs": [
    {
     "name": "stderr",
     "output_type": "stream",
     "text": [
      "C:\\Users\\Asus\\Anaconda3\\lib\\site-packages\\sklearn\\ensemble\\forest.py:245: FutureWarning: The default value of n_estimators will change from 10 in version 0.20 to 100 in 0.22.\n",
      "  \"10 in version 0.20 to 100 in 0.22.\", FutureWarning)\n"
     ]
    },
    {
     "name": "stdout",
     "output_type": "stream",
     "text": [
      "0.6553963278101209\n",
      "              precision    recall  f1-score   support\n",
      "\n",
      "           1       0.69      0.82      0.75      2831\n",
      "           2       0.62      0.42      0.50      1520\n",
      "           3       0.61      0.56      0.59      2353\n",
      "           4       0.66      0.70      0.68      2228\n",
      "\n",
      "    accuracy                           0.66      8932\n",
      "   macro avg       0.65      0.63      0.63      8932\n",
      "weighted avg       0.65      0.66      0.65      8932\n",
      "\n"
     ]
    }
   ],
   "source": [
    "from sklearn.ensemble import RandomForestClassifier\n",
    "classifier1 = RandomForestClassifier().fit(X_train, y_train)\n",
    "score1 = classifier1.score(X_test_val, y_test_val)\n",
    "print(score1)\n",
    "\n",
    "y_pred1 = classifier1.predict(X_test_val)\n",
    "\n",
    "print(classification_report(y_test_val, y_pred1))"
   ]
  },
  {
   "cell_type": "code",
   "execution_count": 573,
   "metadata": {},
   "outputs": [
    {
     "name": "stderr",
     "output_type": "stream",
     "text": [
      "C:\\Users\\Asus\\Anaconda3\\lib\\site-packages\\sklearn\\ensemble\\forest.py:245: FutureWarning: The default value of n_estimators will change from 10 in version 0.20 to 100 in 0.22.\n",
      "  \"10 in version 0.20 to 100 in 0.22.\", FutureWarning)\n"
     ]
    },
    {
     "name": "stdout",
     "output_type": "stream",
     "text": [
      "0.6510300044782803\n",
      "              precision    recall  f1-score   support\n",
      "\n",
      "           1       0.70      0.82      0.76      2831\n",
      "           2       0.62      0.44      0.51      1520\n",
      "           3       0.61      0.57      0.59      2353\n",
      "           4       0.67      0.70      0.68      2228\n",
      "\n",
      "    accuracy                           0.66      8932\n",
      "   macro avg       0.65      0.63      0.64      8932\n",
      "weighted avg       0.65      0.66      0.65      8932\n",
      "\n"
     ]
    }
   ],
   "source": [
    "classifier2 = ExtraTreesClassifier().fit(X_train, y_train)\n",
    "score2 = classifier2.score(X_test_val, y_test_val)\n",
    "print(score1)\n",
    "\n",
    "y_pred2 = classifier2.predict(X_test_val)\n",
    "\n",
    "print(classification_report(y_test_val, y_pred2))"
   ]
  },
  {
   "cell_type": "code",
   "execution_count": null,
   "metadata": {
    "scrolled": false
   },
   "outputs": [],
   "source": []
  },
  {
   "cell_type": "code",
   "execution_count": null,
   "metadata": {},
   "outputs": [],
   "source": []
  },
  {
   "cell_type": "code",
   "execution_count": null,
   "metadata": {},
   "outputs": [],
   "source": []
  },
  {
   "cell_type": "code",
   "execution_count": null,
   "metadata": {},
   "outputs": [],
   "source": []
  },
  {
   "cell_type": "code",
   "execution_count": null,
   "metadata": {},
   "outputs": [],
   "source": []
  }
 ],
 "metadata": {
  "kernelspec": {
   "display_name": "Python 3",
   "language": "python",
   "name": "python3"
  },
  "language_info": {
   "codemirror_mode": {
    "name": "ipython",
    "version": 3
   },
   "file_extension": ".py",
   "mimetype": "text/x-python",
   "name": "python",
   "nbconvert_exporter": "python",
   "pygments_lexer": "ipython3",
   "version": "3.8.5"
  }
 },
 "nbformat": 4,
 "nbformat_minor": 2
}
