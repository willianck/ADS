{
 "cells": [
  {
   "cell_type": "code",
   "execution_count": 1,
   "metadata": {},
   "outputs": [
    {
     "name": "stderr",
     "output_type": "stream",
     "text": [
      "C:\\Users\\Asus\\Anaconda3\\lib\\site-packages\\sklearn\\linear_model\\least_angle.py:30: DeprecationWarning: `np.float` is a deprecated alias for the builtin `float`. To silence this warning, use `float` by itself. Doing this will not modify any behavior and is safe. If you specifically wanted the numpy scalar type, use `np.float64` here.\n",
      "Deprecated in NumPy 1.20; for more details and guidance: https://numpy.org/devdocs/release/1.20.0-notes.html#deprecations\n",
      "  method='lar', copy_X=True, eps=np.finfo(np.float).eps,\n",
      "C:\\Users\\Asus\\Anaconda3\\lib\\site-packages\\sklearn\\linear_model\\least_angle.py:167: DeprecationWarning: `np.float` is a deprecated alias for the builtin `float`. To silence this warning, use `float` by itself. Doing this will not modify any behavior and is safe. If you specifically wanted the numpy scalar type, use `np.float64` here.\n",
      "Deprecated in NumPy 1.20; for more details and guidance: https://numpy.org/devdocs/release/1.20.0-notes.html#deprecations\n",
      "  method='lar', copy_X=True, eps=np.finfo(np.float).eps,\n",
      "C:\\Users\\Asus\\Anaconda3\\lib\\site-packages\\sklearn\\linear_model\\least_angle.py:284: DeprecationWarning: `np.float` is a deprecated alias for the builtin `float`. To silence this warning, use `float` by itself. Doing this will not modify any behavior and is safe. If you specifically wanted the numpy scalar type, use `np.float64` here.\n",
      "Deprecated in NumPy 1.20; for more details and guidance: https://numpy.org/devdocs/release/1.20.0-notes.html#deprecations\n",
      "  eps=np.finfo(np.float).eps, copy_Gram=True, verbose=0,\n",
      "C:\\Users\\Asus\\Anaconda3\\lib\\site-packages\\sklearn\\linear_model\\least_angle.py:862: DeprecationWarning: `np.float` is a deprecated alias for the builtin `float`. To silence this warning, use `float` by itself. Doing this will not modify any behavior and is safe. If you specifically wanted the numpy scalar type, use `np.float64` here.\n",
      "Deprecated in NumPy 1.20; for more details and guidance: https://numpy.org/devdocs/release/1.20.0-notes.html#deprecations\n",
      "  eps=np.finfo(np.float).eps, copy_X=True, fit_path=True,\n",
      "C:\\Users\\Asus\\Anaconda3\\lib\\site-packages\\sklearn\\linear_model\\least_angle.py:1101: DeprecationWarning: `np.float` is a deprecated alias for the builtin `float`. To silence this warning, use `float` by itself. Doing this will not modify any behavior and is safe. If you specifically wanted the numpy scalar type, use `np.float64` here.\n",
      "Deprecated in NumPy 1.20; for more details and guidance: https://numpy.org/devdocs/release/1.20.0-notes.html#deprecations\n",
      "  eps=np.finfo(np.float).eps, copy_X=True, fit_path=True,\n",
      "C:\\Users\\Asus\\Anaconda3\\lib\\site-packages\\sklearn\\linear_model\\least_angle.py:1127: DeprecationWarning: `np.float` is a deprecated alias for the builtin `float`. To silence this warning, use `float` by itself. Doing this will not modify any behavior and is safe. If you specifically wanted the numpy scalar type, use `np.float64` here.\n",
      "Deprecated in NumPy 1.20; for more details and guidance: https://numpy.org/devdocs/release/1.20.0-notes.html#deprecations\n",
      "  eps=np.finfo(np.float).eps, positive=False):\n",
      "C:\\Users\\Asus\\Anaconda3\\lib\\site-packages\\sklearn\\linear_model\\least_angle.py:1362: DeprecationWarning: `np.float` is a deprecated alias for the builtin `float`. To silence this warning, use `float` by itself. Doing this will not modify any behavior and is safe. If you specifically wanted the numpy scalar type, use `np.float64` here.\n",
      "Deprecated in NumPy 1.20; for more details and guidance: https://numpy.org/devdocs/release/1.20.0-notes.html#deprecations\n",
      "  max_n_alphas=1000, n_jobs=None, eps=np.finfo(np.float).eps,\n",
      "C:\\Users\\Asus\\Anaconda3\\lib\\site-packages\\sklearn\\linear_model\\least_angle.py:1602: DeprecationWarning: `np.float` is a deprecated alias for the builtin `float`. To silence this warning, use `float` by itself. Doing this will not modify any behavior and is safe. If you specifically wanted the numpy scalar type, use `np.float64` here.\n",
      "Deprecated in NumPy 1.20; for more details and guidance: https://numpy.org/devdocs/release/1.20.0-notes.html#deprecations\n",
      "  max_n_alphas=1000, n_jobs=None, eps=np.finfo(np.float).eps,\n",
      "C:\\Users\\Asus\\Anaconda3\\lib\\site-packages\\sklearn\\linear_model\\least_angle.py:1738: DeprecationWarning: `np.float` is a deprecated alias for the builtin `float`. To silence this warning, use `float` by itself. Doing this will not modify any behavior and is safe. If you specifically wanted the numpy scalar type, use `np.float64` here.\n",
      "Deprecated in NumPy 1.20; for more details and guidance: https://numpy.org/devdocs/release/1.20.0-notes.html#deprecations\n",
      "  eps=np.finfo(np.float).eps, copy_X=True, positive=False):\n",
      "C:\\Users\\Asus\\Anaconda3\\lib\\site-packages\\sklearn\\decomposition\\online_lda.py:29: DeprecationWarning: `np.float` is a deprecated alias for the builtin `float`. To silence this warning, use `float` by itself. Doing this will not modify any behavior and is safe. If you specifically wanted the numpy scalar type, use `np.float64` here.\n",
      "Deprecated in NumPy 1.20; for more details and guidance: https://numpy.org/devdocs/release/1.20.0-notes.html#deprecations\n",
      "  EPS = np.finfo(np.float).eps\n",
      "C:\\Users\\Asus\\Anaconda3\\lib\\site-packages\\sklearn\\ensemble\\gradient_boosting.py:32: DeprecationWarning: `np.bool` is a deprecated alias for the builtin `bool`. To silence this warning, use `bool` by itself. Doing this will not modify any behavior and is safe. If you specifically wanted the numpy scalar type, use `np.bool_` here.\n",
      "Deprecated in NumPy 1.20; for more details and guidance: https://numpy.org/devdocs/release/1.20.0-notes.html#deprecations\n",
      "  from ._gradient_boosting import predict_stages\n",
      "C:\\Users\\Asus\\Anaconda3\\lib\\site-packages\\sklearn\\ensemble\\gradient_boosting.py:32: DeprecationWarning: `np.bool` is a deprecated alias for the builtin `bool`. To silence this warning, use `bool` by itself. Doing this will not modify any behavior and is safe. If you specifically wanted the numpy scalar type, use `np.bool_` here.\n",
      "Deprecated in NumPy 1.20; for more details and guidance: https://numpy.org/devdocs/release/1.20.0-notes.html#deprecations\n",
      "  from ._gradient_boosting import predict_stages\n",
      "C:\\Users\\Asus\\Anaconda3\\lib\\site-packages\\sklearn\\feature_extraction\\image.py:167: DeprecationWarning: `np.int` is a deprecated alias for the builtin `int`. To silence this warning, use `int` by itself. Doing this will not modify any behavior and is safe. When replacing `np.int`, you may wish to use e.g. `np.int64` or `np.int32` to specify the precision. If you wish to review your current use, check the release note link for additional information.\n",
      "Deprecated in NumPy 1.20; for more details and guidance: https://numpy.org/devdocs/release/1.20.0-notes.html#deprecations\n",
      "  dtype=np.int):\n"
     ]
    }
   ],
   "source": [
    "import pandas as pd\n",
    "import numpy as np\n",
    "import tensorflow as tf\n",
    "from tensorflow import keras\n",
    "from tensorflow.keras import layers\n",
    "from sklearn.model_selection import train_test_split\n",
    "import seaborn as sns\n",
    "import matplotlib\n",
    "import matplotlib.pyplot as plt\n",
    "\n",
    "\n",
    "from sklearn.cluster import KMeans\n",
    "import pandas as pd\n",
    "import pickle\n",
    "import string\n",
    "import re\n",
    "import string\n",
    "from sklearn.model_selection import cross_validate as cross_validation, ShuffleSplit, cross_val_score, train_test_split, KFold\n",
    "from sklearn.model_selection import GridSearchCV, RandomizedSearchCV\n",
    "from sklearn.metrics import classification_report, accuracy_score, auc\n",
    "import numpy as np\n",
    "import matplotlib.pyplot as plt\n",
    "import seaborn as sns\n",
    "from pathlib import Path\n",
    "from sklearn.svm import *\n",
    "# from sklearn.tree import *\n",
    "from sklearn.neural_network import *\n",
    "from sklearn.linear_model import *\n",
    "from sklearn.ensemble import ExtraTreesClassifier\n",
    "from sklearn.preprocessing import OneHotEncoder\n",
    "from sklearn.experimental import enable_iterative_imputer\n",
    "from sklearn.linear_model import *\n",
    "from sklearn.tree import *\n",
    "from sklearn.ensemble import *\n",
    "from sklearn.ensemble import RandomForestClassifier\n",
    "from sklearn.neighbors import *\n",
    "from sklearn.impute import IterativeImputer\n",
    "from sklearn.naive_bayes import *\n",
    "import pickle\n",
    "from sklearn.svm import SVC\n",
    "from sklearn.preprocessing import StandardScaler\n",
    "from sklearn.datasets import make_classification\n",
    "from sklearn.model_selection import train_test_split\n",
    "from sklearn.pipeline import Pipeline"
   ]
  },
  {
   "cell_type": "code",
   "execution_count": 2,
   "metadata": {},
   "outputs": [
    {
     "name": "stdout",
     "output_type": "stream",
     "text": [
      "['ITERATION', 'GPS_LAT', 'GPS_LON', 'GPS_ALT', 'HHsizemembers', 'LandCultivated', 'LivestockHoldings', 'NrofMonthsFoodInsecure', 'PPI_Threshold', 'PPI_Likelihood', 'score_HDDS_GoodSeason', 'score_HDDS_farmbasedGoodSeason', 'score_HDDS_purchasedGoodSeason', 'score_HDDS_BadSeason', 'score_HDDS_farmbasedBadSeason', 'score_HDDS_purchasedBadSeason', 'total_income_USD_PPP_pHH_Yr', 'offfarm_income_USD_PPP_pHH_Yr', 'value_farm_produce_USD_PPP_pHH_Yr', 'crop_sales_USD_PPP_pHH_Yr', 'value_crop_consumed_USD_PPP_pHH_Yr', 'value_livestock_production_USD_PPP_pHH_Yr', 'value_livestock_prod_consumed_USD_PPP_pHH_Yr', 'Market_Orientation', 'Livestock_Orientation', 'Food_Availability_kCal_MAE_day', 'Food_Self_Sufficiency_kCal_MAE_day', 'NrofMonthsWildFoodCons', 'GHGEmissions', 'Gender_MaleControl', 'Gender_FemaleControl', 'NFertInput', 'Food_InsecurityLevel', 'sinBestFoodSecMonth', 'cosBestFoodSecMonth', 'sinWorstFoodSecMonth', 'cosWorstFoodSecMonth', 'Head_EducationLevel_<Other>', 'Head_EducationLevel_<illiterate>', 'Head_EducationLevel_<literate>', 'Head_EducationLevel_<no_school>', 'Head_EducationLevel_<postsecondary>', 'Head_EducationLevel_<primary>', 'Head_EducationLevel_<secondary>', 'HouseholdType_<childhead>', 'HouseholdType_<couple>', 'HouseholdType_<couple_man_works_away>', 'HouseholdType_<couple_polygamous>', 'HouseholdType_<couple_woman_works_away>', 'HouseholdType_<man_single>', 'HouseholdType_<nonparenthead>', 'HouseholdType_<other>', 'HouseholdType_<polygamous>', 'HouseholdType_<single>', 'HouseholdType_<together>', 'HouseholdType_<woman_single>', 'HouseholdType_<workaway>', 'Country_<Bolivia>', 'Country_<Burkina_Faso>', 'Country_<Burundi>', 'Country_<Cambodia>', 'Country_<Comoros>', 'Country_<Costa_Rica>', \"Country_<Cote d'Ivoire>\", 'Country_<DRC>', 'Country_<Ecuador>', 'Country_<El_Salvador>', 'Country_<Ethiopia>', 'Country_<Ghana>', 'Country_<Guatemala>', 'Country_<Honduras>', 'Country_<India>', 'Country_<Kenya>', 'Country_<LaoPDR>', 'Country_<Malawi>', 'Country_<Mali>', 'Country_<Morocco>', 'Country_<Nicaragua>', 'Country_<Niger>', 'Country_<Nigeria>', 'Country_<Palestine>', 'Country_<Peru>', 'Country_<Rwanda>', 'Country_<Senegal>', 'Country_<Sierra Leone>', 'Country_<South Africa>', 'Country_<Tanzania>', 'Country_<Uganda>', 'Country_<Vietnam>', 'Country_<Zambia>']\n"
     ]
    },
    {
     "data": {
      "text/plain": [
       "(35728, 90)"
      ]
     },
     "execution_count": 2,
     "metadata": {},
     "output_type": "execute_result"
    }
   ],
   "source": [
    "data = pd.read_pickle('imputed_data_forest_corr.pkl')\n",
    "print(list(data.columns))\n",
    "data.shape"
   ]
  },
  {
   "cell_type": "code",
   "execution_count": 3,
   "metadata": {},
   "outputs": [
    {
     "name": "stdout",
     "output_type": "stream",
     "text": [
      "0        3\n",
      "1        4\n",
      "2        4\n",
      "3        2\n",
      "4        4\n",
      "        ..\n",
      "35723    1\n",
      "35724    1\n",
      "35725    1\n",
      "35726    1\n",
      "35727    1\n",
      "Name: Food_InsecurityLevel, Length: 35728, dtype: int32\n",
      "(35728, 70)\n"
     ]
    },
    {
     "data": {
      "text/plain": [
       "(35728,)"
      ]
     },
     "execution_count": 3,
     "metadata": {},
     "output_type": "execute_result"
    }
   ],
   "source": [
    "X = data.drop(['Food_InsecurityLevel'],axis=1)\n",
    "y = data['Food_InsecurityLevel']\n",
    "print(y)\n",
    "\n",
    "from sklearn.feature_selection import f_classif\n",
    "from sklearn.feature_selection import SelectKBest\n",
    "from sklearn.feature_selection import f_regression\n",
    "from sklearn.feature_selection import mutual_info_classif\n",
    "from sklearn.feature_selection import SelectFromModel\n",
    "from sklearn.svm import LinearSVC\n",
    "from sklearn.ensemble import ExtraTreesClassifier\n",
    "from sklearn.feature_selection import SelectFromModel\n",
    "from sklearn.ensemble import RandomForestClassifier\n",
    "from sklearn.ensemble import AdaBoostClassifier\n",
    "from sklearn.ensemble import GradientBoostingClassifier\n",
    "from sklearn.feature_selection import SelectFromModel\n",
    "\n",
    "# from sklearn.preprocessing import StandardScaler\n",
    "# scaler = StandardScaler()\n",
    "# X_new2 = scaler.fit_transform(X_new)\n",
    "# X_new2\n",
    "\n",
    "from sklearn.preprocessing import MinMaxScaler\n",
    "scaler = MinMaxScaler()\n",
    "X_new = scaler.fit_transform(X)\n",
    "\n",
    "fs_ = SelectKBest(score_func=mutual_info_classif, k=70)\n",
    "fs_.fit(X_new, y)\n",
    "mi_support = fs_.get_support()\n",
    "X_new1 = fs_.transform(X_new)\n",
    "\n",
    "# clf = ExtraTreesClassifier(n_estimators=60)\n",
    "# clf = clf.fit(X, y)\n",
    "# clf.feature_importances_  \n",
    "# model = SelectFromModel(clf, prefit=True)\n",
    "\n",
    "# lsvc = LinearSVC(C=0.01, penalty=\"l1\", dual=False).fit(X_new, y)\n",
    "# model = SelectFromModel(lsvc, prefit=True)\n",
    "# X_new1 = model.transform(X_new)\n",
    "\n",
    "# transformer = SelectFromModel(estimator=AdaBoostClassifier()).fit(X_new, y)\n",
    "# X_new1 = transformer.transform(X_new)\n",
    "\n",
    "# from keras.utils import to_categorical\n",
    "# y = to_categorical(y)\n",
    "# y = y[:,[1,2,3,4]]\n",
    "print(X_new1.shape)\n",
    "y.shape"
   ]
  },
  {
   "cell_type": "code",
   "execution_count": 4,
   "metadata": {},
   "outputs": [],
   "source": [
    "X_train, X_test_val, y_train, y_test_val = train_test_split(X_new1, y, test_size=0.25, random_state=0)\n",
    "# X_val, X_test, y_val, y_test = train_test_split(X_test_val, y_test_val, test_size=0.25, random_state=0)"
   ]
  },
  {
   "cell_type": "code",
   "execution_count": 5,
   "metadata": {},
   "outputs": [
    {
     "name": "stdout",
     "output_type": "stream",
     "text": [
      "26796\n",
      "26796\n"
     ]
    }
   ],
   "source": [
    "print(len(X_train))\n",
    "# print(len(X_val))\n",
    "# print(len(X_test))\n",
    "print(len(y_train))\n",
    "# print(len(y_val))\n",
    "# print(len(y_test))\n",
    "\n",
    "# X_train"
   ]
  },
  {
   "cell_type": "code",
   "execution_count": 114,
   "metadata": {},
   "outputs": [],
   "source": [
    "from keras.layers import Input\n",
    "from keras.layers import Dense\n",
    "from keras.layers import Dropout\n",
    "from keras.models import Model\n",
    "\n",
    "input_layer = Input(shape=(70,))\n",
    "hidden_layer1 = Dense(256, activation='relu')(input_layer)\n",
    "dropout_1 = Dropout(0.6)(hidden_layer1)\n",
    "hidden_layer2 = Dense(256, activation='relu')(dropout_1)\n",
    "dropout_2 = Dropout(0.6)(hidden_layer2)\n",
    "hidden_layer3 = Dense(128, activation='relu')(dropout_2)\n",
    "dropout_3 = Dropout(0.6)(hidden_layer3)\n",
    "hidden_layer4 = Dense(128, activation='relu')(dropout_3)\n",
    "dropout_4 = Dropout(0.6)(hidden_layer4)\n",
    "hidden_layer5 = Dense(128, activation='relu')(dropout_4)\n",
    "output = Dense(5, activation='softmax')(dropout_3)\n",
    "model = Model(inputs = input_layer, outputs = output)\n",
    "\n",
    "\n",
    "\n",
    "# model = Sequential()\n",
    "# model.add(Dense(300, input_dim=89, activation='relu'))\n",
    "# model.add(Dropout(0.5))\n",
    "# model.add(Dense(300, activation='relu'))\n",
    "# model.add(Dropout(0.5))\n",
    "# model.add(Dense(300, activation='relu'))\n",
    "# model.add(Dropout(0.5))\n",
    "# model.add(Dense(5, activation='softmax'))"
   ]
  },
  {
   "cell_type": "code",
   "execution_count": 115,
   "metadata": {},
   "outputs": [
    {
     "name": "stdout",
     "output_type": "stream",
     "text": [
      "Model: \"model_13\"\n",
      "_________________________________________________________________\n",
      "Layer (type)                 Output Shape              Param #   \n",
      "=================================================================\n",
      "input_13 (InputLayer)        (None, 70)                0         \n",
      "_________________________________________________________________\n",
      "dense_59 (Dense)             (None, 256)               18176     \n",
      "_________________________________________________________________\n",
      "dropout_39 (Dropout)         (None, 256)               0         \n",
      "_________________________________________________________________\n",
      "dense_60 (Dense)             (None, 256)               65792     \n",
      "_________________________________________________________________\n",
      "dropout_40 (Dropout)         (None, 256)               0         \n",
      "_________________________________________________________________\n",
      "dense_61 (Dense)             (None, 128)               32896     \n",
      "_________________________________________________________________\n",
      "dropout_41 (Dropout)         (None, 128)               0         \n",
      "_________________________________________________________________\n",
      "dense_64 (Dense)             (None, 5)                 645       \n",
      "=================================================================\n",
      "Total params: 117,509\n",
      "Trainable params: 117,509\n",
      "Non-trainable params: 0\n",
      "_________________________________________________________________\n"
     ]
    }
   ],
   "source": [
    "model.summary()"
   ]
  },
  {
   "cell_type": "code",
   "execution_count": 116,
   "metadata": {
    "scrolled": true
   },
   "outputs": [
    {
     "name": "stdout",
     "output_type": "stream",
     "text": [
      "Train on 26796 samples, validate on 8932 samples\n",
      "Epoch 1/100\n",
      "26796/26796 [==============================] - 4s 132us/step - loss: 1.2017 - accuracy: 0.4723 - val_loss: 1.0500 - val_accuracy: 0.5433\n",
      "Epoch 2/100\n",
      "26796/26796 [==============================] - 3s 112us/step - loss: 1.0660 - accuracy: 0.5432 - val_loss: 0.9893 - val_accuracy: 0.5671\n",
      "Epoch 3/100\n",
      "26796/26796 [==============================] - 3s 109us/step - loss: 1.0306 - accuracy: 0.5578 - val_loss: 0.9722 - val_accuracy: 0.5825\n",
      "Epoch 4/100\n",
      "26796/26796 [==============================] - 3s 111us/step - loss: 1.0090 - accuracy: 0.5731 - val_loss: 0.9554 - val_accuracy: 0.6004\n",
      "Epoch 5/100\n",
      "26796/26796 [==============================] - 3s 109us/step - loss: 0.9906 - accuracy: 0.5850 - val_loss: 0.9464 - val_accuracy: 0.6055\n",
      "Epoch 6/100\n",
      "26796/26796 [==============================] - 3s 110us/step - loss: 0.9808 - accuracy: 0.5882 - val_loss: 0.9365 - val_accuracy: 0.6074\n",
      "Epoch 7/100\n",
      "26796/26796 [==============================] - 3s 111us/step - loss: 0.9723 - accuracy: 0.5933 - val_loss: 0.9285 - val_accuracy: 0.6098\n",
      "Epoch 8/100\n",
      "26796/26796 [==============================] - 3s 109us/step - loss: 0.9590 - accuracy: 0.5966 - val_loss: 0.9187 - val_accuracy: 0.6151\n",
      "Epoch 9/100\n",
      "26796/26796 [==============================] - 3s 110us/step - loss: 0.9584 - accuracy: 0.6020 - val_loss: 0.9122 - val_accuracy: 0.6167\n",
      "Epoch 10/100\n",
      "26796/26796 [==============================] - 3s 110us/step - loss: 0.9464 - accuracy: 0.6045 - val_loss: 0.9074 - val_accuracy: 0.6146\n",
      "Epoch 11/100\n",
      "26796/26796 [==============================] - 3s 115us/step - loss: 0.9496 - accuracy: 0.6047 - val_loss: 0.9133 - val_accuracy: 0.6204\n",
      "Epoch 12/100\n",
      "26796/26796 [==============================] - 3s 125us/step - loss: 0.9383 - accuracy: 0.6097 - val_loss: 0.9094 - val_accuracy: 0.6188\n",
      "Epoch 13/100\n",
      "26796/26796 [==============================] - 3s 125us/step - loss: 0.9399 - accuracy: 0.6079 - val_loss: 0.9058 - val_accuracy: 0.6181\n",
      "Epoch 14/100\n",
      "26796/26796 [==============================] - 3s 125us/step - loss: 0.9347 - accuracy: 0.6087 - val_loss: 0.8991 - val_accuracy: 0.6216\n",
      "Epoch 15/100\n",
      "26796/26796 [==============================] - 3s 124us/step - loss: 0.9289 - accuracy: 0.6134 - val_loss: 0.8969 - val_accuracy: 0.6230\n",
      "Epoch 16/100\n",
      "26796/26796 [==============================] - 3s 125us/step - loss: 0.9278 - accuracy: 0.6142 - val_loss: 0.8974 - val_accuracy: 0.6202\n",
      "Epoch 17/100\n",
      "26796/26796 [==============================] - 3s 125us/step - loss: 0.9227 - accuracy: 0.6186 - val_loss: 0.8927 - val_accuracy: 0.6256\n",
      "Epoch 18/100\n",
      "26796/26796 [==============================] - 3s 125us/step - loss: 0.9195 - accuracy: 0.6173 - val_loss: 0.8914 - val_accuracy: 0.6253\n",
      "Epoch 19/100\n",
      "26796/26796 [==============================] - 3s 127us/step - loss: 0.9153 - accuracy: 0.6200 - val_loss: 0.8941 - val_accuracy: 0.6256\n",
      "Epoch 20/100\n",
      "26796/26796 [==============================] - 3s 125us/step - loss: 0.9158 - accuracy: 0.6214 - val_loss: 0.8875 - val_accuracy: 0.6289\n",
      "Epoch 21/100\n",
      "26796/26796 [==============================] - 3s 125us/step - loss: 0.9139 - accuracy: 0.6209 - val_loss: 0.8847 - val_accuracy: 0.6313\n",
      "Epoch 22/100\n",
      "26796/26796 [==============================] - 3s 125us/step - loss: 0.9117 - accuracy: 0.6207 - val_loss: 0.8863 - val_accuracy: 0.6262\n",
      "Epoch 23/100\n",
      "26796/26796 [==============================] - 3s 125us/step - loss: 0.9136 - accuracy: 0.6202 - val_loss: 0.8903 - val_accuracy: 0.6332\n",
      "Epoch 24/100\n",
      "26796/26796 [==============================] - 3s 124us/step - loss: 0.9038 - accuracy: 0.6257 - val_loss: 0.8907 - val_accuracy: 0.6237\n",
      "Epoch 25/100\n",
      "26796/26796 [==============================] - 3s 124us/step - loss: 0.9014 - accuracy: 0.6273 - val_loss: 0.8748 - val_accuracy: 0.6361\n",
      "Epoch 26/100\n",
      "26796/26796 [==============================] - 3s 124us/step - loss: 0.9063 - accuracy: 0.6258 - val_loss: 0.8735 - val_accuracy: 0.6367\n",
      "Epoch 27/100\n",
      "26796/26796 [==============================] - 3s 125us/step - loss: 0.8966 - accuracy: 0.6267 - val_loss: 0.8843 - val_accuracy: 0.6300\n",
      "Epoch 28/100\n",
      "26796/26796 [==============================] - 3s 126us/step - loss: 0.8978 - accuracy: 0.6269 - val_loss: 0.8780 - val_accuracy: 0.6371\n",
      "Epoch 29/100\n",
      "26796/26796 [==============================] - 3s 126us/step - loss: 0.8980 - accuracy: 0.6279 - val_loss: 0.8824 - val_accuracy: 0.6343\n",
      "Epoch 30/100\n",
      "26796/26796 [==============================] - 3s 125us/step - loss: 0.9005 - accuracy: 0.6273 - val_loss: 0.8844 - val_accuracy: 0.6279\n",
      "Epoch 31/100\n",
      "26796/26796 [==============================] - 3s 125us/step - loss: 0.9009 - accuracy: 0.6272 - val_loss: 0.8712 - val_accuracy: 0.6386\n",
      "Epoch 32/100\n",
      "26796/26796 [==============================] - 3s 124us/step - loss: 0.8916 - accuracy: 0.6337 - val_loss: 0.8805 - val_accuracy: 0.6340\n",
      "Epoch 33/100\n",
      "26796/26796 [==============================] - 4s 143us/step - loss: 0.8901 - accuracy: 0.6302 - val_loss: 0.8748 - val_accuracy: 0.6338\n",
      "Epoch 34/100\n",
      "26796/26796 [==============================] - 4s 140us/step - loss: 0.8924 - accuracy: 0.6318 - val_loss: 0.8734 - val_accuracy: 0.6385\n",
      "Epoch 35/100\n",
      "26796/26796 [==============================] - 4s 141us/step - loss: 0.8900 - accuracy: 0.6318 - val_loss: 0.8785 - val_accuracy: 0.6337\n",
      "Epoch 36/100\n",
      "26796/26796 [==============================] - 3s 129us/step - loss: 0.8881 - accuracy: 0.6351 - val_loss: 0.8761 - val_accuracy: 0.6361\n",
      "Epoch 37/100\n",
      "26796/26796 [==============================] - 3s 129us/step - loss: 0.8873 - accuracy: 0.6310 - val_loss: 0.8724 - val_accuracy: 0.6382\n",
      "Epoch 38/100\n",
      "26796/26796 [==============================] - 4s 131us/step - loss: 0.8835 - accuracy: 0.6376 - val_loss: 0.8659 - val_accuracy: 0.6369\n",
      "Epoch 39/100\n",
      "26796/26796 [==============================] - 4s 133us/step - loss: 0.8846 - accuracy: 0.6322 - val_loss: 0.8697 - val_accuracy: 0.6366\n",
      "Epoch 40/100\n",
      "26796/26796 [==============================] - 4s 150us/step - loss: 0.8882 - accuracy: 0.6352 - val_loss: 0.8717 - val_accuracy: 0.6304\n",
      "Epoch 41/100\n",
      "26796/26796 [==============================] - 4s 143us/step - loss: 0.8810 - accuracy: 0.6349 - val_loss: 0.8824 - val_accuracy: 0.6368\n",
      "Epoch 42/100\n",
      "26796/26796 [==============================] - 4s 134us/step - loss: 0.8803 - accuracy: 0.6374 - val_loss: 0.8770 - val_accuracy: 0.6308\n",
      "Epoch 43/100\n",
      "26796/26796 [==============================] - 4s 141us/step - loss: 0.8810 - accuracy: 0.6349 - val_loss: 0.8662 - val_accuracy: 0.6399\n",
      "Epoch 44/100\n",
      "26796/26796 [==============================] - 3s 130us/step - loss: 0.8770 - accuracy: 0.6357 - val_loss: 0.8677 - val_accuracy: 0.6383\n",
      "Epoch 45/100\n",
      "26796/26796 [==============================] - 3s 126us/step - loss: 0.8779 - accuracy: 0.6377 - val_loss: 0.8700 - val_accuracy: 0.6399\n",
      "Epoch 46/100\n",
      "26796/26796 [==============================] - 3s 125us/step - loss: 0.8763 - accuracy: 0.6361 - val_loss: 0.8652 - val_accuracy: 0.6422\n",
      "Epoch 47/100\n",
      "26796/26796 [==============================] - 3s 126us/step - loss: 0.8755 - accuracy: 0.6376 - val_loss: 0.8683 - val_accuracy: 0.6352\n",
      "Epoch 48/100\n",
      "26796/26796 [==============================] - 3s 125us/step - loss: 0.8742 - accuracy: 0.6385 - val_loss: 0.8717 - val_accuracy: 0.6410\n",
      "Epoch 49/100\n",
      "26796/26796 [==============================] - 3s 126us/step - loss: 0.8700 - accuracy: 0.6430 - val_loss: 0.8734 - val_accuracy: 0.6368\n",
      "Epoch 50/100\n",
      "26796/26796 [==============================] - 3s 126us/step - loss: 0.8718 - accuracy: 0.6354 - val_loss: 0.8643 - val_accuracy: 0.6449\n",
      "Epoch 51/100\n",
      "26796/26796 [==============================] - 3s 126us/step - loss: 0.8696 - accuracy: 0.6412 - val_loss: 0.8661 - val_accuracy: 0.6359\n",
      "Epoch 52/100\n",
      "26796/26796 [==============================] - 3s 125us/step - loss: 0.8679 - accuracy: 0.6394 - val_loss: 0.8728 - val_accuracy: 0.6401\n",
      "Epoch 53/100\n",
      "26796/26796 [==============================] - 3s 125us/step - loss: 0.8672 - accuracy: 0.6430 - val_loss: 0.8679 - val_accuracy: 0.6366\n",
      "Epoch 54/100\n",
      "26796/26796 [==============================] - 3s 127us/step - loss: 0.8692 - accuracy: 0.6397 - val_loss: 0.8675 - val_accuracy: 0.6407\n",
      "Epoch 55/100\n"
     ]
    },
    {
     "name": "stdout",
     "output_type": "stream",
     "text": [
      "26796/26796 [==============================] - 3s 125us/step - loss: 0.8713 - accuracy: 0.6372 - val_loss: 0.8648 - val_accuracy: 0.6453\n",
      "Epoch 56/100\n",
      "26796/26796 [==============================] - 3s 125us/step - loss: 0.8685 - accuracy: 0.6404 - val_loss: 0.8648 - val_accuracy: 0.6399\n",
      "Epoch 57/100\n",
      "26796/26796 [==============================] - 3s 125us/step - loss: 0.8699 - accuracy: 0.6388 - val_loss: 0.8695 - val_accuracy: 0.6369\n",
      "Epoch 58/100\n",
      "26796/26796 [==============================] - 3s 126us/step - loss: 0.8652 - accuracy: 0.6396 - val_loss: 0.8652 - val_accuracy: 0.6406\n",
      "Epoch 59/100\n",
      "26796/26796 [==============================] - 3s 128us/step - loss: 0.8674 - accuracy: 0.6411 - val_loss: 0.8639 - val_accuracy: 0.6415\n",
      "Epoch 60/100\n",
      "26796/26796 [==============================] - 4s 137us/step - loss: 0.8657 - accuracy: 0.6404 - val_loss: 0.8617 - val_accuracy: 0.6431\n",
      "Epoch 61/100\n",
      "26796/26796 [==============================] - 4s 136us/step - loss: 0.8607 - accuracy: 0.6449 - val_loss: 0.8647 - val_accuracy: 0.6434\n",
      "Epoch 62/100\n",
      "26796/26796 [==============================] - 4s 147us/step - loss: 0.8639 - accuracy: 0.6429 - val_loss: 0.8656 - val_accuracy: 0.6406\n",
      "Epoch 63/100\n",
      "26796/26796 [==============================] - 3s 127us/step - loss: 0.8619 - accuracy: 0.6428 - val_loss: 0.8616 - val_accuracy: 0.6425\n",
      "Epoch 64/100\n",
      "26796/26796 [==============================] - 3s 124us/step - loss: 0.8617 - accuracy: 0.6439 - val_loss: 0.8686 - val_accuracy: 0.6435\n",
      "Epoch 65/100\n",
      "26796/26796 [==============================] - 3s 128us/step - loss: 0.8606 - accuracy: 0.6485 - val_loss: 0.8710 - val_accuracy: 0.6439\n",
      "Epoch 66/100\n",
      "26796/26796 [==============================] - 3s 126us/step - loss: 0.8630 - accuracy: 0.6431 - val_loss: 0.8629 - val_accuracy: 0.6399\n",
      "Epoch 67/100\n",
      "26796/26796 [==============================] - 3s 126us/step - loss: 0.8600 - accuracy: 0.6436 - val_loss: 0.8611 - val_accuracy: 0.6439\n",
      "Epoch 68/100\n",
      "26796/26796 [==============================] - 4s 141us/step - loss: 0.8600 - accuracy: 0.6445 - val_loss: 0.8594 - val_accuracy: 0.6418\n",
      "Epoch 69/100\n",
      "26796/26796 [==============================] - 4s 148us/step - loss: 0.8621 - accuracy: 0.6469 - val_loss: 0.8687 - val_accuracy: 0.6432\n",
      "Epoch 70/100\n",
      "26796/26796 [==============================] - 4s 158us/step - loss: 0.8542 - accuracy: 0.6471 - val_loss: 0.8598 - val_accuracy: 0.6443\n",
      "Epoch 71/100\n",
      "26796/26796 [==============================] - 3s 129us/step - loss: 0.8550 - accuracy: 0.6460 - val_loss: 0.8624 - val_accuracy: 0.6450\n",
      "Epoch 72/100\n",
      "26796/26796 [==============================] - 4s 132us/step - loss: 0.8588 - accuracy: 0.6438 - val_loss: 0.8665 - val_accuracy: 0.6393\n",
      "Epoch 73/100\n",
      "26796/26796 [==============================] - 3s 127us/step - loss: 0.8574 - accuracy: 0.6451 - val_loss: 0.8628 - val_accuracy: 0.6487\n",
      "Epoch 74/100\n",
      "26796/26796 [==============================] - 4s 135us/step - loss: 0.8530 - accuracy: 0.6486 - val_loss: 0.8606 - val_accuracy: 0.6430\n",
      "Epoch 75/100\n",
      "26796/26796 [==============================] - 4s 143us/step - loss: 0.8495 - accuracy: 0.6472 - val_loss: 0.8566 - val_accuracy: 0.6453\n",
      "Epoch 76/100\n",
      "26796/26796 [==============================] - 4s 132us/step - loss: 0.8528 - accuracy: 0.6516 - val_loss: 0.8643 - val_accuracy: 0.6411\n",
      "Epoch 77/100\n",
      "26796/26796 [==============================] - 4s 135us/step - loss: 0.8545 - accuracy: 0.6477 - val_loss: 0.8637 - val_accuracy: 0.6399\n",
      "Epoch 78/100\n",
      "26796/26796 [==============================] - 4s 131us/step - loss: 0.8513 - accuracy: 0.6464 - val_loss: 0.8654 - val_accuracy: 0.6416\n",
      "Epoch 79/100\n",
      "26796/26796 [==============================] - 4s 139us/step - loss: 0.8530 - accuracy: 0.6453 - val_loss: 0.8629 - val_accuracy: 0.6411\n",
      "Epoch 80/100\n",
      "26796/26796 [==============================] - 4s 139us/step - loss: 0.8570 - accuracy: 0.6459 - val_loss: 0.8634 - val_accuracy: 0.6392\n",
      "Epoch 81/100\n",
      "26796/26796 [==============================] - 4s 144us/step - loss: 0.8514 - accuracy: 0.6489 - val_loss: 0.8675 - val_accuracy: 0.6318\n",
      "Epoch 82/100\n",
      "26796/26796 [==============================] - 3s 126us/step - loss: 0.8513 - accuracy: 0.6492 - val_loss: 0.8673 - val_accuracy: 0.6420\n",
      "Epoch 83/100\n",
      "26796/26796 [==============================] - 4s 131us/step - loss: 0.8483 - accuracy: 0.6487 - val_loss: 0.8612 - val_accuracy: 0.6411\n",
      "Epoch 84/100\n",
      "26796/26796 [==============================] - 4s 136us/step - loss: 0.8491 - accuracy: 0.6469 - val_loss: 0.8611 - val_accuracy: 0.6461\n",
      "Epoch 85/100\n",
      "26796/26796 [==============================] - 4s 139us/step - loss: 0.8546 - accuracy: 0.6456 - val_loss: 0.8658 - val_accuracy: 0.6426\n",
      "Epoch 86/100\n",
      "26796/26796 [==============================] - 4s 140us/step - loss: 0.8472 - accuracy: 0.6478 - val_loss: 0.8616 - val_accuracy: 0.6425\n",
      "Epoch 87/100\n",
      "26796/26796 [==============================] - 4s 145us/step - loss: 0.8461 - accuracy: 0.6516 - val_loss: 0.8657 - val_accuracy: 0.6427\n",
      "Epoch 88/100\n",
      "26796/26796 [==============================] - 3s 129us/step - loss: 0.8454 - accuracy: 0.6514 - val_loss: 0.8669 - val_accuracy: 0.6457\n",
      "Epoch 89/100\n",
      "26796/26796 [==============================] - 4s 136us/step - loss: 0.8488 - accuracy: 0.6501 - val_loss: 0.8632 - val_accuracy: 0.6439\n",
      "Epoch 90/100\n",
      "26796/26796 [==============================] - 4s 134us/step - loss: 0.8434 - accuracy: 0.6524 - val_loss: 0.8638 - val_accuracy: 0.6450\n",
      "Epoch 91/100\n",
      "26796/26796 [==============================] - 3s 130us/step - loss: 0.8451 - accuracy: 0.6507 - val_loss: 0.8673 - val_accuracy: 0.6403\n",
      "Epoch 92/100\n",
      "26796/26796 [==============================] - 3s 129us/step - loss: 0.8478 - accuracy: 0.6482 - val_loss: 0.8606 - val_accuracy: 0.6466\n",
      "Epoch 93/100\n",
      "26796/26796 [==============================] - 3s 130us/step - loss: 0.8476 - accuracy: 0.6496 - val_loss: 0.8671 - val_accuracy: 0.6425\n",
      "Epoch 94/100\n",
      "26796/26796 [==============================] - 3s 129us/step - loss: 0.8455 - accuracy: 0.6490 - val_loss: 0.8643 - val_accuracy: 0.6404\n",
      "Epoch 95/100\n",
      "26796/26796 [==============================] - 3s 129us/step - loss: 0.8454 - accuracy: 0.6525 - val_loss: 0.8592 - val_accuracy: 0.6477\n",
      "Epoch 96/100\n",
      "26796/26796 [==============================] - 3s 129us/step - loss: 0.8456 - accuracy: 0.6521 - val_loss: 0.8618 - val_accuracy: 0.6407\n",
      "Epoch 97/100\n",
      "26796/26796 [==============================] - 3s 129us/step - loss: 0.8450 - accuracy: 0.6514 - val_loss: 0.8633 - val_accuracy: 0.6393\n",
      "Epoch 98/100\n",
      "26796/26796 [==============================] - 3s 130us/step - loss: 0.8454 - accuracy: 0.6503 - val_loss: 0.8605 - val_accuracy: 0.6442\n",
      "Epoch 99/100\n",
      "26796/26796 [==============================] - 3s 129us/step - loss: 0.8455 - accuracy: 0.6501 - val_loss: 0.8631 - val_accuracy: 0.6422\n",
      "Epoch 100/100\n",
      "26796/26796 [==============================] - 3s 129us/step - loss: 0.8473 - accuracy: 0.6498 - val_loss: 0.8616 - val_accuracy: 0.6443\n"
     ]
    }
   ],
   "source": [
    "model.compile(optimizer='Adam', loss='sparse_categorical_crossentropy', metrics=['accuracy'])\n",
    "history = model.fit(X_train, y_train, validation_data = (X_test_val, y_test_val), epochs=100)"
   ]
  },
  {
   "cell_type": "code",
   "execution_count": 117,
   "metadata": {},
   "outputs": [
    {
     "name": "stdout",
     "output_type": "stream",
     "text": [
      "Train: 0.701, Validation: 0.644\n"
     ]
    },
    {
     "data": {
      "text/plain": [
       "<matplotlib.legend.Legend at 0x1ba13c1b948>"
      ]
     },
     "execution_count": 117,
     "metadata": {},
     "output_type": "execute_result"
    },
    {
     "data": {
      "image/png": "[encoded data removed]",
      "text/plain": [
       "<Figure size 432x288 with 1 Axes>"
      ]
     },
     "metadata": {
      "needs_background": "light"
     },
     "output_type": "display_data"
    }
   ],
   "source": [
    "# model.predict(X_test_val)\n",
    "# model.evaluate(X_test_val, y_test_val)\n",
    "\n",
    "\n",
    "# evaluate the model\n",
    "_, train_acc = model.evaluate(X_train, y_train, verbose=0)\n",
    "_, test_acc = model.evaluate(X_test_val, y_test_val, verbose=0)\n",
    "print('Train: %.3f, Validation: %.3f' % (train_acc, test_acc))\n",
    "# plot loss during training\n",
    "plt.subplot(211)\n",
    "plt.title('Loss')\n",
    "plt.plot(history.history['loss'], label='train')\n",
    "plt.plot(history.history['val_loss'], label='test')\n",
    "plt.legend()\n"
   ]
  },
  {
   "cell_type": "code",
   "execution_count": 118,
   "metadata": {},
   "outputs": [
    {
     "data": {
      "image/png": "[encoded data removed]",
      "text/plain": [
       "<Figure size 432x288 with 1 Axes>"
      ]
     },
     "metadata": {
      "needs_background": "light"
     },
     "output_type": "display_data"
    }
   ],
   "source": [
    "# plot accuracy during training\n",
    "plt.subplot(212)\n",
    "plt.title('Accuracy')\n",
    "plt.plot(history.history['accuracy'], label='train')\n",
    "plt.plot(history.history['val_accuracy'], label='test')\n",
    "plt.legend()\n",
    "plt.show()\n",
    "\n"
   ]
  },
  {
   "cell_type": "code",
   "execution_count": 119,
   "metadata": {},
   "outputs": [
    {
     "name": "stdout",
     "output_type": "stream",
     "text": [
      "8932/8932 [==============================] - 0s 22us/step\n",
      "              precision    recall  f1-score   support\n",
      "\n",
      "           1       0.70      0.84      0.76      3019\n",
      "           2       0.67      0.24      0.35      1403\n",
      "           3       0.57      0.56      0.56      2264\n",
      "           4       0.63      0.72      0.67      2246\n",
      "\n",
      "    accuracy                           0.64      8932\n",
      "   macro avg       0.64      0.59      0.59      8932\n",
      "weighted avg       0.64      0.64      0.63      8932\n",
      "\n"
     ]
    }
   ],
   "source": [
    "from sklearn.metrics import classification_report\n",
    "\n",
    "y_pred = model.predict(X_test_val, batch_size=64, verbose=1)\n",
    "y_pred_bool = np.argmax(y_pred, axis=1)\n",
    "\n",
    "print(classification_report(y_test_val, y_pred_bool))"
   ]
  },
  {
   "cell_type": "code",
   "execution_count": 100,
   "metadata": {},
   "outputs": [
    {
     "name": "stdout",
     "output_type": "stream",
     "text": [
      "Accuracy: 0.338\n"
     ]
    }
   ],
   "source": [
    "from sklearn.dummy import DummyClassifier\n",
    "from sklearn.metrics import accuracy_score\n",
    "model = DummyClassifier(strategy='most_frequent')\n",
    "# fit model\n",
    "model.fit(X_train, y_train)\n",
    "# make predictions\n",
    "yhat = model.predict(X_test_val)\n",
    "# calculate accuracy\n",
    "accuracy = accuracy_score(y_test_val, yhat)\n",
    "print('Accuracy: %.3f' % accuracy)"
   ]
  },
  {
   "cell_type": "code",
   "execution_count": 112,
   "metadata": {},
   "outputs": [
    {
     "name": "stderr",
     "output_type": "stream",
     "text": [
      "C:\\Users\\Asus\\Anaconda3\\lib\\site-packages\\sklearn\\neural_network\\multilayer_perceptron.py:566: ConvergenceWarning: Stochastic Optimizer: Maximum iterations (200) reached and the optimization hasn't converged yet.\n",
      "  % self.max_iter, ConvergenceWarning)\n"
     ]
    },
    {
     "data": {
      "text/plain": [
       "0.6307657859381998"
      ]
     },
     "execution_count": 112,
     "metadata": {},
     "output_type": "execute_result"
    }
   ],
   "source": [
    "from sklearn.neural_network import MLPClassifier\n",
    "classifier = MLPClassifier(hidden_layer_sizes=100, learning_rate='adaptive').fit(X_train, y_train)\n",
    "score = classifier.score(X_test_val, y_test_val)\n",
    "score"
   ]
  },
  {
   "cell_type": "code",
   "execution_count": 113,
   "metadata": {},
   "outputs": [
    {
     "name": "stdout",
     "output_type": "stream",
     "text": [
      "              precision    recall  f1-score   support\n",
      "\n",
      "           1       0.71      0.77      0.74      3019\n",
      "           2       0.50      0.41      0.45      1403\n",
      "           3       0.57      0.55      0.56      2264\n",
      "           4       0.64      0.66      0.65      2246\n",
      "\n",
      "    accuracy                           0.63      8932\n",
      "   macro avg       0.60      0.60      0.60      8932\n",
      "weighted avg       0.62      0.63      0.63      8932\n",
      "\n"
     ]
    }
   ],
   "source": [
    "y_pred = classifier.predict(X_test_val)\n",
    "\n",
    "print(classification_report(y_test_val, y_pred))"
   ]
  },
  {
   "cell_type": "code",
   "execution_count": null,
   "metadata": {},
   "outputs": [],
   "source": [
    "from sklearn.ensemble import RandomForestClassifier\n",
    "classifier1 = RandomForestClassifier().fit(X_train, y_train)\n",
    "score1 = classifier1.score(X_test_val, y_test_val)\n",
    "print(score1)\n",
    "\n",
    "y_pred1 = classifier1.predict(X_test_val)\n",
    "\n",
    "print(classification_report(y_test_val, y_pred1))"
   ]
  },
  {
   "cell_type": "code",
   "execution_count": null,
   "metadata": {},
   "outputs": [],
   "source": [
    "\n",
    "classifier2 = ExtraTreesClassifier().fit(X_train, y_train)\n",
    "score2 = classifier2.score(X_test_val, y_test_val)\n",
    "print(score1)\n",
    "\n",
    "y_pred2 = classifier2.predict(X_test_val)\n",
    "\n",
    "print(classification_report(y_test_val, y_pred2))"
   ]
  },
  {
   "cell_type": "code",
   "execution_count": null,
   "metadata": {},
   "outputs": [],
   "source": []
  },
  {
   "cell_type": "code",
   "execution_count": null,
   "metadata": {},
   "outputs": [],
   "source": []
  },
  {
   "cell_type": "code",
   "execution_count": null,
   "metadata": {},
   "outputs": [],
   "source": []
  },
  {
   "cell_type": "code",
   "execution_count": null,
   "metadata": {},
   "outputs": [],
   "source": []
  }
 ],
 "metadata": {
  "kernelspec": {
   "display_name": "Python 3",
   "language": "python",
   "name": "python3"
  },
  "language_info": {
   "codemirror_mode": {
    "name": "ipython",
    "version": 3
   },
   "file_extension": ".py",
   "mimetype": "text/x-python",
   "name": "python",
   "nbconvert_exporter": "python",
   "pygments_lexer": "ipython3",
   "version": "3.7.4"
  }
 },
 "nbformat": 4,
 "nbformat_minor": 2
}
