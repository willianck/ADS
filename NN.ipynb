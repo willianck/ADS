{
 "cells": [
  {
   "cell_type": "code",
   "execution_count": 567,
   "metadata": {},
   "outputs": [],
   "source": [
    "import pandas as pd\n",
    "import numpy as np\n",
    "import tensorflow as tf\n",
    "from tensorflow import keras\n",
    "from tensorflow.keras import layers\n",
    "from sklearn.model_selection import train_test_split\n",
    "import seaborn as sns\n",
    "import matplotlib\n",
    "import matplotlib.pyplot as plt\n",
    "\n",
    "\n",
    "from sklearn.cluster import KMeans\n",
    "import pandas as pd\n",
    "import pickle\n",
    "import string\n",
    "import re\n",
    "import string\n",
    "from sklearn.model_selection import cross_validate as cross_validation, ShuffleSplit, cross_val_score, train_test_split, KFold\n",
    "from sklearn.model_selection import GridSearchCV, RandomizedSearchCV\n",
    "from sklearn.metrics import classification_report, accuracy_score, auc\n",
    "import numpy as np\n",
    "import matplotlib.pyplot as plt\n",
    "import seaborn as sns\n",
    "from pathlib import Path\n",
    "from sklearn.svm import *\n",
    "# from sklearn.tree import *\n",
    "from sklearn.neural_network import *\n",
    "from sklearn.linear_model import *\n",
    "from sklearn.ensemble import ExtraTreesClassifier\n",
    "from sklearn.preprocessing import OneHotEncoder\n",
    "from sklearn.experimental import enable_iterative_imputer\n",
    "from sklearn.linear_model import *\n",
    "from sklearn.tree import *\n",
    "from sklearn.ensemble import *\n",
    "from sklearn.ensemble import RandomForestClassifier\n",
    "from sklearn.neighbors import *\n",
    "from sklearn.impute import IterativeImputer\n",
    "from sklearn.naive_bayes import *\n",
    "import pickle\n",
    "from sklearn.svm import SVC\n",
    "from sklearn.preprocessing import StandardScaler\n",
    "from sklearn.datasets import make_classification\n",
    "from sklearn.model_selection import train_test_split\n",
    "from sklearn.pipeline import Pipeline\n",
    "import warnings\n",
    "warnings.filterwarnings(\"ignore\", category=DeprecationWarning) "
   ]
  },
  {
   "cell_type": "code",
   "execution_count": 525,
   "metadata": {},
   "outputs": [
    {
     "name": "stdout",
     "output_type": "stream",
     "text": [
      "['YEAR', 'ITERATION', 'GPS_LAT', 'GPS_LON', 'GPS_ALT', 'HHsizemembers', 'HHsizeMAE', 'LandOwned', 'LandCultivated', 'LivestockHoldings', 'NrofMonthsFoodInsecure', 'PPI_Threshold', 'PPI_Likelihood', 'score_HDDS_GoodSeason', 'score_HDDS_farmbasedGoodSeason', 'score_HDDS_purchasedGoodSeason', 'score_HDDS_BadSeason', 'score_HDDS_farmbasedBadSeason', 'score_HDDS_purchasedBadSeason', 'TVA_USD_PPP_pmae_pday', 'currency_conversion_factor', 'total_income_USD_PPP_pHH_Yr', 'offfarm_income_USD_PPP_pHH_Yr', 'farm_income_USD_PPP_pHH_Yr', 'value_farm_produce_USD_PPP_pHH_Yr', 'crop_sales_USD_PPP_pHH_Yr', 'value_crop_produce_USD_PPP_pHH_Yr', 'value_crop_consumed_USD_PPP_pHH_Yr', 'livestock_prodsales_USD_PPP_pHH_Yr', 'value_livestock_production_USD_PPP_pHH_Yr', 'value_livestock_prod_consumed_USD_PPP_pHH_Yr', 'Market_Orientation', 'Livestock_Orientation', 'Food_Availability_kCal_MAE_day', 'Food_Self_Sufficiency_kCal_MAE_day', 'NrofMonthsWildFoodCons', 'GHGEmissions', 'Gender_MaleControl', 'Gender_FemaleControl', 'NFertInput', 'Food_InsecurityLevel', 'sinBestFoodSecMonth', 'cosBestFoodSecMonth', 'sinWorstFoodSecMonth', 'cosWorstFoodSecMonth', 'Head_EducationLevel_<Other>', 'Head_EducationLevel_<illiterate>', 'Head_EducationLevel_<literate>', 'Head_EducationLevel_<no_school>', 'Head_EducationLevel_<postsecondary>', 'Head_EducationLevel_<primary>', 'Head_EducationLevel_<secondary>', 'HouseholdType_<childhead>', 'HouseholdType_<couple>', 'HouseholdType_<couple_man_works_away>', 'HouseholdType_<couple_polygamous>', 'HouseholdType_<couple_woman_works_away>', 'HouseholdType_<man_single>', 'HouseholdType_<nonparenthead>', 'HouseholdType_<other>', 'HouseholdType_<polygamous>', 'HouseholdType_<single>', 'HouseholdType_<together>', 'HouseholdType_<woman_single>', 'HouseholdType_<workaway>', 'Country_<Bolivia>', 'Country_<Burkina_Faso>', 'Country_<Burundi>', 'Country_<Cambodia>', 'Country_<Comoros>', 'Country_<Costa_Rica>', \"Country_<Cote d'Ivoire>\", 'Country_<DRC>', 'Country_<Ecuador>', 'Country_<El_Salvador>', 'Country_<Ethiopia>', 'Country_<Ghana>', 'Country_<Guatemala>', 'Country_<Honduras>', 'Country_<India>', 'Country_<Kenya>', 'Country_<LaoPDR>', 'Country_<Malawi>', 'Country_<Mali>', 'Country_<Morocco>', 'Country_<Nicaragua>', 'Country_<Niger>', 'Country_<Nigeria>', 'Country_<Palestine>', 'Country_<Peru>', 'Country_<Rwanda>', 'Country_<Senegal>', 'Country_<Sierra Leone>', 'Country_<South Africa>', 'Country_<Tanzania>', 'Country_<Uganda>', 'Country_<Vietnam>', 'Country_<Zambia>']\n"
     ]
    },
    {
     "data": {
      "text/plain": [
       "(35726, 98)"
      ]
     },
     "execution_count": 525,
     "metadata": {},
     "output_type": "execute_result"
    }
   ],
   "source": [
    "# data = pd.read_pickle('imputed_data_forest_corr.pkl')\n",
    "data = pd.read_pickle('imputed_data_forest_2.pkl')\n",
    "\n",
    "print(list(data.columns))\n",
    "data.shape"
   ]
  },
  {
   "cell_type": "code",
   "execution_count": 569,
   "metadata": {},
   "outputs": [
    {
     "name": "stdout",
     "output_type": "stream",
     "text": [
      "0        3\n",
      "1        4\n",
      "2        4\n",
      "3        2\n",
      "4        4\n",
      "        ..\n",
      "35721    1\n",
      "35722    1\n",
      "35723    1\n",
      "35724    1\n",
      "35725    1\n",
      "Name: Food_InsecurityLevel, Length: 35726, dtype: int32\n",
      "(35726, 95)\n"
     ]
    },
    {
     "data": {
      "text/plain": [
       "(35726,)"
      ]
     },
     "execution_count": 569,
     "metadata": {},
     "output_type": "execute_result"
    }
   ],
   "source": [
    "X = data.drop(['Food_InsecurityLevel','YEAR','currency_conversion_factor'],axis=1)\n",
    "y = data['Food_InsecurityLevel']\n",
    "print(y)\n",
    "\n",
    "from sklearn.feature_selection import f_classif\n",
    "from sklearn.feature_selection import SelectKBest\n",
    "from sklearn.feature_selection import f_regression\n",
    "from sklearn.feature_selection import mutual_info_classif\n",
    "from sklearn.feature_selection import SelectFromModel\n",
    "from sklearn.svm import LinearSVC\n",
    "from sklearn.ensemble import ExtraTreesClassifier\n",
    "from sklearn.feature_selection import SelectFromModel\n",
    "from sklearn.ensemble import RandomForestClassifier\n",
    "from sklearn.ensemble import AdaBoostClassifier\n",
    "from sklearn.ensemble import GradientBoostingClassifier\n",
    "from sklearn.feature_selection import SelectFromModel\n",
    "\n",
    "# from sklearn.preprocessing import StandardScaler\n",
    "# scaler = StandardScaler()\n",
    "# X_new2 = scaler.fit_transform(X_new)\n",
    "# X_new2\n",
    "\n",
    "from sklearn.preprocessing import MinMaxScaler\n",
    "scaler = MinMaxScaler()\n",
    "X_new = scaler.fit_transform(X)\n",
    "\n",
    "# from sklearn.feature_selection import SelectFromModel\n",
    "# from sklearn.decomposition import KernelPCA\n",
    "# transformer = SelectFromModel(estimator=RandomForestRegressor()).fit(X_new, y)\n",
    "# X_new = transformer.transform(X_new)\n",
    "# X_new.shape\n",
    "\n",
    "# fs_ = SelectKBest(score_func=mutual_info_classif, k=70)\n",
    "# fs_.fit(X_new, y)\n",
    "# mi_support = fs_.get_support()\n",
    "# X_new1 = fs_.transform(X_new)\n",
    "\n",
    "# clf = ExtraTreesClassifier(n_estimators=60)\n",
    "# clf = clf.fit(X, y)\n",
    "# clf.feature_importances_  \n",
    "# model = SelectFromModel(clf, prefit=True)\n",
    "\n",
    "# lsvc = LinearSVC(C=0.01, penalty=\"l1\", dual=False).fit(X_new, y)\n",
    "# model = SelectFromModel(lsvc, prefit=True)\n",
    "# X_new1 = model.transform(X_new)\n",
    "\n",
    "# transformer = SelectFromModel(estimator=AdaBoostClassifier()).fit(X_new, y)\n",
    "# X_new1 = transformer.transform(X_new)\n",
    "\n",
    "# from keras.utils import to_categorical\n",
    "# y = to_categorical(y)\n",
    "# y = y[:,[1,2,3,4]]\n",
    "print(X_new.shape)\n",
    "y.shape"
   ]
  },
  {
   "cell_type": "code",
   "execution_count": 570,
   "metadata": {},
   "outputs": [],
   "source": [
    "X_train, X_test_val, y_train, y_test_val = train_test_split(X_new, y, test_size=0.25, random_state=0)\n",
    "# X_val, X_test, y_val, y_test = train_test_split(X_test_val, y_test_val, test_size=0.25, random_state=0)"
   ]
  },
  {
   "cell_type": "code",
   "execution_count": 405,
   "metadata": {},
   "outputs": [
    {
     "name": "stdout",
     "output_type": "stream",
     "text": [
      "26796\n",
      "26796\n"
     ]
    }
   ],
   "source": [
    "print(len(X_train))\n",
    "# print(len(X_val))\n",
    "# print(len(X_test))\n",
    "print(len(y_train))\n",
    "# print(len(y_val))\n",
    "# print(len(y_test))\n",
    "\n",
    "# X_train"
   ]
  },
  {
   "cell_type": "code",
   "execution_count": 558,
   "metadata": {},
   "outputs": [],
   "source": [
    "from keras.layers import Input\n",
    "from keras.layers import Dense\n",
    "from keras.layers import Dropout\n",
    "from keras.models import Model\n",
    "\n",
    "input_layer = Input(shape=(95,))\n",
    "hidden_layer1 = Dense(256, activation='relu')(input_layer)\n",
    "dropout_1 = Dropout(0.6)(hidden_layer1)\n",
    "hidden_layer2 = Dense(256, activation='relu')(dropout_1)\n",
    "dropout_2 = Dropout(0.6)(hidden_layer2)\n",
    "hidden_layer3 = Dense(128, activation='relu')(dropout_2)\n",
    "dropout_3 = Dropout(0.6)(hidden_layer3)\n",
    "hidden_layer4 = Dense(128, activation='relu')(dropout_3)\n",
    "dropout_4 = Dropout(0.6)(hidden_layer4)\n",
    "hidden_layer5 = Dense(128, activation='relu')(dropout_4)\n",
    "output = Dense(5, activation='softmax')(hidden_layer5)\n",
    "model = Model(inputs = input_layer, outputs = output)\n",
    "\n",
    "\n",
    "\n",
    "# model = Sequential()\n",
    "# model.add(Dense(300, input_dim=89, activation='relu'))\n",
    "# model.add(Dropout(0.5))\n",
    "# model.add(Dense(300, activation='relu'))\n",
    "# model.add(Dropout(0.5))\n",
    "# model.add(Dense(300, activation='relu'))\n",
    "# model.add(Dropout(0.5))\n",
    "# model.add(Dense(5, activation='softmax'))"
   ]
  },
  {
   "cell_type": "code",
   "execution_count": 559,
   "metadata": {},
   "outputs": [
    {
     "name": "stdout",
     "output_type": "stream",
     "text": [
      "Model: \"model_57\"\n",
      "_________________________________________________________________\n",
      "Layer (type)                 Output Shape              Param #   \n",
      "=================================================================\n",
      "input_57 (InputLayer)        (None, 95)                0         \n",
      "_________________________________________________________________\n",
      "dense_306 (Dense)            (None, 256)               24576     \n",
      "_________________________________________________________________\n",
      "dropout_200 (Dropout)        (None, 256)               0         \n",
      "_________________________________________________________________\n",
      "dense_307 (Dense)            (None, 256)               65792     \n",
      "_________________________________________________________________\n",
      "dropout_201 (Dropout)        (None, 256)               0         \n",
      "_________________________________________________________________\n",
      "dense_308 (Dense)            (None, 128)               32896     \n",
      "_________________________________________________________________\n",
      "dropout_202 (Dropout)        (None, 128)               0         \n",
      "_________________________________________________________________\n",
      "dense_309 (Dense)            (None, 128)               16512     \n",
      "_________________________________________________________________\n",
      "dropout_203 (Dropout)        (None, 128)               0         \n",
      "_________________________________________________________________\n",
      "dense_310 (Dense)            (None, 128)               16512     \n",
      "_________________________________________________________________\n",
      "dense_311 (Dense)            (None, 5)                 645       \n",
      "=================================================================\n",
      "Total params: 156,933\n",
      "Trainable params: 156,933\n",
      "Non-trainable params: 0\n",
      "_________________________________________________________________\n"
     ]
    }
   ],
   "source": [
    "model.summary()"
   ]
  },
  {
   "cell_type": "code",
   "execution_count": 560,
   "metadata": {
    "scrolled": true
   },
   "outputs": [
    {
     "name": "stdout",
     "output_type": "stream",
     "text": [
      "Train on 26794 samples, validate on 8932 samples\n",
      "Epoch 1/100\n",
      "26794/26794 [==============================] - 9s 323us/step - loss: 1.2710 - accuracy: 0.4018 - val_loss: 1.1403 - val_accuracy: 0.5233\n",
      "Epoch 2/100\n",
      "26794/26794 [==============================] - 5s 197us/step - loss: 1.1146 - accuracy: 0.5160 - val_loss: 1.0602 - val_accuracy: 0.5620\n",
      "Epoch 3/100\n",
      "26794/26794 [==============================] - 5s 197us/step - loss: 1.0519 - accuracy: 0.5595 - val_loss: 0.9927 - val_accuracy: 0.5836\n",
      "Epoch 4/100\n",
      "26794/26794 [==============================] - 5s 195us/step - loss: 1.0190 - accuracy: 0.5767 - val_loss: 0.9882 - val_accuracy: 0.5955\n",
      "Epoch 5/100\n",
      "26794/26794 [==============================] - 5s 193us/step - loss: 1.0064 - accuracy: 0.5845 - val_loss: 0.9996 - val_accuracy: 0.6049\n",
      "Epoch 6/100\n",
      "26794/26794 [==============================] - 5s 194us/step - loss: 0.9929 - accuracy: 0.5921 - val_loss: 0.9772 - val_accuracy: 0.6116\n",
      "Epoch 7/100\n",
      "26794/26794 [==============================] - 5s 195us/step - loss: 0.9818 - accuracy: 0.5989 - val_loss: 0.9610 - val_accuracy: 0.6170\n",
      "Epoch 8/100\n",
      "26794/26794 [==============================] - 5s 202us/step - loss: 0.9750 - accuracy: 0.6007 - val_loss: 0.9666 - val_accuracy: 0.6167\n",
      "Epoch 9/100\n",
      "26794/26794 [==============================] - 5s 196us/step - loss: 0.9738 - accuracy: 0.6011 - val_loss: 0.9799 - val_accuracy: 0.6099\n",
      "Epoch 10/100\n",
      "26794/26794 [==============================] - 5s 197us/step - loss: 0.9683 - accuracy: 0.6050 - val_loss: 0.9686 - val_accuracy: 0.6149\n",
      "Epoch 11/100\n",
      "26794/26794 [==============================] - 5s 198us/step - loss: 0.9616 - accuracy: 0.6074 - val_loss: 0.9517 - val_accuracy: 0.6200\n",
      "Epoch 12/100\n",
      "26794/26794 [==============================] - 5s 202us/step - loss: 0.9582 - accuracy: 0.6084 - val_loss: 0.9569 - val_accuracy: 0.6235\n",
      "Epoch 13/100\n",
      "26794/26794 [==============================] - 5s 198us/step - loss: 0.9537 - accuracy: 0.6116 - val_loss: 0.9508 - val_accuracy: 0.6227\n",
      "Epoch 14/100\n",
      "26794/26794 [==============================] - 5s 205us/step - loss: 0.9504 - accuracy: 0.6108 - val_loss: 0.9443 - val_accuracy: 0.6239\n",
      "Epoch 15/100\n",
      "26794/26794 [==============================] - 5s 203us/step - loss: 0.9501 - accuracy: 0.6116 - val_loss: 0.9481 - val_accuracy: 0.6268\n",
      "Epoch 16/100\n",
      "26794/26794 [==============================] - 5s 202us/step - loss: 0.9438 - accuracy: 0.6156 - val_loss: 0.9272 - val_accuracy: 0.6264\n",
      "Epoch 17/100\n",
      "26794/26794 [==============================] - 5s 198us/step - loss: 0.9418 - accuracy: 0.6182 - val_loss: 0.9294 - val_accuracy: 0.6292\n",
      "Epoch 18/100\n",
      "26794/26794 [==============================] - 5s 196us/step - loss: 0.9372 - accuracy: 0.6164 - val_loss: 0.9475 - val_accuracy: 0.6257\n",
      "Epoch 19/100\n",
      "26794/26794 [==============================] - 5s 197us/step - loss: 0.9384 - accuracy: 0.6172 - val_loss: 0.9380 - val_accuracy: 0.6274\n",
      "Epoch 20/100\n",
      "26794/26794 [==============================] - 5s 195us/step - loss: 0.9329 - accuracy: 0.6235 - val_loss: 0.9199 - val_accuracy: 0.6280\n",
      "Epoch 21/100\n",
      "26794/26794 [==============================] - 5s 194us/step - loss: 0.9325 - accuracy: 0.6243 - val_loss: 0.9246 - val_accuracy: 0.6312\n",
      "Epoch 22/100\n",
      "26794/26794 [==============================] - 5s 192us/step - loss: 0.9279 - accuracy: 0.6225 - val_loss: 0.9353 - val_accuracy: 0.6262\n",
      "Epoch 23/100\n",
      "26794/26794 [==============================] - 5s 195us/step - loss: 0.9303 - accuracy: 0.6232 - val_loss: 0.9252 - val_accuracy: 0.6285\n",
      "Epoch 24/100\n",
      "26794/26794 [==============================] - 5s 196us/step - loss: 0.9270 - accuracy: 0.6201 - val_loss: 0.9225 - val_accuracy: 0.6300\n",
      "Epoch 25/100\n",
      "26794/26794 [==============================] - 5s 198us/step - loss: 0.9248 - accuracy: 0.6247 - val_loss: 0.9113 - val_accuracy: 0.6283\n",
      "Epoch 26/100\n",
      "26794/26794 [==============================] - 5s 196us/step - loss: 0.9237 - accuracy: 0.6257 - val_loss: 0.9304 - val_accuracy: 0.6349\n",
      "Epoch 27/100\n",
      "26794/26794 [==============================] - 6s 224us/step - loss: 0.9234 - accuracy: 0.6238 - val_loss: 0.9196 - val_accuracy: 0.6313\n",
      "Epoch 28/100\n",
      "26794/26794 [==============================] - 6s 208us/step - loss: 0.9167 - accuracy: 0.6286 - val_loss: 0.9268 - val_accuracy: 0.6302\n",
      "Epoch 29/100\n",
      "26794/26794 [==============================] - 6s 209us/step - loss: 0.9160 - accuracy: 0.6304 - val_loss: 0.9230 - val_accuracy: 0.6356\n",
      "Epoch 30/100\n",
      "26794/26794 [==============================] - 6s 215us/step - loss: 0.9182 - accuracy: 0.6278 - val_loss: 0.9036 - val_accuracy: 0.6330\n",
      "Epoch 31/100\n",
      "26794/26794 [==============================] - 6s 233us/step - loss: 0.9155 - accuracy: 0.6300 - val_loss: 0.9108 - val_accuracy: 0.6361\n",
      "Epoch 32/100\n",
      "26794/26794 [==============================] - 6s 220us/step - loss: 0.9145 - accuracy: 0.6286 - val_loss: 0.9117 - val_accuracy: 0.6326\n",
      "Epoch 33/100\n",
      "26794/26794 [==============================] - 6s 220us/step - loss: 0.9129 - accuracy: 0.6299 - val_loss: 0.9079 - val_accuracy: 0.6335\n",
      "Epoch 34/100\n",
      "26794/26794 [==============================] - 6s 221us/step - loss: 0.9100 - accuracy: 0.6297 - val_loss: 0.9078 - val_accuracy: 0.6315\n",
      "Epoch 35/100\n",
      "26794/26794 [==============================] - 5s 204us/step - loss: 0.9146 - accuracy: 0.6309 - val_loss: 0.9124 - val_accuracy: 0.6355\n",
      "Epoch 36/100\n",
      "26794/26794 [==============================] - 6s 226us/step - loss: 0.9145 - accuracy: 0.6307 - val_loss: 0.9074 - val_accuracy: 0.6370\n",
      "Epoch 37/100\n",
      "26794/26794 [==============================] - 6s 234us/step - loss: 0.9064 - accuracy: 0.6333 - val_loss: 0.9131 - val_accuracy: 0.6271\n",
      "Epoch 38/100\n",
      "26794/26794 [==============================] - 6s 216us/step - loss: 0.9085 - accuracy: 0.6325 - val_loss: 0.9054 - val_accuracy: 0.6359\n",
      "Epoch 39/100\n",
      "26794/26794 [==============================] - 6s 219us/step - loss: 0.9058 - accuracy: 0.6330 - val_loss: 0.8947 - val_accuracy: 0.6369\n",
      "Epoch 40/100\n",
      "26794/26794 [==============================] - 6s 216us/step - loss: 0.9031 - accuracy: 0.6331 - val_loss: 0.9121 - val_accuracy: 0.6318\n",
      "Epoch 41/100\n",
      "26794/26794 [==============================] - 5s 204us/step - loss: 0.9027 - accuracy: 0.6325 - val_loss: 0.9083 - val_accuracy: 0.6350\n",
      "Epoch 42/100\n",
      "26794/26794 [==============================] - 6s 228us/step - loss: 0.9104 - accuracy: 0.6317 - val_loss: 0.9206 - val_accuracy: 0.6366\n",
      "Epoch 43/100\n",
      "26794/26794 [==============================] - 6s 208us/step - loss: 0.9052 - accuracy: 0.6342 - val_loss: 0.9069 - val_accuracy: 0.6417\n",
      "Epoch 44/100\n",
      "26794/26794 [==============================] - 6s 222us/step - loss: 0.9013 - accuracy: 0.6364 - val_loss: 0.8975 - val_accuracy: 0.6393\n",
      "Epoch 45/100\n",
      "26794/26794 [==============================] - 5s 197us/step - loss: 0.9021 - accuracy: 0.6341 - val_loss: 0.8950 - val_accuracy: 0.6384\n",
      "Epoch 46/100\n",
      "26794/26794 [==============================] - 5s 196us/step - loss: 0.8983 - accuracy: 0.6379 - val_loss: 0.8922 - val_accuracy: 0.6407\n",
      "Epoch 47/100\n",
      "26794/26794 [==============================] - 5s 194us/step - loss: 0.9026 - accuracy: 0.6322 - val_loss: 0.8963 - val_accuracy: 0.6360\n",
      "Epoch 48/100\n",
      "26794/26794 [==============================] - 5s 196us/step - loss: 0.8979 - accuracy: 0.6358 - val_loss: 0.9015 - val_accuracy: 0.6389\n",
      "Epoch 49/100\n",
      "26794/26794 [==============================] - 5s 193us/step - loss: 0.8960 - accuracy: 0.6349 - val_loss: 0.8919 - val_accuracy: 0.6396\n",
      "Epoch 50/100\n",
      "26794/26794 [==============================] - 5s 195us/step - loss: 0.8966 - accuracy: 0.6344 - val_loss: 0.8983 - val_accuracy: 0.6376\n",
      "Epoch 51/100\n",
      "26794/26794 [==============================] - 5s 193us/step - loss: 0.8987 - accuracy: 0.6366 - val_loss: 0.8973 - val_accuracy: 0.6442\n",
      "Epoch 52/100\n",
      "26794/26794 [==============================] - 5s 193us/step - loss: 0.8954 - accuracy: 0.6380 - val_loss: 0.9019 - val_accuracy: 0.6360\n",
      "Epoch 53/100\n",
      "26794/26794 [==============================] - 5s 195us/step - loss: 0.8947 - accuracy: 0.6385 - val_loss: 0.8894 - val_accuracy: 0.6399\n",
      "Epoch 54/100\n",
      "26794/26794 [==============================] - 5s 194us/step - loss: 0.8947 - accuracy: 0.6392 - val_loss: 0.9011 - val_accuracy: 0.6438\n",
      "Epoch 55/100\n"
     ]
    },
    {
     "name": "stdout",
     "output_type": "stream",
     "text": [
      "26794/26794 [==============================] - 5s 194us/step - loss: 0.8985 - accuracy: 0.6344 - val_loss: 0.8981 - val_accuracy: 0.6422\n",
      "Epoch 56/100\n",
      "26794/26794 [==============================] - 5s 194us/step - loss: 0.8917 - accuracy: 0.6360 - val_loss: 0.8965 - val_accuracy: 0.6427\n",
      "Epoch 57/100\n",
      "26794/26794 [==============================] - 5s 194us/step - loss: 0.8960 - accuracy: 0.6357 - val_loss: 0.8966 - val_accuracy: 0.6382\n",
      "Epoch 58/100\n",
      "26794/26794 [==============================] - 5s 193us/step - loss: 0.8937 - accuracy: 0.6379 - val_loss: 0.8897 - val_accuracy: 0.6470\n",
      "Epoch 59/100\n",
      "26794/26794 [==============================] - 5s 196us/step - loss: 0.8934 - accuracy: 0.6387 - val_loss: 0.8920 - val_accuracy: 0.6436\n",
      "Epoch 60/100\n",
      "26794/26794 [==============================] - 6s 210us/step - loss: 0.8906 - accuracy: 0.6401 - val_loss: 0.8960 - val_accuracy: 0.6415\n",
      "Epoch 61/100\n",
      "26794/26794 [==============================] - 5s 197us/step - loss: 0.8897 - accuracy: 0.6379 - val_loss: 0.8947 - val_accuracy: 0.6454\n",
      "Epoch 62/100\n",
      "26794/26794 [==============================] - 5s 193us/step - loss: 0.8857 - accuracy: 0.6412 - val_loss: 0.8898 - val_accuracy: 0.6420\n",
      "Epoch 63/100\n",
      "26794/26794 [==============================] - 5s 194us/step - loss: 0.8928 - accuracy: 0.6365 - val_loss: 0.8928 - val_accuracy: 0.6438\n",
      "Epoch 64/100\n",
      "26794/26794 [==============================] - 6s 206us/step - loss: 0.8890 - accuracy: 0.6409 - val_loss: 0.8949 - val_accuracy: 0.6410\n",
      "Epoch 65/100\n",
      "26794/26794 [==============================] - 6s 207us/step - loss: 0.8878 - accuracy: 0.6387 - val_loss: 0.8886 - val_accuracy: 0.6404\n",
      "Epoch 66/100\n",
      "26794/26794 [==============================] - 5s 201us/step - loss: 0.8884 - accuracy: 0.6389 - val_loss: 0.8838 - val_accuracy: 0.6434\n",
      "Epoch 67/100\n",
      "26794/26794 [==============================] - 5s 201us/step - loss: 0.8860 - accuracy: 0.6422 - val_loss: 0.8973 - val_accuracy: 0.6329\n",
      "Epoch 68/100\n",
      "26794/26794 [==============================] - 5s 204us/step - loss: 0.8836 - accuracy: 0.6437 - val_loss: 0.8970 - val_accuracy: 0.6403\n",
      "Epoch 69/100\n",
      "26794/26794 [==============================] - 5s 202us/step - loss: 0.8901 - accuracy: 0.6404 - val_loss: 0.8902 - val_accuracy: 0.6439\n",
      "Epoch 70/100\n",
      "26794/26794 [==============================] - 5s 201us/step - loss: 0.8883 - accuracy: 0.6421 - val_loss: 0.8904 - val_accuracy: 0.6398\n",
      "Epoch 71/100\n",
      "26794/26794 [==============================] - 5s 204us/step - loss: 0.8875 - accuracy: 0.6407 - val_loss: 0.8954 - val_accuracy: 0.6349\n",
      "Epoch 72/100\n",
      "26794/26794 [==============================] - 5s 203us/step - loss: 0.8882 - accuracy: 0.6404 - val_loss: 0.8967 - val_accuracy: 0.6434\n",
      "Epoch 73/100\n",
      "26794/26794 [==============================] - 5s 203us/step - loss: 0.8873 - accuracy: 0.6435 - val_loss: 0.8985 - val_accuracy: 0.6398\n",
      "Epoch 74/100\n",
      "  416/26794 [..............................] - ETA: 2:02 - loss: 0.9824 - accuracy: 0.6298"
     ]
    },
    {
     "name": "stderr",
     "output_type": "stream",
     "text": [
      "C:\\Users\\Asus\\Anaconda3\\lib\\site-packages\\keras\\callbacks\\callbacks.py:95: RuntimeWarning: Method (on_train_batch_end) is slow compared to the batch update (1.685251). Check your callbacks.\n",
      "  % (hook_name, delta_t_median), RuntimeWarning)\n",
      "C:\\Users\\Asus\\Anaconda3\\lib\\site-packages\\keras\\callbacks\\callbacks.py:95: RuntimeWarning: Method (on_train_batch_end) is slow compared to the batch update (0.847705). Check your callbacks.\n",
      "  % (hook_name, delta_t_median), RuntimeWarning)\n"
     ]
    },
    {
     "name": "stdout",
     "output_type": "stream",
     "text": [
      "26794/26794 [==============================] - 7s 264us/step - loss: 0.8839 - accuracy: 0.6415 - val_loss: 0.8814 - val_accuracy: 0.6446\n",
      "Epoch 75/100\n",
      "26794/26794 [==============================] - 5s 196us/step - loss: 0.8831 - accuracy: 0.6428 - val_loss: 0.8862 - val_accuracy: 0.6415\n",
      "Epoch 76/100\n",
      "26794/26794 [==============================] - 5s 197us/step - loss: 0.8816 - accuracy: 0.6414 - val_loss: 0.8887 - val_accuracy: 0.6355\n",
      "Epoch 77/100\n",
      "26794/26794 [==============================] - 6s 209us/step - loss: 0.8823 - accuracy: 0.6433 - val_loss: 0.8987 - val_accuracy: 0.6351\n",
      "Epoch 78/100\n",
      "26794/26794 [==============================] - 7s 259us/step - loss: 0.8787 - accuracy: 0.6441 - val_loss: 0.8865 - val_accuracy: 0.6384\n",
      "Epoch 79/100\n",
      "26794/26794 [==============================] - 6s 213us/step - loss: 0.8820 - accuracy: 0.6443 - val_loss: 0.8897 - val_accuracy: 0.6406\n",
      "Epoch 80/100\n",
      "26794/26794 [==============================] - 6s 206us/step - loss: 0.8811 - accuracy: 0.6428 - val_loss: 0.8908 - val_accuracy: 0.6376\n",
      "Epoch 81/100\n",
      "26794/26794 [==============================] - 5s 196us/step - loss: 0.8824 - accuracy: 0.6452 - val_loss: 0.8902 - val_accuracy: 0.6380\n",
      "Epoch 82/100\n",
      "26794/26794 [==============================] - 5s 198us/step - loss: 0.8811 - accuracy: 0.6438 - val_loss: 0.8933 - val_accuracy: 0.6402\n",
      "Epoch 83/100\n",
      "26794/26794 [==============================] - 5s 197us/step - loss: 0.8802 - accuracy: 0.6449 - val_loss: 0.8830 - val_accuracy: 0.6370\n",
      "Epoch 84/100\n",
      "26794/26794 [==============================] - 5s 197us/step - loss: 0.8839 - accuracy: 0.6400 - val_loss: 0.8989 - val_accuracy: 0.6375\n",
      "Epoch 85/100\n",
      "26794/26794 [==============================] - 5s 201us/step - loss: 0.8762 - accuracy: 0.6436 - val_loss: 0.8860 - val_accuracy: 0.6394\n",
      "Epoch 86/100\n",
      "26794/26794 [==============================] - 5s 202us/step - loss: 0.8816 - accuracy: 0.6451 - val_loss: 0.8890 - val_accuracy: 0.6448\n",
      "Epoch 87/100\n",
      "26794/26794 [==============================] - 5s 196us/step - loss: 0.8785 - accuracy: 0.6429 - val_loss: 0.8892 - val_accuracy: 0.6404\n",
      "Epoch 88/100\n",
      "26794/26794 [==============================] - 5s 197us/step - loss: 0.8773 - accuracy: 0.6440 - val_loss: 0.8847 - val_accuracy: 0.6455\n",
      "Epoch 89/100\n",
      "26794/26794 [==============================] - 5s 196us/step - loss: 0.8759 - accuracy: 0.6452 - val_loss: 0.8826 - val_accuracy: 0.6436\n",
      "Epoch 90/100\n",
      "26794/26794 [==============================] - 5s 195us/step - loss: 0.8733 - accuracy: 0.6505 - val_loss: 0.8950 - val_accuracy: 0.6408\n",
      "Epoch 91/100\n",
      "26794/26794 [==============================] - 5s 196us/step - loss: 0.8790 - accuracy: 0.6446 - val_loss: 0.8856 - val_accuracy: 0.6435\n",
      "Epoch 92/100\n",
      "26794/26794 [==============================] - 5s 198us/step - loss: 0.8764 - accuracy: 0.6447 - val_loss: 0.8851 - val_accuracy: 0.6414\n",
      "Epoch 93/100\n",
      "26794/26794 [==============================] - 5s 197us/step - loss: 0.8767 - accuracy: 0.6462 - val_loss: 0.8878 - val_accuracy: 0.6435\n",
      "Epoch 94/100\n",
      "26794/26794 [==============================] - 5s 197us/step - loss: 0.8771 - accuracy: 0.6444 - val_loss: 0.8844 - val_accuracy: 0.6383\n",
      "Epoch 95/100\n",
      "26794/26794 [==============================] - 5s 197us/step - loss: 0.8763 - accuracy: 0.6467 - val_loss: 0.8865 - val_accuracy: 0.6464\n",
      "Epoch 96/100\n",
      "26794/26794 [==============================] - 5s 196us/step - loss: 0.8774 - accuracy: 0.6458 - val_loss: 0.8860 - val_accuracy: 0.6418\n",
      "Epoch 97/100\n",
      "26794/26794 [==============================] - 5s 201us/step - loss: 0.8778 - accuracy: 0.6438 - val_loss: 0.8855 - val_accuracy: 0.6452\n",
      "Epoch 98/100\n",
      "26794/26794 [==============================] - 5s 199us/step - loss: 0.8739 - accuracy: 0.6441 - val_loss: 0.8828 - val_accuracy: 0.6435\n",
      "Epoch 99/100\n",
      "26794/26794 [==============================] - 5s 196us/step - loss: 0.8788 - accuracy: 0.6454 - val_loss: 0.8882 - val_accuracy: 0.6441\n",
      "Epoch 100/100\n",
      "26794/26794 [==============================] - 5s 198us/step - loss: 0.8736 - accuracy: 0.6470 - val_loss: 0.8872 - val_accuracy: 0.6457\n"
     ]
    }
   ],
   "source": [
    "model.compile(optimizer='adam', loss='sparse_categorical_crossentropy', metrics=['accuracy'])\n",
    "history = model.fit(X_train, y_train, validation_data = (X_test_val, y_test_val), epochs=100)"
   ]
  },
  {
   "cell_type": "code",
   "execution_count": 561,
   "metadata": {},
   "outputs": [
    {
     "name": "stdout",
     "output_type": "stream",
     "text": [
      "Train: 0.680, Validation: 0.646\n"
     ]
    },
    {
     "data": {
      "text/plain": [
       "<matplotlib.legend.Legend at 0x1ba24b405c8>"
      ]
     },
     "execution_count": 561,
     "metadata": {},
     "output_type": "execute_result"
    },
    {
     "data": {
      "image/png": "[encoded data removed]",
      "text/plain": [
       "<Figure size 432x288 with 1 Axes>"
      ]
     },
     "metadata": {
      "needs_background": "light"
     },
     "output_type": "display_data"
    }
   ],
   "source": [
    "from sklearn.model_selection import GridSearchCV\n",
    "from keras.wrappers.scikit_learn import KerasClassifier\n",
    "# model.predict(X_test_val)\n",
    "# model.evaluate(X_test_val, y_test_val)\n",
    "\n",
    "# evaluate the model\n",
    "_, train_acc = model.evaluate(X_train, y_train, verbose=0)\n",
    "_, test_acc = model.evaluate(X_test_val, y_test_val, verbose=0)\n",
    "print('Train: %.3f, Validation: %.3f' % (train_acc, test_acc))\n",
    "# plot loss during training\n",
    "plt.subplot(211)\n",
    "plt.title('Loss of Neural Network')\n",
    "plt.plot(history.history['loss'], label='train')\n",
    "plt.plot(history.history['val_loss'], label='test')\n",
    "plt.xlabel(\"Epochs\")\n",
    "plt.ylabel(\"Loss\")\n",
    "plt.legend()\n"
   ]
  },
  {
   "cell_type": "code",
   "execution_count": 562,
   "metadata": {},
   "outputs": [
    {
     "data": {
      "image/png": "[encoded data removed]",
      "text/plain": [
       "<Figure size 432x288 with 1 Axes>"
      ]
     },
     "metadata": {
      "needs_background": "light"
     },
     "output_type": "display_data"
    }
   ],
   "source": [
    "# plot accuracy during training\n",
    "plt.subplot(212)\n",
    "plt.title('Accuracy of Neural Network')\n",
    "plt.plot(history.history['accuracy'], label='train')\n",
    "plt.plot(history.history['val_accuracy'], label='test')\n",
    "plt.xlabel(\"Epochs\")\n",
    "plt.ylabel(\"Accuracy\")\n",
    "plt.legend()\n",
    "plt.show()\n",
    "\n"
   ]
  },
  {
   "cell_type": "code",
   "execution_count": 563,
   "metadata": {},
   "outputs": [
    {
     "name": "stdout",
     "output_type": "stream",
     "text": [
      "8932/8932 [==============================] - 1s 118us/step\n",
      "              precision    recall  f1-score   support\n",
      "\n",
      "           1       0.69      0.81      0.75      2831\n",
      "           2       0.76      0.28      0.41      1520\n",
      "           3       0.55      0.62      0.58      2353\n",
      "           4       0.66      0.71      0.68      2228\n",
      "\n",
      "    accuracy                           0.65      8932\n",
      "   macro avg       0.67      0.61      0.61      8932\n",
      "weighted avg       0.66      0.65      0.63      8932\n",
      "\n"
     ]
    },
    {
     "data": {
      "text/plain": [
       "array([[2291,   44,  302,  194],\n",
       "       [ 572,  432,  409,  107],\n",
       "       [ 276,   91, 1455,  531],\n",
       "       [ 180,    2,  457, 1589]], dtype=int64)"
      ]
     },
     "execution_count": 563,
     "metadata": {},
     "output_type": "execute_result"
    }
   ],
   "source": [
    "from sklearn.metrics import classification_report\n",
    "\n",
    "y_pred = model.predict(X_test_val, batch_size=64, verbose=1)\n",
    "y_pred_bool = np.argmax(y_pred, axis=1)\n",
    "\n",
    "print(classification_report(y_test_val, y_pred_bool))\n",
    "from sklearn.metrics import confusion_matrix\n",
    "confusion_matrix(y_test_val, y_pred_bool)"
   ]
  },
  {
   "cell_type": "code",
   "execution_count": 329,
   "metadata": {},
   "outputs": [
    {
     "name": "stdout",
     "output_type": "stream",
     "text": [
      "Accuracy: 0.338\n"
     ]
    }
   ],
   "source": [
    "from sklearn.dummy import DummyClassifier\n",
    "from sklearn.metrics import accuracy_score\n",
    "model = DummyClassifier(strategy='most_frequent')\n",
    "# fit model\n",
    "model.fit(X_train, y_train)\n",
    "# make predictions\n",
    "yhat = model.predict(X_test_val)\n",
    "# calculate accuracy\n",
    "accuracy = accuracy_score(y_test_val, yhat)\n",
    "print('Accuracy: %.3f' % accuracy)"
   ]
  },
  {
   "cell_type": "code",
   "execution_count": 521,
   "metadata": {},
   "outputs": [
    {
     "name": "stderr",
     "output_type": "stream",
     "text": [
      "C:\\Users\\Asus\\Anaconda3\\lib\\site-packages\\sklearn\\neural_network\\multilayer_perceptron.py:566: ConvergenceWarning: Stochastic Optimizer: Maximum iterations (200) reached and the optimization hasn't converged yet.\n",
      "  % self.max_iter, ConvergenceWarning)\n"
     ]
    },
    {
     "data": {
      "text/plain": [
       "0.6358038513210927"
      ]
     },
     "execution_count": 521,
     "metadata": {},
     "output_type": "execute_result"
    }
   ],
   "source": [
    "from sklearn.multiclass import OneVsRestClassifier\n",
    "from sklearn.neural_network import MLPClassifier\n",
    "classifier = MLPClassifier(hidden_layer_sizes = 100).fit(X_train, y_train)\n",
    "score = classifier.score(X_test_val, y_test_val)\n",
    "score"
   ]
  },
  {
   "cell_type": "code",
   "execution_count": 522,
   "metadata": {},
   "outputs": [
    {
     "name": "stdout",
     "output_type": "stream",
     "text": [
      "              precision    recall  f1-score   support\n",
      "\n",
      "           1       0.69      0.81      0.74      3019\n",
      "           2       0.50      0.41      0.45      1403\n",
      "           3       0.60      0.52      0.56      2264\n",
      "           4       0.65      0.66      0.66      2246\n",
      "\n",
      "    accuracy                           0.64      8932\n",
      "   macro avg       0.61      0.60      0.60      8932\n",
      "weighted avg       0.63      0.64      0.63      8932\n",
      "\n"
     ]
    }
   ],
   "source": [
    "y_pred = classifier.predict(X_test_val)\n",
    "\n",
    "print(classification_report(y_test_val, y_pred))"
   ]
  },
  {
   "cell_type": "code",
   "execution_count": 574,
   "metadata": {},
   "outputs": [
    {
     "name": "stderr",
     "output_type": "stream",
     "text": [
      "C:\\Users\\Asus\\Anaconda3\\lib\\site-packages\\sklearn\\ensemble\\forest.py:245: FutureWarning: The default value of n_estimators will change from 10 in version 0.20 to 100 in 0.22.\n",
      "  \"10 in version 0.20 to 100 in 0.22.\", FutureWarning)\n"
     ]
    },
    {
     "name": "stdout",
     "output_type": "stream",
     "text": [
      "0.6553963278101209\n",
      "              precision    recall  f1-score   support\n",
      "\n",
      "           1       0.69      0.82      0.75      2831\n",
      "           2       0.62      0.42      0.50      1520\n",
      "           3       0.61      0.56      0.59      2353\n",
      "           4       0.66      0.70      0.68      2228\n",
      "\n",
      "    accuracy                           0.66      8932\n",
      "   macro avg       0.65      0.63      0.63      8932\n",
      "weighted avg       0.65      0.66      0.65      8932\n",
      "\n"
     ]
    }
   ],
   "source": [
    "from sklearn.ensemble import RandomForestClassifier\n",
    "classifier1 = RandomForestClassifier().fit(X_train, y_train)\n",
    "score1 = classifier1.score(X_test_val, y_test_val)\n",
    "print(score1)\n",
    "\n",
    "y_pred1 = classifier1.predict(X_test_val)\n",
    "\n",
    "print(classification_report(y_test_val, y_pred1))"
   ]
  },
  {
   "cell_type": "code",
   "execution_count": 573,
   "metadata": {},
   "outputs": [
    {
     "name": "stderr",
     "output_type": "stream",
     "text": [
      "C:\\Users\\Asus\\Anaconda3\\lib\\site-packages\\sklearn\\ensemble\\forest.py:245: FutureWarning: The default value of n_estimators will change from 10 in version 0.20 to 100 in 0.22.\n",
      "  \"10 in version 0.20 to 100 in 0.22.\", FutureWarning)\n"
     ]
    },
    {
     "name": "stdout",
     "output_type": "stream",
     "text": [
      "0.6510300044782803\n",
      "              precision    recall  f1-score   support\n",
      "\n",
      "           1       0.70      0.82      0.76      2831\n",
      "           2       0.62      0.44      0.51      1520\n",
      "           3       0.61      0.57      0.59      2353\n",
      "           4       0.67      0.70      0.68      2228\n",
      "\n",
      "    accuracy                           0.66      8932\n",
      "   macro avg       0.65      0.63      0.64      8932\n",
      "weighted avg       0.65      0.66      0.65      8932\n",
      "\n"
     ]
    }
   ],
   "source": [
    "classifier2 = ExtraTreesClassifier().fit(X_train, y_train)\n",
    "score2 = classifier2.score(X_test_val, y_test_val)\n",
    "print(score1)\n",
    "\n",
    "y_pred2 = classifier2.predict(X_test_val)\n",
    "\n",
    "print(classification_report(y_test_val, y_pred2))"
   ]
  },
  {
   "cell_type": "code",
   "execution_count": null,
   "metadata": {},
   "outputs": [
    {
     "name": "stderr",
     "output_type": "stream",
     "text": [
      "C:\\Users\\Asus\\Anaconda3\\lib\\site-packages\\xgboost\\sklearn.py:1146: UserWarning: The use of label encoder in XGBClassifier is deprecated and will be removed in a future release. To remove this warning, do the following: 1) Pass option use_label_encoder=False when constructing XGBClassifier object; and 2) Encode your labels (y) as integers starting with 0, i.e. 0, 1, 2, ..., [num_class - 1].\n",
      "  warnings.warn(label_encoder_deprecation_msg, UserWarning)\n"
     ]
    },
    {
     "name": "stdout",
     "output_type": "stream",
     "text": [
      "[12:21:59] WARNING: C:/Users/Administrator/workspace/xgboost-win64_release_1.4.0/src/learner.cc:1095: Starting in XGBoost 1.3.0, the default evaluation metric used with the objective 'binary:logistic' was changed from 'error' to 'logloss'. Explicitly set eval_metric if you'd like to restore the old behavior.\n",
      "[12:22:04] WARNING: C:/Users/Administrator/workspace/xgboost-win64_release_1.4.0/src/learner.cc:1095: Starting in XGBoost 1.3.0, the default evaluation metric used with the objective 'binary:logistic' was changed from 'error' to 'logloss'. Explicitly set eval_metric if you'd like to restore the old behavior.\n"
     ]
    }
   ],
   "source": [
    "from xgboost import XGBClassifier\n",
    "modelXG = OneVsRestClassifier(XGBClassifier(base_score = 0.8, booster='gbtree'))\n",
    "# modelXG = XGBClassifier(base_score = 0.5, booster='gbtree')\n",
    "modelXG.fit(X_train, y_train)"
   ]
  },
  {
   "cell_type": "code",
   "execution_count": null,
   "metadata": {},
   "outputs": [],
   "source": [
    "from sklearn.metrics import accuracy_score\n",
    "y_pred = modelXG.predict(X_test_val)\n",
    "# predictions = [round(value) for value in y_pred]\n",
    "# evaluate predictions\n",
    "# y_pred_bool = np.argmax(y_pred, axis=1)\n",
    "\n",
    "print(classification_report(y_test_val, y_pred))\n",
    "\n",
    "accuracy = accuracy_score(y_test_val, y_pred)\n",
    "print(\"Accuracy: %.2f%%\" % (accuracy * 100.0))"
   ]
  },
  {
   "cell_type": "code",
   "execution_count": null,
   "metadata": {},
   "outputs": [],
   "source": []
  },
  {
   "cell_type": "code",
   "execution_count": null,
   "metadata": {},
   "outputs": [],
   "source": []
  }
 ],
 "metadata": {
  "kernelspec": {
   "display_name": "Python 3",
   "language": "python",
   "name": "python3"
  },
  "language_info": {
   "codemirror_mode": {
    "name": "ipython",
    "version": 3
   },
   "file_extension": ".py",
   "mimetype": "text/x-python",
   "name": "python",
   "nbconvert_exporter": "python",
   "pygments_lexer": "ipython3",
   "version": "3.7.4"
  }
 },
 "nbformat": 4,
 "nbformat_minor": 2
}
