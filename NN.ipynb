{
 "cells": [
  {
   "cell_type": "code",
   "execution_count": 1,
   "metadata": {},
   "outputs": [
    {
     "name": "stdout",
     "output_type": "stream",
     "text": [
      "0.23.2\n"
     ]
    }
   ],
   "source": [
    "import pandas as pd\n",
    "import numpy as np\n",
    "import tensorflow as tf\n",
    "from tensorflow import keras\n",
    "from tensorflow.keras import layers\n",
    "from sklearn.model_selection import train_test_split\n",
    "import seaborn as sns\n",
    "import matplotlib\n",
    "import matplotlib.pyplot as plt\n",
    "\n",
    "\n",
    "from sklearn.cluster import KMeans\n",
    "import pandas as pd\n",
    "import pickle\n",
    "import string\n",
    "import re\n",
    "import string\n",
    "from sklearn.model_selection import cross_validate as cross_validation, ShuffleSplit, cross_val_score, train_test_split, KFold\n",
    "from sklearn.model_selection import GridSearchCV, RandomizedSearchCV\n",
    "from sklearn.metrics import classification_report, accuracy_score, auc\n",
    "import numpy as np\n",
    "import matplotlib.pyplot as plt\n",
    "import seaborn as sns\n",
    "from pathlib import Path\n",
    "from sklearn.svm import *\n",
    "# from sklearn.tree import *\n",
    "from sklearn.neural_network import *\n",
    "from sklearn.linear_model import *\n",
    "from sklearn.ensemble import ExtraTreesClassifier\n",
    "from sklearn.preprocessing import OneHotEncoder\n",
    "from sklearn.experimental import enable_iterative_imputer\n",
    "from sklearn.linear_model import *\n",
    "from sklearn.tree import *\n",
    "from sklearn.ensemble import *\n",
    "from sklearn.ensemble import RandomForestClassifier\n",
    "from sklearn.neighbors import *\n",
    "from sklearn.impute import IterativeImputer\n",
    "from sklearn.naive_bayes import *\n",
    "import pickle\n",
    "from sklearn.svm import SVC\n",
    "from sklearn.preprocessing import StandardScaler\n",
    "from sklearn.datasets import make_classification\n",
    "from sklearn.model_selection import train_test_split\n",
    "from sklearn.pipeline import Pipeline\n",
    "import warnings\n",
    "warnings.filterwarnings(\"ignore\", category=DeprecationWarning) \n",
    "\n",
    "from sklearn import __version__\n",
    "\n",
    "print(__version__)\n",
    "\n"
   ]
  },
  {
   "cell_type": "code",
   "execution_count": 2,
   "metadata": {},
   "outputs": [
    {
     "name": "stdout",
     "output_type": "stream",
     "text": [
      "['YEAR', 'ITERATION', 'GPS_LAT', 'GPS_LON', 'GPS_ALT', 'HHsizemembers', 'HHsizeMAE', 'LandOwned', 'LandCultivated', 'LivestockHoldings', 'NrofMonthsFoodInsecure', 'PPI_Threshold', 'PPI_Likelihood', 'score_HDDS_GoodSeason', 'score_HDDS_farmbasedGoodSeason', 'score_HDDS_purchasedGoodSeason', 'score_HDDS_BadSeason', 'score_HDDS_farmbasedBadSeason', 'score_HDDS_purchasedBadSeason', 'TVA_USD_PPP_pmae_pday', 'currency_conversion_factor', 'total_income_USD_PPP_pHH_Yr', 'offfarm_income_USD_PPP_pHH_Yr', 'farm_income_USD_PPP_pHH_Yr', 'value_farm_produce_USD_PPP_pHH_Yr', 'crop_sales_USD_PPP_pHH_Yr', 'value_crop_produce_USD_PPP_pHH_Yr', 'value_crop_consumed_USD_PPP_pHH_Yr', 'livestock_prodsales_USD_PPP_pHH_Yr', 'value_livestock_production_USD_PPP_pHH_Yr', 'value_livestock_prod_consumed_USD_PPP_pHH_Yr', 'Market_Orientation', 'Livestock_Orientation', 'Food_Availability_kCal_MAE_day', 'Food_Self_Sufficiency_kCal_MAE_day', 'NrofMonthsWildFoodCons', 'GHGEmissions', 'Gender_MaleControl', 'Gender_FemaleControl', 'NFertInput', 'Food_InsecurityLevel', 'sinBestFoodSecMonth', 'cosBestFoodSecMonth', 'sinWorstFoodSecMonth', 'cosWorstFoodSecMonth', 'Head_EducationLevel_<Other>', 'Head_EducationLevel_<illiterate>', 'Head_EducationLevel_<literate>', 'Head_EducationLevel_<no_school>', 'Head_EducationLevel_<postsecondary>', 'Head_EducationLevel_<primary>', 'Head_EducationLevel_<secondary>', 'HouseholdType_<childhead>', 'HouseholdType_<couple>', 'HouseholdType_<couple_man_works_away>', 'HouseholdType_<couple_polygamous>', 'HouseholdType_<couple_woman_works_away>', 'HouseholdType_<man_single>', 'HouseholdType_<nonparenthead>', 'HouseholdType_<other>', 'HouseholdType_<polygamous>', 'HouseholdType_<single>', 'HouseholdType_<together>', 'HouseholdType_<woman_single>', 'HouseholdType_<workaway>', 'Country_<Bolivia>', 'Country_<Burkina_Faso>', 'Country_<Burundi>', 'Country_<Cambodia>', 'Country_<Comoros>', 'Country_<Costa_Rica>', \"Country_<Cote d'Ivoire>\", 'Country_<DRC>', 'Country_<Ecuador>', 'Country_<El_Salvador>', 'Country_<Ethiopia>', 'Country_<Ghana>', 'Country_<Guatemala>', 'Country_<Honduras>', 'Country_<India>', 'Country_<Kenya>', 'Country_<LaoPDR>', 'Country_<Malawi>', 'Country_<Mali>', 'Country_<Morocco>', 'Country_<Nicaragua>', 'Country_<Niger>', 'Country_<Nigeria>', 'Country_<Palestine>', 'Country_<Peru>', 'Country_<Rwanda>', 'Country_<Senegal>', 'Country_<Sierra Leone>', 'Country_<South Africa>', 'Country_<Tanzania>', 'Country_<Uganda>', 'Country_<Vietnam>', 'Country_<Zambia>']\n"
     ]
    },
    {
     "data": {
      "text/plain": [
       "(35726, 98)"
      ]
     },
     "execution_count": 2,
     "metadata": {},
     "output_type": "execute_result"
    }
   ],
   "source": [
    "# data = pd.read_pickle('imputed_data_forest_corr.pkl')\n",
    "data = pd.read_pickle('imputed_data_forest_2.pkl')\n",
    "\n",
    "print(list(data.columns))\n",
    "data.shape"
   ]
  },
  {
   "cell_type": "code",
   "execution_count": 3,
   "metadata": {},
   "outputs": [
    {
     "name": "stdout",
     "output_type": "stream",
     "text": [
      "0        3\n",
      "1        4\n",
      "2        4\n",
      "3        2\n",
      "4        4\n",
      "        ..\n",
      "35721    1\n",
      "35722    1\n",
      "35723    1\n",
      "35724    1\n",
      "35725    1\n",
      "Name: Food_InsecurityLevel, Length: 35726, dtype: int32\n",
      "(35726, 70)\n"
     ]
    },
    {
     "data": {
      "text/plain": [
       "(35726,)"
      ]
     },
     "execution_count": 3,
     "metadata": {},
     "output_type": "execute_result"
    }
   ],
   "source": [
    "X = data.drop(['Food_InsecurityLevel','YEAR','currency_conversion_factor'],axis=1)\n",
    "# X = data.drop(['Food_InsecurityLevel'],axis=1)\n",
    "y = data['Food_InsecurityLevel']\n",
    "print(y)\n",
    "\n",
    "from sklearn.feature_selection import f_classif\n",
    "from sklearn.feature_selection import SelectKBest\n",
    "from sklearn.feature_selection import f_regression\n",
    "from sklearn.feature_selection import mutual_info_classif\n",
    "from sklearn.feature_selection import SelectFromModel\n",
    "from sklearn.svm import LinearSVC\n",
    "from sklearn.ensemble import ExtraTreesClassifier\n",
    "from sklearn.feature_selection import SelectFromModel\n",
    "from sklearn.ensemble import RandomForestClassifier\n",
    "from sklearn.ensemble import AdaBoostClassifier\n",
    "from sklearn.ensemble import GradientBoostingClassifier\n",
    "from sklearn.feature_selection import SelectFromModel\n",
    "\n",
    "# from sklearn.preprocessing import StandardScaler\n",
    "# scaler = StandardScaler()\n",
    "# X_new = scaler.fit_transform(X)\n",
    "# X_new\n",
    "\n",
    "from sklearn.preprocessing import MinMaxScaler\n",
    "scaler = MinMaxScaler()\n",
    "X_new = scaler.fit_transform(X)\n",
    "\n",
    "# from sklearn.feature_selection import SelectFromModel\n",
    "# from sklearn.decomposition import KernelPCA\n",
    "# transformer = SelectFromModel(estimator=RandomForestRegressor()).fit(X_new, y)\n",
    "# X_new = transformer.transform(X_new)\n",
    "# X_new.shape\n",
    "\n",
    "fs_ = SelectKBest(score_func=mutual_info_classif, k=70)\n",
    "fs_.fit(X_new, y)\n",
    "mi_support = fs_.get_support()\n",
    "X_new = fs_.transform(X_new)\n",
    "\n",
    "# clf = ExtraTreesClassifier(n_estimators=60)\n",
    "# clf = clf.fit(X, y)\n",
    "# clf.feature_importances_  \n",
    "# model = SelectFromModel(clf, prefit=True)\n",
    "\n",
    "# lsvc = LinearSVC(C=0.01, penalty=\"l1\", dual=False).fit(X_new, y)\n",
    "# model = SelectFromModel(lsvc, prefit=True)\n",
    "# X_new = model.transform(X_new)\n",
    "\n",
    "# transformer = SelectFromModel(estimator=AdaBoostClassifier()).fit(X_new, y)\n",
    "# X_new = transformer.transform(X_new)\n",
    "\n",
    "# from keras.utils import to_categorical\n",
    "# y = to_categorical(y)\n",
    "# y = y[:,[1,2,3,4]]\n",
    "print(X_new.shape)\n",
    "y.shape"
   ]
  },
  {
   "cell_type": "code",
   "execution_count": 4,
   "metadata": {},
   "outputs": [],
   "source": [
    "X_train, X_test_val, y_train, y_test_val = train_test_split(X_new, y, test_size=0.25, random_state=0)\n",
    "# X_val, X_test, y_val, y_test = train_test_split(X_test_val, y_test_val, test_size=0.25, random_state=0)\n",
    "# X_train = X_train[:2]\n",
    "# X_test_val = X_test_val[:2]\n",
    "# y_train = y_train[:2]\n",
    "# y_test_val = y_test_val[:2]"
   ]
  },
  {
   "cell_type": "code",
   "execution_count": 5,
   "metadata": {},
   "outputs": [
    {
     "name": "stdout",
     "output_type": "stream",
     "text": [
      "(26794, 70)\n",
      "(26794,)\n",
      "(8932, 70)\n",
      "(8932,)\n"
     ]
    }
   ],
   "source": [
    "print(X_train.shape)\n",
    "print(y_train.shape)\n",
    "print(X_test_val.shape)\n",
    "print(y_test_val.shape)"
   ]
  },
  {
   "cell_type": "code",
   "execution_count": 7,
   "metadata": {},
   "outputs": [],
   "source": [
    "from keras.layers import Input\n",
    "from keras.layers import Dense\n",
    "from keras.layers import Dropout\n",
    "from keras.models import Model\n",
    "from keras import regularizers\n",
    "\n",
    "input_layer = Input(shape=(70,))\n",
    "hidden_layer1 = Dense(256, activation='relu')(input_layer)\n",
    "dropout_1 = Dropout(0.6)(hidden_layer1)\n",
    "hidden_layer2 = Dense(256, activation='relu')(dropout_1)\n",
    "dropout_2 = Dropout(0.6)(hidden_layer2)\n",
    "hidden_layer3 = Dense(128, activation='relu')(dropout_2)\n",
    "dropout_3 = Dropout(0.6)(hidden_layer3)\n",
    "hidden_layer4 = Dense(128, activation='relu')(dropout_3)\n",
    "dropout_4 = Dropout(0.6)(hidden_layer4)\n",
    "hidden_layer5 = Dense(128, activation='relu')(dropout_4)\n",
    "output = Dense(5, activation='softmax')(hidden_layer5)\n",
    "model = Model(inputs = input_layer, outputs = output)\n",
    "\n",
    "\n",
    "\n",
    "# model = Sequential()\n",
    "# model.add(Dense(300, input_dim=89, activation='relu'))\n",
    "# model.add(Dropout(0.5))\n",
    "# model.add(Dense(300, activation='relu'))\n",
    "# model.add(Dropout(0.5))\n",
    "# model.add(Dense(300, activation='relu'))\n",
    "# model.add(Dropout(0.5))\n",
    "# model.add(Dense(5, activation='softmax'))"
   ]
  },
  {
   "cell_type": "code",
   "execution_count": 8,
   "metadata": {},
   "outputs": [
    {
     "name": "stdout",
     "output_type": "stream",
     "text": [
      "Model: \"functional_3\"\n",
      "_________________________________________________________________\n",
      "Layer (type)                 Output Shape              Param #   \n",
      "=================================================================\n",
      "input_2 (InputLayer)         [(None, 70)]              0         \n",
      "_________________________________________________________________\n",
      "dense_6 (Dense)              (None, 256)               18176     \n",
      "_________________________________________________________________\n",
      "dropout_4 (Dropout)          (None, 256)               0         \n",
      "_________________________________________________________________\n",
      "dense_7 (Dense)              (None, 256)               65792     \n",
      "_________________________________________________________________\n",
      "dropout_5 (Dropout)          (None, 256)               0         \n",
      "_________________________________________________________________\n",
      "dense_8 (Dense)              (None, 128)               32896     \n",
      "_________________________________________________________________\n",
      "dropout_6 (Dropout)          (None, 128)               0         \n",
      "_________________________________________________________________\n",
      "dense_9 (Dense)              (None, 128)               16512     \n",
      "_________________________________________________________________\n",
      "dropout_7 (Dropout)          (None, 128)               0         \n",
      "_________________________________________________________________\n",
      "dense_10 (Dense)             (None, 128)               16512     \n",
      "_________________________________________________________________\n",
      "dense_11 (Dense)             (None, 5)                 645       \n",
      "=================================================================\n",
      "Total params: 150,533\n",
      "Trainable params: 150,533\n",
      "Non-trainable params: 0\n",
      "_________________________________________________________________\n"
     ]
    }
   ],
   "source": [
    "model.summary()"
   ]
  },
  {
   "cell_type": "code",
   "execution_count": 9,
   "metadata": {
    "scrolled": true
   },
   "outputs": [
    {
     "name": "stdout",
     "output_type": "stream",
     "text": [
      "Epoch 1/100\n",
      "838/838 [==============================] - 6s 7ms/step - loss: 1.2536 - accuracy: 0.4207 - val_loss: 1.0742 - val_accuracy: 0.5212\n",
      "Epoch 2/100\n",
      "838/838 [==============================] - 7s 9ms/step - loss: 1.1015 - accuracy: 0.5268 - val_loss: 1.0663 - val_accuracy: 0.5493\n",
      "Epoch 3/100\n",
      "838/838 [==============================] - 7s 9ms/step - loss: 1.0532 - accuracy: 0.5591 - val_loss: 1.0073 - val_accuracy: 0.5784\n",
      "Epoch 4/100\n",
      "838/838 [==============================] - 7s 9ms/step - loss: 1.0324 - accuracy: 0.5681 - val_loss: 1.0080 - val_accuracy: 0.5843\n",
      "Epoch 5/100\n",
      "838/838 [==============================] - 7s 9ms/step - loss: 1.0153 - accuracy: 0.5786 - val_loss: 0.9879 - val_accuracy: 0.5996\n",
      "Epoch 6/100\n",
      "838/838 [==============================] - 7s 9ms/step - loss: 1.0109 - accuracy: 0.5828 - val_loss: 0.9801 - val_accuracy: 0.5955\n",
      "Epoch 7/100\n",
      "838/838 [==============================] - 7s 9ms/step - loss: 0.9993 - accuracy: 0.5879 - val_loss: 0.9921 - val_accuracy: 0.5983\n",
      "Epoch 8/100\n",
      "838/838 [==============================] - 7s 9ms/step - loss: 0.9928 - accuracy: 0.5884 - val_loss: 0.9818 - val_accuracy: 0.6028\n",
      "Epoch 9/100\n",
      "838/838 [==============================] - 7s 8ms/step - loss: 0.9894 - accuracy: 0.5924 - val_loss: 0.9613 - val_accuracy: 0.6089\n",
      "Epoch 10/100\n",
      "838/838 [==============================] - 7s 9ms/step - loss: 0.9868 - accuracy: 0.5969 - val_loss: 0.9777 - val_accuracy: 0.6042\n",
      "Epoch 11/100\n",
      "838/838 [==============================] - 7s 9ms/step - loss: 0.9776 - accuracy: 0.5979 - val_loss: 0.9532 - val_accuracy: 0.6112\n",
      "Epoch 12/100\n",
      "838/838 [==============================] - 7s 9ms/step - loss: 0.9737 - accuracy: 0.6001 - val_loss: 0.9657 - val_accuracy: 0.6139\n",
      "Epoch 13/100\n",
      "838/838 [==============================] - 7s 9ms/step - loss: 0.9720 - accuracy: 0.6003 - val_loss: 0.9584 - val_accuracy: 0.6154\n",
      "Epoch 14/100\n",
      "838/838 [==============================] - 7s 9ms/step - loss: 0.9671 - accuracy: 0.6016 - val_loss: 0.9547 - val_accuracy: 0.6111\n",
      "Epoch 15/100\n",
      "838/838 [==============================] - 6s 8ms/step - loss: 0.9658 - accuracy: 0.6009 - val_loss: 0.9537 - val_accuracy: 0.6152\n",
      "Epoch 16/100\n",
      "838/838 [==============================] - 7s 9ms/step - loss: 0.9596 - accuracy: 0.6080 - val_loss: 0.9477 - val_accuracy: 0.6164\n",
      "Epoch 17/100\n",
      "838/838 [==============================] - 7s 8ms/step - loss: 0.9598 - accuracy: 0.6069 - val_loss: 0.9506 - val_accuracy: 0.6150\n",
      "Epoch 18/100\n",
      "838/838 [==============================] - 6s 7ms/step - loss: 0.9566 - accuracy: 0.6104 - val_loss: 0.9355 - val_accuracy: 0.6211\n",
      "Epoch 19/100\n",
      "838/838 [==============================] - 7s 9ms/step - loss: 0.9529 - accuracy: 0.6114 - val_loss: 0.9395 - val_accuracy: 0.6227\n",
      "Epoch 20/100\n",
      "838/838 [==============================] - 7s 9ms/step - loss: 0.9495 - accuracy: 0.6108 - val_loss: 0.9430 - val_accuracy: 0.6199\n",
      "Epoch 21/100\n",
      "838/838 [==============================] - 7s 9ms/step - loss: 0.9509 - accuracy: 0.6116 - val_loss: 0.9427 - val_accuracy: 0.6159\n",
      "Epoch 22/100\n",
      "838/838 [==============================] - 7s 9ms/step - loss: 0.9496 - accuracy: 0.6139 - val_loss: 0.9408 - val_accuracy: 0.6180\n",
      "Epoch 23/100\n",
      "838/838 [==============================] - 7s 9ms/step - loss: 0.9445 - accuracy: 0.6139 - val_loss: 0.9361 - val_accuracy: 0.6254\n",
      "Epoch 24/100\n",
      "838/838 [==============================] - 7s 9ms/step - loss: 0.9418 - accuracy: 0.6146 - val_loss: 0.9363 - val_accuracy: 0.6242\n",
      "Epoch 25/100\n",
      "838/838 [==============================] - 7s 9ms/step - loss: 0.9470 - accuracy: 0.6158 - val_loss: 0.9329 - val_accuracy: 0.6229\n",
      "Epoch 26/100\n",
      "838/838 [==============================] - 7s 9ms/step - loss: 0.9427 - accuracy: 0.6155 - val_loss: 0.9207 - val_accuracy: 0.6263\n",
      "Epoch 27/100\n",
      "838/838 [==============================] - 7s 9ms/step - loss: 0.9387 - accuracy: 0.6161 - val_loss: 0.9290 - val_accuracy: 0.6247\n",
      "Epoch 28/100\n",
      "838/838 [==============================] - 7s 9ms/step - loss: 0.9438 - accuracy: 0.6164 - val_loss: 0.9255 - val_accuracy: 0.6198\n",
      "Epoch 29/100\n",
      "838/838 [==============================] - 7s 9ms/step - loss: 0.9404 - accuracy: 0.6163 - val_loss: 0.9278 - val_accuracy: 0.6236\n",
      "Epoch 30/100\n",
      "838/838 [==============================] - 7s 9ms/step - loss: 0.9357 - accuracy: 0.6210 - val_loss: 0.9257 - val_accuracy: 0.6243\n",
      "Epoch 31/100\n",
      "838/838 [==============================] - 7s 9ms/step - loss: 0.9368 - accuracy: 0.6183 - val_loss: 0.9381 - val_accuracy: 0.6211\n",
      "Epoch 32/100\n",
      "838/838 [==============================] - 6s 7ms/step - loss: 0.9327 - accuracy: 0.6192 - val_loss: 0.9296 - val_accuracy: 0.6273\n",
      "Epoch 33/100\n",
      "838/838 [==============================] - 7s 8ms/step - loss: 0.9344 - accuracy: 0.6168 - val_loss: 0.9279 - val_accuracy: 0.6244\n",
      "Epoch 34/100\n",
      "838/838 [==============================] - 7s 9ms/step - loss: 0.9361 - accuracy: 0.6186 - val_loss: 0.9254 - val_accuracy: 0.6275\n",
      "Epoch 35/100\n",
      "838/838 [==============================] - 4s 5ms/step - loss: 0.9330 - accuracy: 0.6214 - val_loss: 0.9274 - val_accuracy: 0.6223\n",
      "Epoch 36/100\n",
      "838/838 [==============================] - 7s 9ms/step - loss: 0.9278 - accuracy: 0.6240 - val_loss: 0.9165 - val_accuracy: 0.6295\n",
      "Epoch 37/100\n",
      "838/838 [==============================] - 7s 9ms/step - loss: 0.9248 - accuracy: 0.6225 - val_loss: 0.9192 - val_accuracy: 0.6282\n",
      "Epoch 38/100\n",
      "838/838 [==============================] - 7s 9ms/step - loss: 0.9266 - accuracy: 0.6245 - val_loss: 0.9184 - val_accuracy: 0.6336\n",
      "Epoch 39/100\n",
      "838/838 [==============================] - 6s 8ms/step - loss: 0.9279 - accuracy: 0.6239 - val_loss: 0.9224 - val_accuracy: 0.6318\n",
      "Epoch 40/100\n",
      "838/838 [==============================] - 6s 7ms/step - loss: 0.9256 - accuracy: 0.6239 - val_loss: 0.9188 - val_accuracy: 0.6319\n",
      "Epoch 41/100\n",
      "838/838 [==============================] - 7s 9ms/step - loss: 0.9266 - accuracy: 0.6250 - val_loss: 0.9180 - val_accuracy: 0.6299\n",
      "Epoch 42/100\n",
      "838/838 [==============================] - 7s 9ms/step - loss: 0.9241 - accuracy: 0.6229 - val_loss: 0.9177 - val_accuracy: 0.6266\n",
      "Epoch 43/100\n",
      "838/838 [==============================] - 7s 9ms/step - loss: 0.9232 - accuracy: 0.6273 - val_loss: 0.9182 - val_accuracy: 0.6393\n",
      "Epoch 44/100\n",
      "838/838 [==============================] - 7s 8ms/step - loss: 0.9250 - accuracy: 0.6235 - val_loss: 0.9133 - val_accuracy: 0.6270\n",
      "Epoch 45/100\n",
      "838/838 [==============================] - 7s 9ms/step - loss: 0.9175 - accuracy: 0.6272 - val_loss: 0.9130 - val_accuracy: 0.6302\n",
      "Epoch 46/100\n",
      "838/838 [==============================] - 7s 9ms/step - loss: 0.9243 - accuracy: 0.6254 - val_loss: 0.9183 - val_accuracy: 0.6328\n",
      "Epoch 47/100\n",
      "838/838 [==============================] - 7s 9ms/step - loss: 0.9184 - accuracy: 0.6247 - val_loss: 0.9124 - val_accuracy: 0.6331\n",
      "Epoch 48/100\n",
      "838/838 [==============================] - 7s 9ms/step - loss: 0.9214 - accuracy: 0.6272 - val_loss: 0.9080 - val_accuracy: 0.6319\n",
      "Epoch 49/100\n",
      "838/838 [==============================] - 7s 9ms/step - loss: 0.9191 - accuracy: 0.6235 - val_loss: 0.9161 - val_accuracy: 0.6370\n",
      "Epoch 50/100\n",
      "838/838 [==============================] - 7s 9ms/step - loss: 0.9216 - accuracy: 0.6260 - val_loss: 0.9082 - val_accuracy: 0.6354\n",
      "Epoch 51/100\n",
      "838/838 [==============================] - 7s 9ms/step - loss: 0.9194 - accuracy: 0.6243 - val_loss: 0.9171 - val_accuracy: 0.6309\n",
      "Epoch 52/100\n",
      "838/838 [==============================] - 7s 9ms/step - loss: 0.9168 - accuracy: 0.6244 - val_loss: 0.9128 - val_accuracy: 0.6322\n",
      "Epoch 53/100\n",
      "838/838 [==============================] - 7s 9ms/step - loss: 0.9130 - accuracy: 0.6295 - val_loss: 0.9025 - val_accuracy: 0.6366\n",
      "Epoch 54/100\n",
      "838/838 [==============================] - 6s 8ms/step - loss: 0.9157 - accuracy: 0.6301 - val_loss: 0.9116 - val_accuracy: 0.6348\n",
      "Epoch 55/100\n",
      "838/838 [==============================] - 7s 9ms/step - loss: 0.9129 - accuracy: 0.6328 - val_loss: 0.9129 - val_accuracy: 0.6352\n",
      "Epoch 56/100\n",
      "838/838 [==============================] - 7s 9ms/step - loss: 0.9182 - accuracy: 0.6281 - val_loss: 0.9115 - val_accuracy: 0.6385\n",
      "Epoch 57/100\n",
      "838/838 [==============================] - 7s 9ms/step - loss: 0.9162 - accuracy: 0.6282 - val_loss: 0.9129 - val_accuracy: 0.6322\n"
     ]
    },
    {
     "name": "stdout",
     "output_type": "stream",
     "text": [
      "Epoch 58/100\n",
      "838/838 [==============================] - 7s 8ms/step - loss: 0.9106 - accuracy: 0.6313 - val_loss: 0.9119 - val_accuracy: 0.6352\n",
      "Epoch 59/100\n",
      "838/838 [==============================] - 7s 8ms/step - loss: 0.9126 - accuracy: 0.6321 - val_loss: 0.9131 - val_accuracy: 0.6318\n",
      "Epoch 60/100\n",
      "838/838 [==============================] - 7s 8ms/step - loss: 0.9105 - accuracy: 0.6325 - val_loss: 0.9101 - val_accuracy: 0.6313\n",
      "Epoch 61/100\n",
      "838/838 [==============================] - 7s 8ms/step - loss: 0.9117 - accuracy: 0.6290 - val_loss: 0.9130 - val_accuracy: 0.6270\n",
      "Epoch 62/100\n",
      "838/838 [==============================] - 7s 8ms/step - loss: 0.9105 - accuracy: 0.6325 - val_loss: 0.9149 - val_accuracy: 0.6311\n",
      "Epoch 63/100\n",
      "838/838 [==============================] - 7s 8ms/step - loss: 0.9106 - accuracy: 0.6291 - val_loss: 0.9097 - val_accuracy: 0.6272\n",
      "Epoch 64/100\n",
      "838/838 [==============================] - 7s 8ms/step - loss: 0.9104 - accuracy: 0.6324 - val_loss: 0.9018 - val_accuracy: 0.6351\n",
      "Epoch 65/100\n",
      "838/838 [==============================] - 7s 8ms/step - loss: 0.9102 - accuracy: 0.6312 - val_loss: 0.8950 - val_accuracy: 0.6374\n",
      "Epoch 66/100\n",
      "838/838 [==============================] - 7s 9ms/step - loss: 0.9096 - accuracy: 0.6307 - val_loss: 0.9075 - val_accuracy: 0.6338\n",
      "Epoch 67/100\n",
      "838/838 [==============================] - 7s 8ms/step - loss: 0.9041 - accuracy: 0.6341 - val_loss: 0.9000 - val_accuracy: 0.6369\n",
      "Epoch 68/100\n",
      "838/838 [==============================] - 7s 9ms/step - loss: 0.9076 - accuracy: 0.6331 - val_loss: 0.9015 - val_accuracy: 0.6360\n",
      "Epoch 69/100\n",
      "838/838 [==============================] - 7s 8ms/step - loss: 0.9105 - accuracy: 0.6323 - val_loss: 0.8987 - val_accuracy: 0.6338\n",
      "Epoch 70/100\n",
      "838/838 [==============================] - 7s 8ms/step - loss: 0.9079 - accuracy: 0.6341 - val_loss: 0.9010 - val_accuracy: 0.6341\n",
      "Epoch 71/100\n",
      "838/838 [==============================] - 7s 9ms/step - loss: 0.9085 - accuracy: 0.6331 - val_loss: 0.8972 - val_accuracy: 0.6457\n",
      "Epoch 72/100\n",
      "838/838 [==============================] - 7s 9ms/step - loss: 0.9091 - accuracy: 0.6319 - val_loss: 0.8916 - val_accuracy: 0.6356\n",
      "Epoch 73/100\n",
      "838/838 [==============================] - 7s 9ms/step - loss: 0.9109 - accuracy: 0.6317 - val_loss: 0.9016 - val_accuracy: 0.6361\n",
      "Epoch 74/100\n",
      "838/838 [==============================] - 7s 8ms/step - loss: 0.9008 - accuracy: 0.6355 - val_loss: 0.8943 - val_accuracy: 0.6307\n",
      "Epoch 75/100\n",
      "838/838 [==============================] - 5s 6ms/step - loss: 0.9042 - accuracy: 0.6335 - val_loss: 0.8950 - val_accuracy: 0.6401\n",
      "Epoch 76/100\n",
      "838/838 [==============================] - 4s 5ms/step - loss: 0.9054 - accuracy: 0.6325 - val_loss: 0.9008 - val_accuracy: 0.6389\n",
      "Epoch 77/100\n",
      "838/838 [==============================] - 6s 8ms/step - loss: 0.9039 - accuracy: 0.6348 - val_loss: 0.9029 - val_accuracy: 0.6329\n",
      "Epoch 78/100\n",
      "838/838 [==============================] - 8s 10ms/step - loss: 0.9035 - accuracy: 0.6320 - val_loss: 0.8897 - val_accuracy: 0.6339\n",
      "Epoch 79/100\n",
      "838/838 [==============================] - 9s 10ms/step - loss: 0.9053 - accuracy: 0.6334 - val_loss: 0.8960 - val_accuracy: 0.6347\n",
      "Epoch 80/100\n",
      "838/838 [==============================] - 9s 10ms/step - loss: 0.9016 - accuracy: 0.6342 - val_loss: 0.8974 - val_accuracy: 0.6350\n",
      "Epoch 81/100\n",
      "838/838 [==============================] - 9s 10ms/step - loss: 0.9014 - accuracy: 0.6330 - val_loss: 0.8981 - val_accuracy: 0.6379\n",
      "Epoch 82/100\n",
      "838/838 [==============================] - 9s 10ms/step - loss: 0.9019 - accuracy: 0.6353 - val_loss: 0.9073 - val_accuracy: 0.6377\n",
      "Epoch 83/100\n",
      "838/838 [==============================] - 9s 10ms/step - loss: 0.9028 - accuracy: 0.6358 - val_loss: 0.9061 - val_accuracy: 0.6371\n",
      "Epoch 84/100\n",
      "838/838 [==============================] - 9s 10ms/step - loss: 0.9031 - accuracy: 0.6346 - val_loss: 0.9020 - val_accuracy: 0.6367\n",
      "Epoch 85/100\n",
      "838/838 [==============================] - 9s 10ms/step - loss: 0.9023 - accuracy: 0.6330 - val_loss: 0.8925 - val_accuracy: 0.6416\n",
      "Epoch 86/100\n",
      "838/838 [==============================] - 9s 10ms/step - loss: 0.9012 - accuracy: 0.6363 - val_loss: 0.8862 - val_accuracy: 0.6388\n",
      "Epoch 87/100\n",
      "838/838 [==============================] - 9s 10ms/step - loss: 0.9004 - accuracy: 0.6342 - val_loss: 0.9012 - val_accuracy: 0.6348\n",
      "Epoch 88/100\n",
      "838/838 [==============================] - 8s 9ms/step - loss: 0.8990 - accuracy: 0.6362 - val_loss: 0.8996 - val_accuracy: 0.6357\n",
      "Epoch 89/100\n",
      "838/838 [==============================] - 8s 9ms/step - loss: 0.9077 - accuracy: 0.6315 - val_loss: 0.9011 - val_accuracy: 0.6342\n",
      "Epoch 90/100\n",
      "838/838 [==============================] - 8s 9ms/step - loss: 0.9011 - accuracy: 0.6345 - val_loss: 0.8940 - val_accuracy: 0.6469\n",
      "Epoch 91/100\n",
      "838/838 [==============================] - 5s 6ms/step - loss: 0.9016 - accuracy: 0.6338 - val_loss: 0.8852 - val_accuracy: 0.6492\n",
      "Epoch 92/100\n",
      "838/838 [==============================] - 4s 5ms/step - loss: 0.9008 - accuracy: 0.6349 - val_loss: 0.8917 - val_accuracy: 0.6379\n",
      "Epoch 93/100\n",
      "838/838 [==============================] - 6s 7ms/step - loss: 0.9024 - accuracy: 0.6352 - val_loss: 0.8987 - val_accuracy: 0.6330\n",
      "Epoch 94/100\n",
      "838/838 [==============================] - 6s 7ms/step - loss: 0.9031 - accuracy: 0.6316 - val_loss: 0.8986 - val_accuracy: 0.6352\n",
      "Epoch 95/100\n",
      "838/838 [==============================] - 7s 8ms/step - loss: 0.9011 - accuracy: 0.6325 - val_loss: 0.8961 - val_accuracy: 0.6360\n",
      "Epoch 96/100\n",
      "838/838 [==============================] - 7s 8ms/step - loss: 0.8999 - accuracy: 0.6350 - val_loss: 0.8891 - val_accuracy: 0.6454\n",
      "Epoch 97/100\n",
      "838/838 [==============================] - 8s 9ms/step - loss: 0.9015 - accuracy: 0.6365 - val_loss: 0.8983 - val_accuracy: 0.6342\n",
      "Epoch 98/100\n",
      "838/838 [==============================] - 7s 8ms/step - loss: 0.8974 - accuracy: 0.6355 - val_loss: 0.8914 - val_accuracy: 0.6377\n",
      "Epoch 99/100\n",
      "838/838 [==============================] - 6s 7ms/step - loss: 0.9001 - accuracy: 0.6349 - val_loss: 0.8942 - val_accuracy: 0.6359\n",
      "Epoch 100/100\n",
      "838/838 [==============================] - 7s 9ms/step - loss: 0.8965 - accuracy: 0.6363 - val_loss: 0.8948 - val_accuracy: 0.6383\n"
     ]
    }
   ],
   "source": [
    "model.compile(optimizer='Adam', loss='sparse_categorical_crossentropy', metrics=['accuracy'])\n",
    "history = model.fit(X_train, y_train, validation_data = (X_test_val, y_test_val), epochs=100)"
   ]
  },
  {
   "cell_type": "code",
   "execution_count": 10,
   "metadata": {},
   "outputs": [
    {
     "name": "stdout",
     "output_type": "stream",
     "text": [
      "Train: 0.669, Validation: 0.638\n"
     ]
    },
    {
     "data": {
      "text/plain": [
       "<matplotlib.legend.Legend at 0x1cee5ef6b50>"
      ]
     },
     "execution_count": 10,
     "metadata": {},
     "output_type": "execute_result"
    },
    {
     "data": {
      "image/png": "[encoded data removed]",
      "text/plain": [
       "<Figure size 640x480 with 1 Axes>"
      ]
     },
     "metadata": {
      "needs_background": "light"
     },
     "output_type": "display_data"
    }
   ],
   "source": [
    "# from sklearn.model_selection import GridSearchCV\n",
    "# from keras.wrappers.scikit_learn import KerasClassifier\n",
    "# model.predict(X_test_val)\n",
    "# model.evaluate(X_test_val, y_test_val)\n",
    "from matplotlib.pyplot import figure\n",
    "\n",
    "\n",
    "figure(figsize=(8, 6), dpi=80)\n",
    "\n",
    "# evaluate the model\n",
    "_, train_acc = model.evaluate(X_train, y_train, verbose=0)\n",
    "_, test_acc = model.evaluate(X_test_val, y_test_val, verbose=0)\n",
    "print('Train: %.3f, Validation: %.3f' % (train_acc, test_acc))\n",
    "# plot loss during training\n",
    "plt.subplot(211)\n",
    "plt.title('Loss and Accuracy of Neural Network')\n",
    "p1, = plt.plot(history.history['loss'])\n",
    "p2, = plt.plot(history.history['val_loss'])\n",
    "p3, = plt.plot(history.history['accuracy'])\n",
    "p4, = plt.plot(history.history['val_accuracy'])\n",
    "\n",
    "from matplotlib.font_manager import FontProperties\n",
    "fontP = FontProperties()\n",
    "fontP.set_size('medium')\n",
    "\n",
    "\n",
    "\n",
    "plt.xlabel(\"Epochs\")\n",
    "plt.ylabel(\"Loss and Accuracy\")\n",
    "plt.legend([p1, p2, p3, p4], ['Train Loss', 'Test Loss', 'Train Accuracy', 'Test Accuracy'], loc='upper right', prop=fontP)\n"
   ]
  },
  {
   "cell_type": "code",
   "execution_count": null,
   "metadata": {},
   "outputs": [],
   "source": [
    "\n",
    "\n"
   ]
  },
  {
   "cell_type": "code",
   "execution_count": 11,
   "metadata": {},
   "outputs": [
    {
     "name": "stdout",
     "output_type": "stream",
     "text": [
      "140/140 [==============================] - 0s 1ms/step\n",
      "              precision    recall  f1-score   support\n",
      "\n",
      "           1       0.68      0.81      0.74      2831\n",
      "           2       0.74      0.29      0.41      1520\n",
      "           3       0.55      0.60      0.57      2353\n",
      "           4       0.64      0.71      0.67      2228\n",
      "\n",
      "    accuracy                           0.64      8932\n",
      "   macro avg       0.65      0.60      0.60      8932\n",
      "weighted avg       0.65      0.64      0.62      8932\n",
      "\n",
      "Confusion matrix, without normalization\n",
      "[[2284   46  288  213]\n",
      " [ 571  435  399  115]\n",
      " [ 288  103 1406  556]\n",
      " [ 197    2  453 1576]]\n"
     ]
    },
    {
     "data": {
      "image/png": "[encoded data removed]",
      "text/plain": [
       "<Figure size 432x288 with 2 Axes>"
      ]
     },
     "metadata": {
      "needs_background": "light"
     },
     "output_type": "display_data"
    }
   ],
   "source": [
    "from sklearn.metrics import classification_report\n",
    "\n",
    "y_pred = model.predict(X_test_val, batch_size=64, verbose=1)\n",
    "y_pred_bool = np.argmax(y_pred, axis=1)\n",
    "\n",
    "print(classification_report(y_test_val, y_pred_bool))\n",
    "\n",
    "from sklearn.metrics import plot_confusion_matrix\n",
    "from sklearn.metrics import confusion_matrix\n",
    "\n",
    "%matplotlib inline\n",
    "from sklearn.metrics import confusion_matrix\n",
    "import itertools\n",
    "import matplotlib.pyplot as plt\n",
    "\n",
    "cm = confusion_matrix(y_true=y_test_val, y_pred=y_pred_bool)\n",
    "\n",
    "def plot_confusion_matrix(cm, classes,\n",
    "                        normalize=False,\n",
    "                        title='Confusion matrix',\n",
    "                        cmap=plt.cm.Blues):\n",
    "    \"\"\"\n",
    "    This function prints and plots the confusion matrix.\n",
    "    Normalization can be applied by setting `normalize=True`.\n",
    "    \"\"\"\n",
    "    plt.imshow(cm, interpolation='nearest', cmap=cmap)\n",
    "    plt.title(title)\n",
    "    plt.colorbar()\n",
    "    tick_marks = np.arange(len(classes))\n",
    "    plt.xticks(tick_marks, classes, rotation=45)\n",
    "    plt.yticks(tick_marks, classes)\n",
    "\n",
    "    if normalize:\n",
    "        cm = cm.astype('float') / cm.sum(axis=1)[:, np.newaxis]\n",
    "        print(\"Normalized confusion matrix\")\n",
    "    else:\n",
    "        print('Confusion matrix, without normalization')\n",
    "\n",
    "    print(cm)\n",
    "\n",
    "    thresh = cm.max() / 2.\n",
    "    for i, j in itertools.product(range(cm.shape[0]), range(cm.shape[1])):\n",
    "        plt.text(j, i, cm[i, j],\n",
    "            horizontalalignment=\"center\",\n",
    "            color=\"white\" if cm[i, j] > thresh else \"black\")\n",
    "\n",
    "    plt.tight_layout()\n",
    "    plt.ylabel('True label')\n",
    "    plt.xlabel('Predicted label')\n",
    "    \n",
    "\n",
    "def plot_confusion_matrix(cm, classes,\n",
    "                        normalize=False,\n",
    "                        title='Confusion matrix',\n",
    "                        cmap=plt.cm.Blues):\n",
    "    \"\"\"\n",
    "    This function prints and plots the confusion matrix.\n",
    "    Normalization can be applied by setting `normalize=True`.\n",
    "    \"\"\"\n",
    "    plt.imshow(cm, interpolation='nearest', cmap=cmap)\n",
    "    plt.title(title)\n",
    "    plt.colorbar()\n",
    "    tick_marks = np.arange(len(classes))\n",
    "    plt.xticks(tick_marks, classes, rotation=45)\n",
    "    plt.yticks(tick_marks, classes)\n",
    "\n",
    "    if normalize:\n",
    "        cm = cm.astype('float') / cm.sum(axis=1)[:, np.newaxis]\n",
    "        print(\"Normalized confusion matrix\")\n",
    "    else:\n",
    "        print('Confusion matrix, without normalization')\n",
    "\n",
    "    print(cm)\n",
    "\n",
    "    thresh = cm.max() / 2.\n",
    "    for i, j in itertools.product(range(cm.shape[0]), range(cm.shape[1])):\n",
    "        plt.text(j, i, cm[i, j],\n",
    "            horizontalalignment=\"center\",\n",
    "            color=\"white\" if cm[i, j] > thresh else \"black\")\n",
    "\n",
    "    plt.tight_layout()\n",
    "    plt.ylabel('True label')\n",
    "    plt.xlabel('Predicted label')\n",
    "\n",
    "labels=['Food Secure', 'Mildly Food Insecure', 'Moderately Food Insecure', 'Severely Food Insecure']\n",
    "\n",
    "plot_confusion_matrix(cm=cm, classes=labels, title='Confusion Matrix')\n",
    "plt.savefig('NN.png',format='png',bbox_inches = \"tight\")\n",
    "\n"
   ]
  },
  {
   "cell_type": "code",
   "execution_count": 215,
   "metadata": {},
   "outputs": [
    {
     "name": "stdout",
     "output_type": "stream",
     "text": [
      "Accuracy: 0.317\n"
     ]
    }
   ],
   "source": [
    "from sklearn.dummy import DummyClassifier\n",
    "from sklearn.metrics import accuracy_score\n",
    "model = DummyClassifier(strategy='most_frequent')\n",
    "# fit model\n",
    "model.fit(X_train, y_train)\n",
    "# make predictions\n",
    "yhat = model.predict(X_test_val)\n",
    "# calculate accuracy\n",
    "accuracy = accuracy_score(y_test_val, yhat)\n",
    "print('Accuracy: %.3f' % accuracy)"
   ]
  },
  {
   "cell_type": "code",
   "execution_count": 216,
   "metadata": {},
   "outputs": [
    {
     "name": "stderr",
     "output_type": "stream",
     "text": [
      "C:\\Users\\Asus\\Anaconda3\\lib\\site-packages\\sklearn\\neural_network\\_multilayer_perceptron.py:582: ConvergenceWarning: Stochastic Optimizer: Maximum iterations (200) reached and the optimization hasn't converged yet.\n",
      "  warnings.warn(\n"
     ]
    },
    {
     "data": {
      "text/plain": [
       "0.6392745185848634"
      ]
     },
     "execution_count": 216,
     "metadata": {},
     "output_type": "execute_result"
    }
   ],
   "source": [
    "from sklearn.multiclass import OneVsRestClassifier\n",
    "from sklearn.neural_network import MLPClassifier\n",
    "classifier = MLPClassifier().fit(X_train, y_train)\n",
    "score = classifier.score(X_test_val, y_test_val)\n",
    "score"
   ]
  },
  {
   "cell_type": "code",
   "execution_count": 217,
   "metadata": {},
   "outputs": [
    {
     "name": "stdout",
     "output_type": "stream",
     "text": [
      "              precision    recall  f1-score   support\n",
      "\n",
      "           1       0.68      0.81      0.74      2831\n",
      "           2       0.62      0.39      0.48      1520\n",
      "           3       0.56      0.59      0.58      2353\n",
      "           4       0.68      0.64      0.66      2228\n",
      "\n",
      "    accuracy                           0.64      8932\n",
      "   macro avg       0.63      0.61      0.61      8932\n",
      "weighted avg       0.64      0.64      0.63      8932\n",
      "\n"
     ]
    }
   ],
   "source": [
    "y_pred = classifier.predict(X_test_val)\n",
    "\n",
    "print(classification_report(y_test_val, y_pred))"
   ]
  },
  {
   "cell_type": "code",
   "execution_count": 574,
   "metadata": {},
   "outputs": [
    {
     "name": "stderr",
     "output_type": "stream",
     "text": [
      "C:\\Users\\Asus\\Anaconda3\\lib\\site-packages\\sklearn\\ensemble\\forest.py:245: FutureWarning: The default value of n_estimators will change from 10 in version 0.20 to 100 in 0.22.\n",
      "  \"10 in version 0.20 to 100 in 0.22.\", FutureWarning)\n"
     ]
    },
    {
     "name": "stdout",
     "output_type": "stream",
     "text": [
      "0.6553963278101209\n",
      "              precision    recall  f1-score   support\n",
      "\n",
      "           1       0.69      0.82      0.75      2831\n",
      "           2       0.62      0.42      0.50      1520\n",
      "           3       0.61      0.56      0.59      2353\n",
      "           4       0.66      0.70      0.68      2228\n",
      "\n",
      "    accuracy                           0.66      8932\n",
      "   macro avg       0.65      0.63      0.63      8932\n",
      "weighted avg       0.65      0.66      0.65      8932\n",
      "\n"
     ]
    }
   ],
   "source": [
    "from sklearn.ensemble import RandomForestClassifier\n",
    "classifier1 = RandomForestClassifier().fit(X_train, y_train)\n",
    "score1 = classifier1.score(X_test_val, y_test_val)\n",
    "print(score1)\n",
    "\n",
    "y_pred1 = classifier1.predict(X_test_val)\n",
    "\n",
    "print(classification_report(y_test_val, y_pred1))"
   ]
  },
  {
   "cell_type": "code",
   "execution_count": 573,
   "metadata": {},
   "outputs": [
    {
     "name": "stderr",
     "output_type": "stream",
     "text": [
      "C:\\Users\\Asus\\Anaconda3\\lib\\site-packages\\sklearn\\ensemble\\forest.py:245: FutureWarning: The default value of n_estimators will change from 10 in version 0.20 to 100 in 0.22.\n",
      "  \"10 in version 0.20 to 100 in 0.22.\", FutureWarning)\n"
     ]
    },
    {
     "name": "stdout",
     "output_type": "stream",
     "text": [
      "0.6510300044782803\n",
      "              precision    recall  f1-score   support\n",
      "\n",
      "           1       0.70      0.82      0.76      2831\n",
      "           2       0.62      0.44      0.51      1520\n",
      "           3       0.61      0.57      0.59      2353\n",
      "           4       0.67      0.70      0.68      2228\n",
      "\n",
      "    accuracy                           0.66      8932\n",
      "   macro avg       0.65      0.63      0.64      8932\n",
      "weighted avg       0.65      0.66      0.65      8932\n",
      "\n"
     ]
    }
   ],
   "source": [
    "classifier2 = ExtraTreesClassifier().fit(X_train, y_train)\n",
    "score2 = classifier2.score(X_test_val, y_test_val)\n",
    "print(score1)\n",
    "\n",
    "y_pred2 = classifier2.predict(X_test_val)\n",
    "\n",
    "print(classification_report(y_test_val, y_pred2))"
   ]
  },
  {
   "cell_type": "code",
   "execution_count": null,
   "metadata": {
    "scrolled": false
   },
   "outputs": [],
   "source": []
  },
  {
   "cell_type": "code",
   "execution_count": null,
   "metadata": {},
   "outputs": [],
   "source": []
  },
  {
   "cell_type": "code",
   "execution_count": null,
   "metadata": {},
   "outputs": [],
   "source": []
  },
  {
   "cell_type": "code",
   "execution_count": null,
   "metadata": {},
   "outputs": [],
   "source": []
  },
  {
   "cell_type": "code",
   "execution_count": null,
   "metadata": {},
   "outputs": [],
   "source": []
  }
 ],
 "metadata": {
  "kernelspec": {
   "display_name": "Python 3",
   "language": "python",
   "name": "python3"
  },
  "language_info": {
   "codemirror_mode": {
    "name": "ipython",
    "version": 3
   },
   "file_extension": ".py",
   "mimetype": "text/x-python",
   "name": "python",
   "nbconvert_exporter": "python",
   "pygments_lexer": "ipython3",
   "version": "3.8.5"
  }
 },
 "nbformat": 4,
 "nbformat_minor": 2
}
